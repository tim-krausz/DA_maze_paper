{
 "cells": [
  {
   "cell_type": "code",
   "execution_count": 1,
   "id": "b2a898b4",
   "metadata": {},
   "outputs": [],
   "source": [
    "import numpy as np\n",
    "import matplotlib.pyplot as plt\n",
    "import pandas as pd\n",
    "import seaborn as sns\n",
    "sns.set()\n",
    "plt.style.use('default')\n",
    "plt.style.use(\"seaborn-poster\")\n",
    "from combined_phot_funcs import *\n",
    "from hexLevelAnalyses import *\n",
    "from photometryQuantifications import *\n",
    "from valPropRats import *\n",
    "%matplotlib qt"
   ]
  },
  {
   "cell_type": "code",
   "execution_count": 3,
   "id": "139ba4c9",
   "metadata": {},
   "outputs": [],
   "source": [
    "loadpath = \"/Volumes/Tim/Photometry/10MfRatDataSet/\"\n",
    "datName = \"photLevelDf\"\n",
    "df = pd.read_csv(loadpath+datName+\".csv\")\n",
    "photrats = PhotRats(None)\n",
    "photrats.df = reduce_mem_usage(df)\n",
    "del df\n",
    "photrats.directory_prefix = loadpath"
   ]
  },
  {
   "cell_type": "markdown",
   "id": "f31db176-ca1e-4136-b670-d60278f4ca39",
   "metadata": {},
   "source": [
    "# recompute nom_rwd_chosen"
   ]
  },
  {
   "cell_type": "code",
   "execution_count": 6,
   "id": "e5d7b8cd-29d6-4d51-a28c-24ace48c2039",
   "metadata": {},
   "outputs": [],
   "source": [
    "photrats.factor = \"nom_rwd\"\n",
    "photrats.get_vals_byChosenEtc(chosen_only=True)"
   ]
  },
  {
   "cell_type": "code",
   "execution_count": 10,
   "id": "61e7aad5-c7fb-4959-9927-47f508617e6d",
   "metadata": {},
   "outputs": [],
   "source": [
    "create_triframe(photrats)"
   ]
  },
  {
   "cell_type": "code",
   "execution_count": 11,
   "id": "6ddbd729-713b-45ec-8b2a-b641be86d402",
   "metadata": {},
   "outputs": [],
   "source": [
    "photrats.get_portQvals(qtype=\"port\",level=\"rat\")"
   ]
  },
  {
   "cell_type": "code",
   "execution_count": 12,
   "id": "d184ade2-2a45-4045-8298-4a68500bccdf",
   "metadata": {
    "tags": []
   },
   "outputs": [
    {
     "name": "stdout",
     "output_type": "stream",
     "text": [
      "converting hexlabels to hex + direction (pairedHexState)\n"
     ]
    }
   ],
   "source": [
    "create_hexDf_startEndRepeat(photrats)"
   ]
  },
  {
   "cell_type": "code",
   "execution_count": 18,
   "id": "aa810fb3-8c7c-4b0e-bfcb-6134af982ba2",
   "metadata": {},
   "outputs": [
    {
     "data": {
      "text/plain": [
       "(82,)"
      ]
     },
     "execution_count": 18,
     "metadata": {},
     "output_type": "execute_result"
    }
   ],
   "source": [
    "np.shape(photrats.hexDf.session.unique())"
   ]
  },
  {
   "cell_type": "code",
   "execution_count": 16,
   "id": "5933b75e-f136-44f4-86e9-2e84e5c68014",
   "metadata": {},
   "outputs": [],
   "source": [
    "test = photrats.hexDf.loc[photrats.hexDf.session==37,['hexlabel','port']].copy()"
   ]
  },
  {
   "cell_type": "code",
   "execution_count": 21,
   "id": "f837c601-d56c-41db-8a3e-b243aa51976b",
   "metadata": {},
   "outputs": [],
   "source": [
    "portInds = photrats.hexDf.loc[photrats.hexDf.port!=-100].index\n",
    "ports2drop = portInds.values[np.concatenate([[False],np.diff(portInds)==1])]\n",
    "photrats.hexDf.drop(ports2drop,axis=0,inplace=True)"
   ]
  },
  {
   "cell_type": "code",
   "execution_count": 22,
   "id": "eac12ee3-f0ac-46e1-b984-24173d5d94f7",
   "metadata": {},
   "outputs": [],
   "source": [
    "photrats.hexDf.to_csv(photrats.directory_prefix+\"hexLevelDf_cornerHexCorrectAlignment.csv\")"
   ]
  },
  {
   "cell_type": "markdown",
   "id": "7076141b-4ca0-4e9b-8b7c-497f348d87fc",
   "metadata": {},
   "source": [
    "# DA vs vel x cor. Session wide and during running bouts."
   ]
  },
  {
   "cell_type": "code",
   "execution_count": 50,
   "id": "05dee206-5a0c-46db-8a3d-e6f16d84e2f0",
   "metadata": {},
   "outputs": [],
   "source": [
    "from statsmodels.tsa.stattools import ccf"
   ]
  },
  {
   "cell_type": "code",
   "execution_count": 74,
   "id": "4e326d02-7017-4178-a634-7288a62782ee",
   "metadata": {},
   "outputs": [],
   "source": [
    "#for each session, run x-cor between DA and velocity\n",
    "window = [-int(photrats.fs*5)+1,int(photrats.fs*5)]\n",
    "xcors_rat = []\n",
    "for rat in photrats.df.rat.unique():\n",
    "    xcors = []\n",
    "    for s in photrats.df.loc[photrats.df.rat==rat,\"session\"].unique():\n",
    "        dat = photrats.df.loc[photrats.df.session==s,].copy()\n",
    "        seshVel = dat.vel.interpolate().values[dat.vel.interpolate().notnull()]\n",
    "        seshDA = dat.green_z_scored.values[dat.vel.interpolate().notnull()]\n",
    "        backwards = ccf(seshDA[:window[1]], seshVel[:window[1]], adjusted=False)[::-1]\n",
    "        forwards = ccf(seshVel[:window[1]], seshDA[:window[1]], adjusted=False)\n",
    "        xcors.append(np.r_[backwards[:-1], forwards])\n",
    "    xcors_rat.append(np.mean(xcors,axis=0))"
   ]
  },
  {
   "cell_type": "code",
   "execution_count": 72,
   "id": "6597b676-7e7e-443d-b947-e0f6a507ac24",
   "metadata": {},
   "outputs": [],
   "source": [
    "fig = plt.figure()\n",
    "xvals = np.arange(window[0],window[1])/photrats.fs\n",
    "plt.plot(xvals,np.mean(xcors,axis=0))\n",
    "plt.fill_between(xvals,np.mean(xcors,axis=0)+sem(xcors),np.mean(xcors,axis=0)-sem(xcors),alpha=.5)\n",
    "plt.axvline(x=0,ls='--',color='k',lw=2)\n",
    "plt.axhline(y=0,ls='--',color='k',lw=2)\n",
    "plt.xlabel(\"Lag relative to speed (s)\")\n",
    "plt.ylabel(\"Correlation with DA\")\n",
    "plt.xticks(np.arange(-5,6))\n",
    "plt.tight_layout()\n",
    "fig.savefig(photrats.directory_prefix+\"velVsDAxcor_avgOverSessions.pdf\")"
   ]
  },
  {
   "cell_type": "code",
   "execution_count": 75,
   "id": "067e0abe-c71e-41b0-9ec2-9575a97407ba",
   "metadata": {},
   "outputs": [],
   "source": [
    "fig = plt.figure()\n",
    "xvals = np.arange(window[0],window[1])/photrats.fs\n",
    "plt.plot(xvals,np.mean(xcors_rat,axis=0))\n",
    "plt.fill_between(xvals,np.mean(xcors_rat,axis=0)+sem(xcors_rat),np.mean(xcors_rat,axis=0)-sem(xcors_rat),alpha=.5)\n",
    "plt.axvline(x=0,ls='--',color='k',lw=2)\n",
    "plt.axhline(y=0,ls='--',color='k',lw=2)\n",
    "plt.xlabel(\"Lag relative to speed (s)\")\n",
    "plt.ylabel(\"Correlation with DA\")\n",
    "plt.xticks(np.arange(-5,6))\n",
    "plt.tight_layout()\n",
    "fig.savefig(photrats.directory_prefix+\"velVsDAxcor_avgOverRats.pdf\")"
   ]
  },
  {
   "cell_type": "code",
   "execution_count": 48,
   "id": "7dfcf339",
   "metadata": {
    "tags": []
   },
   "outputs": [
    {
     "name": "stdout",
     "output_type": "stream",
     "text": [
      "                paired_tmatrix: 248.2 KiB\n",
      "                   paired_tmat: 124.1 KiB\n",
      "                     tmatrix50: 115.0 KiB\n",
      "                       tmatrix: 112.7 KiB\n",
      "                        phexdf: 16.4 KiB\n",
      "                          data: 13.5 KiB\n",
      "                       arrowdf: 10.3 KiB\n",
      "                            _5:  5.8 KiB\n",
      "                            _6:  5.8 KiB\n",
      "        pairedHex_adjacentDict:  4.6 KiB\n"
     ]
    }
   ],
   "source": [
    "import sys\n",
    "def sizeof_fmt(num, suffix='B'):\n",
    "    ''' by Fred Cirera,  https://stackoverflow.com/a/1094933/1870254, modified'''\n",
    "    for unit in ['','Ki','Mi','Gi','Ti','Pi','Ei','Zi']:\n",
    "        if abs(num) < 1024.0:\n",
    "            return \"%3.1f %s%s\" % (num, unit, suffix)\n",
    "        num /= 1024.0\n",
    "    return \"%.1f %s%s\" % (num, 'Yi', suffix)\n",
    "\n",
    "for name, size in sorted(((name, sys.getsizeof(value)) for name, value in locals().items()),\n",
    "                         key= lambda x: -x[1])[:10]:\n",
    "    print(\"{:>30}: {:>8}\".format(name, sizeof_fmt(size)))\n"
   ]
  },
  {
   "cell_type": "markdown",
   "id": "c849504f",
   "metadata": {},
   "source": [
    "## plot individual session dLight, reference, and velocity traces"
   ]
  },
  {
   "cell_type": "code",
   "execution_count": 19,
   "id": "6296c613",
   "metadata": {},
   "outputs": [],
   "source": [
    "plt.figure()\n",
    "plt.hist(photrats.df.loc[photrats.df.session==25,\"green_z_scored\"].values,bins=100)\n",
    "plt.tight_layout()"
   ]
  },
  {
   "cell_type": "code",
   "execution_count": 202,
   "id": "473c97a9",
   "metadata": {
    "collapsed": true,
    "jupyter": {
     "outputs_hidden": true
    },
    "tags": []
   },
   "outputs": [
    {
     "data": {
      "text/plain": [
       "array([['IM-1272', 12082020, 2, 'prob'],\n",
       "       ['IM-1272', 12092020, 3, 'prob'],\n",
       "       ['IM-1272', 12102020, 4, 'prob'],\n",
       "       ['IM-1273', 12092020, 12, 'prob'],\n",
       "       ['IM-1273', 12152020, 15, 'prob'],\n",
       "       ['IM-1276', 12042020, 23, 'prob'],\n",
       "       ['IM-1276', 12072020, 24, 'prob'],\n",
       "       ['IM-1276', 12112020, 25, 'prob'],\n",
       "       ['IM-1276', 12152020, 26, 'prob'],\n",
       "       ['IM-1276', 12172020, 27, 'prob'],\n",
       "       ['IM-1291', 12092020, 39, 'prob'],\n",
       "       ['IM-1291', 12102020, 40, 'prob'],\n",
       "       ['IM-1291', 12082020, 38, 'prob'],\n",
       "       ['IM-1291', 12152020, 41, 'prob'],\n",
       "       ['IM-1291', 12162020, 42, 'prob'],\n",
       "       ['IM-1292', 12142020, 52, 'prob'],\n",
       "       ['IM-1292', 12152020, 53, 'prob'],\n",
       "       ['IM-1292', 12162020, 54, 'prob'],\n",
       "       ['IM-1272', 8182020, 5, 'barrier'],\n",
       "       ['IM-1272', 8242020, 6, 'barrier'],\n",
       "       ['IM-1272', 8282020, 7, 'barrier'],\n",
       "       ['IM-1272', 10162020, 0, 'barrier'],\n",
       "       ['IM-1272', 11032020, 1, 'barrier'],\n",
       "       ['IM-1273', 8192020, 17, 'barrier'],\n",
       "       ['IM-1273', 10272020, 9, 'barrier'],\n",
       "       ['IM-1273', 11122020, 11, 'barrier'],\n",
       "       ['IM-1276', 8172020, 28, 'barrier'],\n",
       "       ['IM-1276', 8212020, 29, 'barrier'],\n",
       "       ['IM-1276', 8272020, 30, 'barrier'],\n",
       "       ['IM-1276', 10162020, 20, 'barrier'],\n",
       "       ['IM-1276', 11112020, 21, 'barrier'],\n",
       "       ['IM-1276', 11122020, 22, 'barrier'],\n",
       "       ['IM-1291', 10062020, 32, 'barrier'],\n",
       "       ['IM-1291', 10202020, 35, 'barrier'],\n",
       "       ['IM-1291', 10312020, 36, 'barrier'],\n",
       "       ['IM-1291', 11022020, 37, 'barrier'],\n",
       "       ['IM-1292', 10032020, 43, 'barrier'],\n",
       "       ['IM-1292', 10062020, 44, 'barrier'],\n",
       "       ['IM-1292', 10072020, 45, 'barrier'],\n",
       "       ['IM-1292', 10192020, 46, 'barrier'],\n",
       "       ['IM-1292', 10202020, 47, 'barrier'],\n",
       "       ['IM-1292', 10272020, 48, 'barrier'],\n",
       "       ['IM-1322', 11202020, 55, 'barrier'],\n",
       "       ['IM-1322', 11222020, 56, 'barrier'],\n",
       "       ['IM-1322', 11242020, 57, 'barrier'],\n",
       "       ['IM-1322', 11252020, 58, 'barrier'],\n",
       "       ['IM-1322', 11282020, 59, 'barrier'],\n",
       "       ['IM-1322', 11292020, 60, 'barrier'],\n",
       "       ['IM-1322', 11302020, 61, 'barrier'],\n",
       "       ['IM-1398', 9012021, 62, 'prob'],\n",
       "       ['IM-1398', 9032021, 63, 'prob'],\n",
       "       ['IM-1398', 9152021, 64, 'barrier'],\n",
       "       ['IM-1398', 9162021, 65, 'barrier'],\n",
       "       ['IM-1398', 9202021, 66, 'prob'],\n",
       "       ['IM-1398', 9212021, 67, 'prob'],\n",
       "       ['IM-1398', 9222021, 68, 'barrier'],\n",
       "       ['IM-1398', 9232021, 69, 'barrier'],\n",
       "       ['IM-1398', 9282021, 70, 'prob'],\n",
       "       ['IM-1398', 9302021, 71, 'prob'],\n",
       "       ['IM-1398', 10052021, 72, 'barrier'],\n",
       "       ['IM-1434', 3112022, 73, 'barrier'],\n",
       "       ['IM-1434', 4072022, 74, 'prob'],\n",
       "       ['IM-1434', 4132022, 75, 'barrier'],\n",
       "       ['IM-1434', 4192022, 76, 'barrier'],\n",
       "       ['IM-1434', 3102022, 77, 'prob'],\n",
       "       ['IM-1478', 7192022, 89, 'barrier'],\n",
       "       ['IM-1478', 7182022, 90, 'prob'],\n",
       "       ['IM-1478', 7172022, 91, 'prob'],\n",
       "       ['IM-1478', 7162022, 92, 'barrier'],\n",
       "       ['IM-1478', 7152022, 93, 'barrier'],\n",
       "       ['IM-1478', 7142022, 94, 'prob'],\n",
       "       ['IM-1478', 7132022, 95, 'prob'],\n",
       "       ['IM-1478', 7202022, 96, 'prob'],\n",
       "       ['IM-1478', 7242022, 97, 'prob'],\n",
       "       ['IM-1478', 7252022, 98, 'barrier'],\n",
       "       ['IM-1478', 7262022, 99, 'prob'],\n",
       "       ['IM-1478', 7272022, 100, 'barrier'],\n",
       "       ['IM-1532', 11212022, 101, 'prob'],\n",
       "       ['IM-1532', 11232022, 102, 'barrier'],\n",
       "       ['IM-1532', 11302022, 103, 'prob'],\n",
       "       ['IM-1532', 12012022, 104, 'barrier'],\n",
       "       ['IM-1532', 12022022, 105, 'prob']], dtype=object)"
      ]
     },
     "execution_count": 202,
     "metadata": {},
     "output_type": "execute_result"
    }
   ],
   "source": [
    "photrats.df.loc[photrats.df.session.diff()!=0,[\"rat\",\"date\",\"session\",\"session_type\"]].values"
   ]
  },
  {
   "cell_type": "code",
   "execution_count": 238,
   "id": "e0f70ae2",
   "metadata": {},
   "outputs": [],
   "source": [
    "photrats.directory_prefix = '/Volumes/Tim-1/Photometry Data/'"
   ]
  },
  {
   "cell_type": "code",
   "execution_count": 241,
   "id": "29208cfe",
   "metadata": {},
   "outputs": [],
   "source": [
    "fig,s = plot_individualSeshTrace_RwdAndNewHexLabeled(photrats,\\\n",
    "                                        75,plot_newlyAvail=False,plot_ref=True)"
   ]
  },
  {
   "cell_type": "code",
   "execution_count": 240,
   "id": "c2672bca",
   "metadata": {},
   "outputs": [],
   "source": [
    "fig.savefig(loadpath+\"s\"+str(s)+\"_individual_sesh_trace_rampRwdAndNewlyAvailEntry.pdf\")"
   ]
  },
  {
   "cell_type": "code",
   "execution_count": 243,
   "id": "ec8bde71",
   "metadata": {},
   "outputs": [],
   "source": [
    "fig.savefig(loadpath+\"s\"+str(s)+\"_individual_sesh_trace_rampAndRwd.pdf\")"
   ]
  },
  {
   "cell_type": "markdown",
   "id": "2168d1fc",
   "metadata": {},
   "source": [
    "## plot peak/trough after port entry as a function of p(rwd)"
   ]
  },
  {
   "cell_type": "code",
   "execution_count": 9,
   "id": "855028bb-7052-42af-934c-813340657d4b",
   "metadata": {},
   "outputs": [],
   "source": [
    "photrats.set_plot_trace(\"green_z_scored\")"
   ]
  },
  {
   "cell_type": "code",
   "execution_count": 7,
   "id": "27ad0145",
   "metadata": {},
   "outputs": [],
   "source": [
    "photrats.pool_factor = \"nom_rwd_chosen\"\n",
    "photrats.dat = photrats.df.loc[(photrats.df.rwd==1)&(photrats.df.tri>25),]\n",
    "lowIndsRwd,midIndsRwd,highIndsRwd = photrats.getTriIndsByTerc(rwdtype=\"rwd\")\n",
    "photrats.dat = photrats.df.loc[(photrats.df.rwd!=1)&(photrats.df.tri>25),]\n",
    "lowIndsOm,midIndsOm,highIndsOm = photrats.getTriIndsByTerc(rwdtype=\"om\")"
   ]
  },
  {
   "cell_type": "code",
   "execution_count": 10,
   "id": "3cc36fec",
   "metadata": {
    "tags": []
   },
   "outputs": [],
   "source": [
    "fig = plt.figure(figsize=(4,5.5))\n",
    "plot_peakTroughDaDifAfterPortEntry_barWithRats(photrats,highIndsRwd,midIndsRwd,lowIndsRwd)\n",
    "plot_peakTroughDaDifAfterPortEntry_barWithRats(photrats,highIndsOm,midIndsOm,lowIndsOm,peak=False,pltCol=\"blue\")"
   ]
  },
  {
   "cell_type": "code",
   "execution_count": 15,
   "id": "dffdb019-2f12-4eae-8108-1aad596f74e1",
   "metadata": {},
   "outputs": [],
   "source": [
    "def calc_DaChangeVprobCors(photrats):\n",
    "    rwdCors = []\n",
    "    omCors = []\n",
    "    for rat in photrats.df.rat.unique():\n",
    "        photrats.dat = photrats.df.loc[(photrats.df.rat==rat)\\\n",
    "                                       &(photrats.df.tri>25)&(photrats.df.rwd==1),]\n",
    "        photrats.dat_visinds = photrats.dat.loc[photrats.dat.port!=-100].index\n",
    "        lowInds,midInds,highInds = photrats.getTriIndsByTerc()\n",
    "        daChanges = np.concatenate([calc_DaChangeAtIndsOneRat(photrats,highInds,peak=True),\n",
    "                     calc_DaChangeAtIndsOneRat(photrats,midInds,peak=True),\n",
    "                     calc_DaChangeAtIndsOneRat(photrats,lowInds,peak=True)])\n",
    "        probs = np.concatenate([photrats.dat.loc[highInds,\"nom_rwd_chosen\"].values/100,\\\n",
    "        photrats.dat.loc[midInds,\"nom_rwd_chosen\"].values/100,\\\n",
    "        photrats.dat.loc[lowInds,\"nom_rwd_chosen\"].values/100])\n",
    "        rwdCors.append(pearsonr(probs,daChanges))\n",
    "        photrats.dat = photrats.df.loc[(photrats.df.rat==rat)\\\n",
    "                                       &(photrats.df.tri>25)&(photrats.df.rwd==0),]\n",
    "        photrats.dat_visinds = photrats.dat.loc[photrats.dat.port!=-100].index\n",
    "        lowInds,midInds,highInds = photrats.getTriIndsByTerc()\n",
    "        daChanges = np.concatenate([calc_DaChangeAtIndsOneRat(photrats,highInds,peak=False),\n",
    "                     calc_DaChangeAtIndsOneRat(photrats,midInds,peak=False),\n",
    "                     calc_DaChangeAtIndsOneRat(photrats,lowInds,peak=False)])\n",
    "        probs = np.concatenate([photrats.dat.loc[highInds,\"nom_rwd_chosen\"].values/100,\\\n",
    "        photrats.dat.loc[midInds,\"nom_rwd_chosen\"].values/100,\\\n",
    "        photrats.dat.loc[lowInds,\"nom_rwd_chosen\"].values/100])\n",
    "        omCors.append(pearsonr(probs,daChanges))\n",
    "        pd.DataFrame(rwdCors,columns=[\"coef\",\"p-val\"]).to_csv(photrats.directory_prefix+\"pearsonR_result_DaVsRpe_rwd.csv\")\n",
    "        pd.DataFrame(omCors,columns=[\"coef\",\"p-val\"]).to_csv(photrats.directory_prefix+\"pearsonR_result_DaVsRpe_om.csv\")\n",
    "    return rwdCors,omCors"
   ]
  },
  {
   "cell_type": "code",
   "execution_count": 16,
   "id": "90366635",
   "metadata": {
    "tags": []
   },
   "outputs": [],
   "source": [
    "rwdCors,omCors = calc_DaChangeVprobCors(photrats)\n",
    "plt.suptitle(\"rwd pval = \"+str(wilcoxon(np.array(rwdCors)[:,0])[1])+\\\n",
    "            \"\\n om pval = \"+str(wilcoxon(np.array(omCors)[:,0])[1]))\n",
    "fig.savefig(photrats.directory_prefix+\"pRwdDAPeak_Trough_Dif_RPE_BarPlot_correctAlignment.pdf\")"
   ]
  },
  {
   "cell_type": "code",
   "execution_count": null,
   "id": "6055eef0",
   "metadata": {},
   "outputs": [],
   "source": [
    "rwdCors = pd.read_csv(photrats.directory_prefix+\"pearsonR_result_DaVsRpe_rwd_correctAlignment.csv\")\n",
    "omCors = pd.read_csv(photrats.directory_prefix+\"pearsonR_result_DaVsRpe_om_correctAlignment.csv\")"
   ]
  },
  {
   "cell_type": "code",
   "execution_count": null,
   "id": "f0dbab9c",
   "metadata": {},
   "outputs": [],
   "source": [
    "omCors.coef"
   ]
  },
  {
   "cell_type": "code",
   "execution_count": 17,
   "id": "53f41f0a-66e9-4be4-a663-24eec35c6791",
   "metadata": {
    "collapsed": true,
    "jupyter": {
     "outputs_hidden": true
    },
    "tags": []
   },
   "outputs": [
    {
     "ename": "AttributeError",
     "evalue": "'list' object has no attribute 'coef'",
     "output_type": "error",
     "traceback": [
      "\u001b[0;31m---------------------------------------------------------------------------\u001b[0m",
      "\u001b[0;31mAttributeError\u001b[0m                            Traceback (most recent call last)",
      "\u001b[0;32m<ipython-input-17-8e129025600c>\u001b[0m in \u001b[0;36m<module>\u001b[0;34m\u001b[0m\n\u001b[0;32m----> 1\u001b[0;31m \u001b[0mwilcoxon\u001b[0m\u001b[0;34m(\u001b[0m\u001b[0mrwdCors\u001b[0m\u001b[0;34m.\u001b[0m\u001b[0mcoef\u001b[0m\u001b[0;34m,\u001b[0m\u001b[0malternative\u001b[0m\u001b[0;34m=\u001b[0m\u001b[0;34m\"less\"\u001b[0m\u001b[0;34m)\u001b[0m\u001b[0;34m\u001b[0m\u001b[0;34m\u001b[0m\u001b[0m\n\u001b[0m",
      "\u001b[0;31mAttributeError\u001b[0m: 'list' object has no attribute 'coef'"
     ]
    }
   ],
   "source": [
    "wilcoxon(rwdCors.coef,alternative=\"less\")"
   ]
  },
  {
   "cell_type": "code",
   "execution_count": null,
   "id": "db62f04a",
   "metadata": {},
   "outputs": [],
   "source": [
    "wilcoxon(omCors.coef,alternative=\"less\")"
   ]
  },
  {
   "cell_type": "markdown",
   "id": "469bca66",
   "metadata": {},
   "source": [
    "- get new vs blocked hex entry info\n",
    "  - first need to load transition matrices and barrier configs"
   ]
  },
  {
   "cell_type": "code",
   "execution_count": 29,
   "id": "abca167f",
   "metadata": {},
   "outputs": [
    {
     "name": "stdout",
     "output_type": "stream",
     "text": [
      "no tmat saved for sesh 0 block 7\n",
      "no tmat saved for sesh 45 block 4\n",
      "briefly switching directory_prefix to new Nas...\n",
      "directory_prefix back to nas 8\n",
      "briefly switching directory_prefix to new Nas...\n",
      "directory_prefix back to nas 8\n",
      "briefly switching directory_prefix to new Nas...\n",
      "directory_prefix back to nas 8\n",
      "briefly switching directory_prefix to new Nas...\n",
      "directory_prefix back to nas 8\n",
      "briefly switching directory_prefix to new Nas...\n",
      "directory_prefix back to nas 8\n",
      "briefly switching directory_prefix to new Nas...\n",
      "directory_prefix back to nas 8\n",
      "briefly switching directory_prefix to new Nas...\n",
      "directory_prefix back to nas 8\n",
      "briefly switching directory_prefix to new Nas...\n",
      "directory_prefix back to nas 8\n",
      "briefly switching directory_prefix to new Nas...\n",
      "directory_prefix back to nas 8\n",
      "briefly switching directory_prefix to new Nas...\n",
      "directory_prefix back to nas 8\n",
      "briefly switching directory_prefix to new Nas...\n",
      "directory_prefix back to nas 8\n",
      "briefly switching directory_prefix to new Nas...\n",
      "directory_prefix back to nas 8\n",
      "briefly switching directory_prefix to new Nas...\n",
      "directory_prefix back to nas 8\n",
      "briefly switching directory_prefix to new Nas...\n",
      "directory_prefix back to nas 8\n",
      "briefly switching directory_prefix to new Nas...\n",
      "directory_prefix back to nas 8\n",
      "briefly switching directory_prefix to new Nas...\n",
      "directory_prefix back to nas 8\n",
      "briefly switching directory_prefix to new Nas...\n",
      "directory_prefix back to nas 8\n",
      "unable to find barriers for session 0 block 7\n",
      "unable to find barriers for session 45 block 4\n"
     ]
    }
   ],
   "source": [
    "photrats.directory_prefix = photrats.phot_directory_prefix\n",
    "photrats.load_tmats()\n",
    "photrats.get_barIDs()\n",
    "photrats.directory_prefix = loadpath#photrats.directory_prefix+\""
   ]
  },
  {
   "cell_type": "markdown",
   "id": "8acdc647",
   "metadata": {},
   "source": [
    "- plot port-aligned DA pooled by p(rwd) second half of blocks"
   ]
  },
  {
   "cell_type": "code",
   "execution_count": 27,
   "id": "8c12e63a",
   "metadata": {},
   "outputs": [],
   "source": [
    "create_triframe(photrats)"
   ]
  },
  {
   "cell_type": "code",
   "execution_count": 28,
   "id": "118fadc7-9fdc-411a-a948-5217931fcc84",
   "metadata": {},
   "outputs": [],
   "source": [
    "photrats.triframe.to_csv(photrats.directory_prefix+\"triframe.csv\")"
   ]
  },
  {
   "cell_type": "code",
   "execution_count": 20,
   "id": "adb53954",
   "metadata": {
    "tags": []
   },
   "outputs": [],
   "source": [
    "photrats.get_portQvals(qtype=\"port\",level=\"rat\")\n",
    "#get_portQvals(photrats,qtype=\"port\",level=\"rat\")"
   ]
  },
  {
   "cell_type": "code",
   "execution_count": 21,
   "id": "62c24b59",
   "metadata": {
    "tags": []
   },
   "outputs": [],
   "source": [
    "photrats.factor = \"Q\"\n",
    "photrats.get_vals_byChosenEtc(chosen_only=True)"
   ]
  },
  {
   "cell_type": "code",
   "execution_count": 22,
   "id": "37c844bc",
   "metadata": {},
   "outputs": [],
   "source": [
    "def plot_portAlignedDaInTime(photrats,secondHalfOnly=True,\n",
    "                             poolFactor=\"nom_rwd_chosen\",useRatGroupLevel=True):\n",
    "    photrats.set_pool_factor(poolFactor)\n",
    "    photrats.set_plot_trace(\"green_z_scored\")\n",
    "    fig = plt.figure(figsize = (7,5))\n",
    "    rwdhigh,omhigh,rwdmid,ommid,rwdlow,omlow = photrats.getSessionTercMeans(\\\n",
    "        secondHalf=secondHalfOnly,useRat=useRatGroupLevel)\n",
    "    \n",
    "    high_color = \"red\"#\"indianred\"\n",
    "    mid_color = \"firebrick\"\n",
    "    low_color = \"maroon\"\n",
    "    high_colorOm = \"dodgerblue\"\n",
    "    mid_colorOm = \"blue\"\n",
    "    low_colorOm =\"darkblue\"\n",
    "    \n",
    "    xvals = np.arange(photrats.fs*photrats.plot_window[0],photrats.fs*photrats.plot_window[1]+1)/photrats.fs\n",
    "    ax1 = plt.gca()\n",
    "    plot_avgWithSem(photrats,ax1,xvals,np.vstack((rwdhigh,omhigh)),'lightgrey','-',\\\n",
    "                    [None,-photrats.plot_window[0]*photrats.fs],\"high\")\n",
    "    plot_avgWithSem(photrats,ax1,xvals,rwdhigh,high_color,'-',[-photrats.plot_window[0]*photrats.fs,None])\n",
    "    plot_avgWithSem(photrats,ax1,xvals,omhigh,high_colorOm,':',[-photrats.plot_window[0]*photrats.fs,None])\n",
    "    plot_avgWithSem(photrats,ax1,xvals,np.vstack((rwdmid,ommid)),'darkgrey','-',\\\n",
    "                    [None,-photrats.plot_window[0]*photrats.fs],\"medium\")\n",
    "    plot_avgWithSem(photrats,ax1,xvals,rwdmid,mid_color,'-',[-photrats.plot_window[0]*photrats.fs,None])\n",
    "    plot_avgWithSem(photrats,ax1,xvals,ommid,mid_colorOm,':',[-photrats.plot_window[0]*photrats.fs,None])\n",
    "    ax1.axvline(x=0.0,ymin=-.1,ymax=1.0,color='k',linestyle='--')\n",
    "    ax1.set_xlabel('time (s) from port entry')\n",
    "    plot_avgWithSem(photrats,ax1,xvals,np.vstack((rwdlow,omlow)),'dimgrey','-',\\\n",
    "                    [None,-photrats.plot_window[0]*photrats.fs],\"low\")\n",
    "    plot_avgWithSem(photrats,ax1,xvals,rwdlow,low_color,'-',[-photrats.plot_window[0]*photrats.fs,None])\n",
    "    plot_avgWithSem(photrats,ax1,xvals,omlow,low_colorOm,':',[-photrats.plot_window[0]*photrats.fs,None])\n",
    "    ax1.axvline(x=0.0,ymin=-.1,ymax=1.0,color='k',linestyle='--')\n",
    "    ax1.set_xlabel('time (s) from port entry')\n",
    "    ax1.legend()\n",
    "    plt.xlabel(\"time from port entry (s)\",fontsize='xx-large')\n",
    "    plt.ylabel(\"DA (z-scored)\",fontsize='xx-large')\n",
    "    plt.tight_layout()\n",
    "    return fig"
   ]
  },
  {
   "cell_type": "code",
   "execution_count": 23,
   "id": "5c72dce6",
   "metadata": {
    "collapsed": true,
    "jupyter": {
     "outputs_hidden": true
    },
    "tags": []
   },
   "outputs": [
    {
     "name": "stderr",
     "output_type": "stream",
     "text": [
      "/Users/timkrausz/Library/Mobile Documents/com~apple~CloudDocs/Documents/Maze-photometry-analyses/photometryQuantifications.py:124: RuntimeWarning: Mean of empty slice\n",
      "  ax.plot(xvals[subset[0]:subset[1]],np.nanmean\\\n",
      "/Users/timkrausz/Library/Mobile Documents/com~apple~CloudDocs/Documents/Maze-photometry-analyses/photometryQuantifications.py:126: RuntimeWarning: Mean of empty slice\n",
      "  ax.fill_between(xvals[subset[0]:subset[1]],(np.nanmean\\\n",
      "/Users/timkrausz/Library/Mobile Documents/com~apple~CloudDocs/Documents/Maze-photometry-analyses/photometryQuantifications.py:128: RuntimeWarning: Mean of empty slice\n",
      "  [subset[0]:subset[1]],(np.nanmean\\\n",
      "/Users/timkrausz/Library/Mobile Documents/com~apple~CloudDocs/Documents/Maze-photometry-analyses/photometryQuantifications.py:124: RuntimeWarning: Mean of empty slice\n",
      "  ax.plot(xvals[subset[0]:subset[1]],np.nanmean\\\n",
      "/Users/timkrausz/Library/Mobile Documents/com~apple~CloudDocs/Documents/Maze-photometry-analyses/photometryQuantifications.py:126: RuntimeWarning: Mean of empty slice\n",
      "  ax.fill_between(xvals[subset[0]:subset[1]],(np.nanmean\\\n",
      "/Users/timkrausz/Library/Mobile Documents/com~apple~CloudDocs/Documents/Maze-photometry-analyses/photometryQuantifications.py:128: RuntimeWarning: Mean of empty slice\n",
      "  [subset[0]:subset[1]],(np.nanmean\\\n",
      "/Users/timkrausz/Library/Mobile Documents/com~apple~CloudDocs/Documents/Maze-photometry-analyses/photometryQuantifications.py:124: RuntimeWarning: Mean of empty slice\n",
      "  ax.plot(xvals[subset[0]:subset[1]],np.nanmean\\\n",
      "/Users/timkrausz/Library/Mobile Documents/com~apple~CloudDocs/Documents/Maze-photometry-analyses/photometryQuantifications.py:126: RuntimeWarning: Mean of empty slice\n",
      "  ax.fill_between(xvals[subset[0]:subset[1]],(np.nanmean\\\n",
      "/Users/timkrausz/Library/Mobile Documents/com~apple~CloudDocs/Documents/Maze-photometry-analyses/photometryQuantifications.py:128: RuntimeWarning: Mean of empty slice\n",
      "  [subset[0]:subset[1]],(np.nanmean\\\n",
      "/Users/timkrausz/Library/Mobile Documents/com~apple~CloudDocs/Documents/Maze-photometry-analyses/photometryQuantifications.py:124: RuntimeWarning: Mean of empty slice\n",
      "  ax.plot(xvals[subset[0]:subset[1]],np.nanmean\\\n",
      "/Users/timkrausz/Library/Mobile Documents/com~apple~CloudDocs/Documents/Maze-photometry-analyses/photometryQuantifications.py:126: RuntimeWarning: Mean of empty slice\n",
      "  ax.fill_between(xvals[subset[0]:subset[1]],(np.nanmean\\\n",
      "/Users/timkrausz/Library/Mobile Documents/com~apple~CloudDocs/Documents/Maze-photometry-analyses/photometryQuantifications.py:128: RuntimeWarning: Mean of empty slice\n",
      "  [subset[0]:subset[1]],(np.nanmean\\\n",
      "/Users/timkrausz/Library/Mobile Documents/com~apple~CloudDocs/Documents/Maze-photometry-analyses/photometryQuantifications.py:124: RuntimeWarning: Mean of empty slice\n",
      "  ax.plot(xvals[subset[0]:subset[1]],np.nanmean\\\n",
      "/Users/timkrausz/Library/Mobile Documents/com~apple~CloudDocs/Documents/Maze-photometry-analyses/photometryQuantifications.py:126: RuntimeWarning: Mean of empty slice\n",
      "  ax.fill_between(xvals[subset[0]:subset[1]],(np.nanmean\\\n",
      "/Users/timkrausz/Library/Mobile Documents/com~apple~CloudDocs/Documents/Maze-photometry-analyses/photometryQuantifications.py:128: RuntimeWarning: Mean of empty slice\n",
      "  [subset[0]:subset[1]],(np.nanmean\\\n",
      "/Users/timkrausz/Library/Mobile Documents/com~apple~CloudDocs/Documents/Maze-photometry-analyses/photometryQuantifications.py:124: RuntimeWarning: Mean of empty slice\n",
      "  ax.plot(xvals[subset[0]:subset[1]],np.nanmean\\\n",
      "/Users/timkrausz/Library/Mobile Documents/com~apple~CloudDocs/Documents/Maze-photometry-analyses/photometryQuantifications.py:126: RuntimeWarning: Mean of empty slice\n",
      "  ax.fill_between(xvals[subset[0]:subset[1]],(np.nanmean\\\n",
      "/Users/timkrausz/Library/Mobile Documents/com~apple~CloudDocs/Documents/Maze-photometry-analyses/photometryQuantifications.py:128: RuntimeWarning: Mean of empty slice\n",
      "  [subset[0]:subset[1]],(np.nanmean\\\n",
      "/Users/timkrausz/Library/Mobile Documents/com~apple~CloudDocs/Documents/Maze-photometry-analyses/photometryQuantifications.py:124: RuntimeWarning: Mean of empty slice\n",
      "  ax.plot(xvals[subset[0]:subset[1]],np.nanmean\\\n",
      "/Users/timkrausz/Library/Mobile Documents/com~apple~CloudDocs/Documents/Maze-photometry-analyses/photometryQuantifications.py:126: RuntimeWarning: Mean of empty slice\n",
      "  ax.fill_between(xvals[subset[0]:subset[1]],(np.nanmean\\\n",
      "/Users/timkrausz/Library/Mobile Documents/com~apple~CloudDocs/Documents/Maze-photometry-analyses/photometryQuantifications.py:128: RuntimeWarning: Mean of empty slice\n",
      "  [subset[0]:subset[1]],(np.nanmean\\\n",
      "/Users/timkrausz/Library/Mobile Documents/com~apple~CloudDocs/Documents/Maze-photometry-analyses/photometryQuantifications.py:124: RuntimeWarning: Mean of empty slice\n",
      "  ax.plot(xvals[subset[0]:subset[1]],np.nanmean\\\n",
      "/Users/timkrausz/Library/Mobile Documents/com~apple~CloudDocs/Documents/Maze-photometry-analyses/photometryQuantifications.py:126: RuntimeWarning: Mean of empty slice\n",
      "  ax.fill_between(xvals[subset[0]:subset[1]],(np.nanmean\\\n",
      "/Users/timkrausz/Library/Mobile Documents/com~apple~CloudDocs/Documents/Maze-photometry-analyses/photometryQuantifications.py:128: RuntimeWarning: Mean of empty slice\n",
      "  [subset[0]:subset[1]],(np.nanmean\\\n",
      "/Users/timkrausz/Library/Mobile Documents/com~apple~CloudDocs/Documents/Maze-photometry-analyses/photometryQuantifications.py:124: RuntimeWarning: Mean of empty slice\n",
      "  ax.plot(xvals[subset[0]:subset[1]],np.nanmean\\\n",
      "/Users/timkrausz/Library/Mobile Documents/com~apple~CloudDocs/Documents/Maze-photometry-analyses/photometryQuantifications.py:126: RuntimeWarning: Mean of empty slice\n",
      "  ax.fill_between(xvals[subset[0]:subset[1]],(np.nanmean\\\n",
      "/Users/timkrausz/Library/Mobile Documents/com~apple~CloudDocs/Documents/Maze-photometry-analyses/photometryQuantifications.py:128: RuntimeWarning: Mean of empty slice\n",
      "  [subset[0]:subset[1]],(np.nanmean\\\n"
     ]
    },
    {
     "data": {
      "text/plain": [
       "(-0.9, 2.2)"
      ]
     },
     "execution_count": 23,
     "metadata": {},
     "output_type": "execute_result"
    }
   ],
   "source": [
    "photrats.set_plot_window([-5,5])\n",
    "fig = plot_portAlignedDaInTime(photrats,secondHalfOnly=False,poolFactor=\"Q_chosen\",useRatGroupLevel=True)\n",
    "plt.xticks(np.arange(-5,6),np.arange(-5,6))\n",
    "plt.ylim(-.9,2.2)"
   ]
  },
  {
   "cell_type": "code",
   "execution_count": 24,
   "id": "79d463e5",
   "metadata": {},
   "outputs": [],
   "source": [
    "fig.savefig(photrats.directory_prefix+\"da_rpe_by_portQ_ratAvg_correctAlignment.pdf\")"
   ]
  },
  {
   "cell_type": "code",
   "execution_count": 25,
   "id": "b78b034a-8b5e-44d9-984b-337da3ea4d8c",
   "metadata": {
    "tags": []
   },
   "outputs": [
    {
     "name": "stderr",
     "output_type": "stream",
     "text": [
      "/Users/timkrausz/Library/Mobile Documents/com~apple~CloudDocs/Documents/Maze-photometry-analyses/photometryQuantifications.py:124: RuntimeWarning: Mean of empty slice\n",
      "  ax.plot(xvals[subset[0]:subset[1]],np.nanmean\\\n",
      "/Users/timkrausz/Library/Mobile Documents/com~apple~CloudDocs/Documents/Maze-photometry-analyses/photometryQuantifications.py:126: RuntimeWarning: Mean of empty slice\n",
      "  ax.fill_between(xvals[subset[0]:subset[1]],(np.nanmean\\\n",
      "/Users/timkrausz/Library/Mobile Documents/com~apple~CloudDocs/Documents/Maze-photometry-analyses/photometryQuantifications.py:128: RuntimeWarning: Mean of empty slice\n",
      "  [subset[0]:subset[1]],(np.nanmean\\\n",
      "/Users/timkrausz/Library/Mobile Documents/com~apple~CloudDocs/Documents/Maze-photometry-analyses/photometryQuantifications.py:124: RuntimeWarning: Mean of empty slice\n",
      "  ax.plot(xvals[subset[0]:subset[1]],np.nanmean\\\n",
      "/Users/timkrausz/Library/Mobile Documents/com~apple~CloudDocs/Documents/Maze-photometry-analyses/photometryQuantifications.py:126: RuntimeWarning: Mean of empty slice\n",
      "  ax.fill_between(xvals[subset[0]:subset[1]],(np.nanmean\\\n",
      "/Users/timkrausz/Library/Mobile Documents/com~apple~CloudDocs/Documents/Maze-photometry-analyses/photometryQuantifications.py:128: RuntimeWarning: Mean of empty slice\n",
      "  [subset[0]:subset[1]],(np.nanmean\\\n",
      "/Users/timkrausz/Library/Mobile Documents/com~apple~CloudDocs/Documents/Maze-photometry-analyses/photometryQuantifications.py:124: RuntimeWarning: Mean of empty slice\n",
      "  ax.plot(xvals[subset[0]:subset[1]],np.nanmean\\\n",
      "/Users/timkrausz/Library/Mobile Documents/com~apple~CloudDocs/Documents/Maze-photometry-analyses/photometryQuantifications.py:126: RuntimeWarning: Mean of empty slice\n",
      "  ax.fill_between(xvals[subset[0]:subset[1]],(np.nanmean\\\n",
      "/Users/timkrausz/Library/Mobile Documents/com~apple~CloudDocs/Documents/Maze-photometry-analyses/photometryQuantifications.py:128: RuntimeWarning: Mean of empty slice\n",
      "  [subset[0]:subset[1]],(np.nanmean\\\n",
      "/Users/timkrausz/Library/Mobile Documents/com~apple~CloudDocs/Documents/Maze-photometry-analyses/photometryQuantifications.py:124: RuntimeWarning: Mean of empty slice\n",
      "  ax.plot(xvals[subset[0]:subset[1]],np.nanmean\\\n",
      "/Users/timkrausz/Library/Mobile Documents/com~apple~CloudDocs/Documents/Maze-photometry-analyses/photometryQuantifications.py:126: RuntimeWarning: Mean of empty slice\n",
      "  ax.fill_between(xvals[subset[0]:subset[1]],(np.nanmean\\\n",
      "/Users/timkrausz/Library/Mobile Documents/com~apple~CloudDocs/Documents/Maze-photometry-analyses/photometryQuantifications.py:128: RuntimeWarning: Mean of empty slice\n",
      "  [subset[0]:subset[1]],(np.nanmean\\\n",
      "/Users/timkrausz/Library/Mobile Documents/com~apple~CloudDocs/Documents/Maze-photometry-analyses/photometryQuantifications.py:124: RuntimeWarning: Mean of empty slice\n",
      "  ax.plot(xvals[subset[0]:subset[1]],np.nanmean\\\n",
      "/Users/timkrausz/Library/Mobile Documents/com~apple~CloudDocs/Documents/Maze-photometry-analyses/photometryQuantifications.py:126: RuntimeWarning: Mean of empty slice\n",
      "  ax.fill_between(xvals[subset[0]:subset[1]],(np.nanmean\\\n",
      "/Users/timkrausz/Library/Mobile Documents/com~apple~CloudDocs/Documents/Maze-photometry-analyses/photometryQuantifications.py:128: RuntimeWarning: Mean of empty slice\n",
      "  [subset[0]:subset[1]],(np.nanmean\\\n",
      "/Users/timkrausz/Library/Mobile Documents/com~apple~CloudDocs/Documents/Maze-photometry-analyses/photometryQuantifications.py:124: RuntimeWarning: Mean of empty slice\n",
      "  ax.plot(xvals[subset[0]:subset[1]],np.nanmean\\\n",
      "/Users/timkrausz/Library/Mobile Documents/com~apple~CloudDocs/Documents/Maze-photometry-analyses/photometryQuantifications.py:126: RuntimeWarning: Mean of empty slice\n",
      "  ax.fill_between(xvals[subset[0]:subset[1]],(np.nanmean\\\n",
      "/Users/timkrausz/Library/Mobile Documents/com~apple~CloudDocs/Documents/Maze-photometry-analyses/photometryQuantifications.py:128: RuntimeWarning: Mean of empty slice\n",
      "  [subset[0]:subset[1]],(np.nanmean\\\n",
      "/Users/timkrausz/Library/Mobile Documents/com~apple~CloudDocs/Documents/Maze-photometry-analyses/photometryQuantifications.py:124: RuntimeWarning: Mean of empty slice\n",
      "  ax.plot(xvals[subset[0]:subset[1]],np.nanmean\\\n",
      "/Users/timkrausz/Library/Mobile Documents/com~apple~CloudDocs/Documents/Maze-photometry-analyses/photometryQuantifications.py:126: RuntimeWarning: Mean of empty slice\n",
      "  ax.fill_between(xvals[subset[0]:subset[1]],(np.nanmean\\\n",
      "/Users/timkrausz/Library/Mobile Documents/com~apple~CloudDocs/Documents/Maze-photometry-analyses/photometryQuantifications.py:128: RuntimeWarning: Mean of empty slice\n",
      "  [subset[0]:subset[1]],(np.nanmean\\\n",
      "/Users/timkrausz/Library/Mobile Documents/com~apple~CloudDocs/Documents/Maze-photometry-analyses/photometryQuantifications.py:124: RuntimeWarning: Mean of empty slice\n",
      "  ax.plot(xvals[subset[0]:subset[1]],np.nanmean\\\n",
      "/Users/timkrausz/Library/Mobile Documents/com~apple~CloudDocs/Documents/Maze-photometry-analyses/photometryQuantifications.py:126: RuntimeWarning: Mean of empty slice\n",
      "  ax.fill_between(xvals[subset[0]:subset[1]],(np.nanmean\\\n",
      "/Users/timkrausz/Library/Mobile Documents/com~apple~CloudDocs/Documents/Maze-photometry-analyses/photometryQuantifications.py:128: RuntimeWarning: Mean of empty slice\n",
      "  [subset[0]:subset[1]],(np.nanmean\\\n",
      "/Users/timkrausz/Library/Mobile Documents/com~apple~CloudDocs/Documents/Maze-photometry-analyses/photometryQuantifications.py:124: RuntimeWarning: Mean of empty slice\n",
      "  ax.plot(xvals[subset[0]:subset[1]],np.nanmean\\\n",
      "/Users/timkrausz/Library/Mobile Documents/com~apple~CloudDocs/Documents/Maze-photometry-analyses/photometryQuantifications.py:126: RuntimeWarning: Mean of empty slice\n",
      "  ax.fill_between(xvals[subset[0]:subset[1]],(np.nanmean\\\n",
      "/Users/timkrausz/Library/Mobile Documents/com~apple~CloudDocs/Documents/Maze-photometry-analyses/photometryQuantifications.py:128: RuntimeWarning: Mean of empty slice\n",
      "  [subset[0]:subset[1]],(np.nanmean\\\n"
     ]
    },
    {
     "data": {
      "text/plain": [
       "(-0.9, 2.2)"
      ]
     },
     "execution_count": 25,
     "metadata": {},
     "output_type": "execute_result"
    }
   ],
   "source": [
    "photrats.set_plot_window([-5,5])\n",
    "fig = plot_portAlignedDaInTime(photrats,secondHalfOnly=True,poolFactor=\"nom_rwd_chosen\",useRatGroupLevel=True)\n",
    "plt.xticks(np.arange(-5,6),np.arange(-5,6))\n",
    "plt.ylim(-.9,2.2)"
   ]
  },
  {
   "cell_type": "code",
   "execution_count": 26,
   "id": "a7de784a",
   "metadata": {},
   "outputs": [],
   "source": [
    "fig.savefig(photrats.directory_prefix+\"da_rpe_byportQ_2ndHalf_ratAvg_correctAlignment.pdf\")"
   ]
  },
  {
   "cell_type": "code",
   "execution_count": 324,
   "id": "69bf359b",
   "metadata": {},
   "outputs": [
    {
     "name": "stdout",
     "output_type": "stream",
     "text": [
      "done\n"
     ]
    }
   ],
   "source": [
    "print(\"done\")"
   ]
  },
  {
   "cell_type": "code",
   "execution_count": 64,
   "id": "b6998247",
   "metadata": {},
   "outputs": [],
   "source": [
    "s = 95#photrats.df.loc[photrats.df.session_type==\"prob\",\"session\"].unique()[0]\n",
    "tridat = photrats.df.loc[(photrats.df.session==s)&(photrats.df.port!=-100),:].copy()\n",
    "tridat.reset_index(inplace=True)\n",
    "seshQs = tridat.loc[:,[\"Q_a\",\"Q_b\",\"Q_c\"]].values\n",
    "fig = plt.figure(figsize=(10,5))\n",
    "x1 = np.arange(0,len(tridat))\n",
    "A1 = tridat.rwd.loc[tridat.port==0] + 1.5\n",
    "yA1 = np.zeros(len(tridat))\n",
    "yA1[A1.index.values] = A1\n",
    "B1 = tridat.rwd.loc[tridat.port==1] + 1.5\n",
    "yB1 = np.zeros(len(tridat))\n",
    "yB1[B1.index.values] = B1\n",
    "C1 = tridat.rwd.loc[tridat.port==2] + 1.5\n",
    "yC1 = np.zeros(len(tridat))\n",
    "yC1[C1.index.values] = C1\n",
    "ax1 = plt.subplot2grid((10,1),(0,0),colspan = 1, rowspan = 1)\n",
    "ax1.bar(x1,yA1,color = '#1f77b4')\n",
    "ax1.axis('off')\n",
    "ax2 = plt.subplot2grid((10,1),(1,0),colspan = 1, rowspan = 1,sharex=ax1)\n",
    "ax2.bar(x1,yB1,color = '#ff7f0e')\n",
    "ax2.axis('off')\n",
    "ax3 = plt.subplot2grid((10,1),(2,0),colspan = 1, rowspan = 1,sharex=ax1)\n",
    "ax3.bar(x1,yC1,color = '#2ca02c')\n",
    "ax3.axis('off')\n",
    "ax4 = plt.subplot2grid((10,1),(3,0),colspan = 1, rowspan = 7,sharex=ax1)\n",
    "ax4.plot(x1,seshQs[:,0],label = \"port A\",color=\"#1f77b4\")\n",
    "ax4.plot(x1,seshQs[:,1],label = \"port B\",color=\"#ff7f0e\")\n",
    "ax4.plot(x1,seshQs[:,2],label = \"port C\",color=\"#2ca02c\")\n",
    "plt.xlabel(\"Trial\",fontsize=20,fontweight=\"bold\")\n",
    "plt.ylabel(\"Q Value\",fontsize=20,fontweight=\"bold\")\n",
    "plt.legend()\n",
    "plt.tight_layout()"
   ]
  },
  {
   "cell_type": "code",
   "execution_count": 57,
   "id": "2129590e",
   "metadata": {},
   "outputs": [],
   "source": [
    "fig.savefig(photrats.directory_prefix+\"port_QvalEvolution_wTicks_s\"+str(s)+\".pdf\")"
   ]
  },
  {
   "cell_type": "markdown",
   "id": "cd15b31d",
   "metadata": {},
   "source": [
    "## plot q rpe lag reg"
   ]
  },
  {
   "cell_type": "code",
   "execution_count": 65,
   "id": "888a42ef",
   "metadata": {},
   "outputs": [
    {
     "name": "stderr",
     "output_type": "stream",
     "text": [
      "100%|██████████| 10/10 [05:43<00:00, 34.36s/it]\n"
     ]
    }
   ],
   "source": [
    "photrats.bin_size = int(photrats.fs/15)\n",
    "ratRwdRpes,ratOmRpes,ratRwdNs,ratOmNs = calcRpeRegByRatAndSesh(photrats,useQ=True)"
   ]
  },
  {
   "cell_type": "code",
   "execution_count": 82,
   "id": "bfa86a3c",
   "metadata": {},
   "outputs": [],
   "source": [
    "def plot_rpeLagRegCoefs(photrats,binsize=100):\n",
    "    xvals = np.arange(0,photrats.fs*2,250/(1000/binsize))/photrats.fs#np.arange(0,photrats.fs*2)/photrats.fs\n",
    "    fig = plt.figure(figsize=(4.5,5))\n",
    "    ax1 = plt.subplot2grid((6,4),(2,0),colspan = 4, rowspan =4)\n",
    "    plot_ratMeans(xvals,ratRwdRpes,'darkred',pltLabel=\"reward\")\n",
    "    plot_ratMeans(xvals,ratOmRpes,'darkblue',pltLabel=\"omission\")\n",
    "    plt.xlabel(\"time from port entry (s)\",fontsize='xx-large')\n",
    "    plt.axhline(0,ls=':',color='k')\n",
    "    plt.ylabel(\"RPE ß\",fontsize='xx-large')\n",
    "    plt.xlim(0,2)\n",
    "    plt.legend()\n",
    "    ax2 = plt.subplot2grid((6,4),(0,0),colspan = 4, rowspan =2,sharex=ax1)\n",
    "    plot_sigPoints(xvals,ratRwdRpes,'darkred',plot99=False)\n",
    "    plot_sigPoints(xvals,ratOmRpes,'darkblue',plot99=False)\n",
    "    ax2.tick_params('x', labelbottom=False)\n",
    "    plt.ylabel(\"Fraction\\nsignificant\")\n",
    "    ax2.set_ylim(0,1)\n",
    "    plt.tight_layout()\n",
    "    fig.savefig(photrats.directory_prefix+\"rpeLagReg_binned.pdf\")"
   ]
  },
  {
   "cell_type": "code",
   "execution_count": 83,
   "id": "a0e906ab",
   "metadata": {},
   "outputs": [],
   "source": [
    "plot_rpeLagRegCoefs(photrats,binsize=1000/12.5)"
   ]
  },
  {
   "cell_type": "code",
   "execution_count": 38,
   "id": "cb0919cb",
   "metadata": {},
   "outputs": [],
   "source": [
    "regWeightsByRat = calc_choiceRegWeightsByRat(photrats)"
   ]
  },
  {
   "cell_type": "code",
   "execution_count": 18,
   "id": "ade2c010",
   "metadata": {},
   "outputs": [
    {
     "data": {
      "text/plain": [
       "array(['IM-1272', 'IM-1273', 'IM-1276', 'IM-1291', 'IM-1292', 'IM-1322',\n",
       "       'IM-1398', 'IM-1434', 'IM-1458', 'IM-1478'], dtype='<U7')"
      ]
     },
     "execution_count": 18,
     "metadata": {},
     "output_type": "execute_result"
    }
   ],
   "source": [
    "np.array(photrats.triframe.rat.unique()).astype(str)"
   ]
  },
  {
   "cell_type": "code",
   "execution_count": 39,
   "id": "4e2fbf69",
   "metadata": {},
   "outputs": [
    {
     "data": {
      "text/html": [
       "<div>\n",
       "<style scoped>\n",
       "    .dataframe tbody tr th:only-of-type {\n",
       "        vertical-align: middle;\n",
       "    }\n",
       "\n",
       "    .dataframe tbody tr th {\n",
       "        vertical-align: top;\n",
       "    }\n",
       "\n",
       "    .dataframe thead th {\n",
       "        text-align: right;\n",
       "    }\n",
       "</style>\n",
       "<table border=\"1\" class=\"dataframe\">\n",
       "  <thead>\n",
       "    <tr style=\"text-align: right;\">\n",
       "      <th></th>\n",
       "      <th>intercept</th>\n",
       "      <th>relative p(R)</th>\n",
       "      <th>relative distance</th>\n",
       "      <th>rat</th>\n",
       "    </tr>\n",
       "  </thead>\n",
       "  <tbody>\n",
       "    <tr>\n",
       "      <th>0</th>\n",
       "      <td>0.788138</td>\n",
       "      <td>0.840152</td>\n",
       "      <td>-2.901712</td>\n",
       "      <td>IM-1272</td>\n",
       "    </tr>\n",
       "    <tr>\n",
       "      <th>1</th>\n",
       "      <td>-0.067526</td>\n",
       "      <td>0.819950</td>\n",
       "      <td>-1.460891</td>\n",
       "      <td>IM-1273</td>\n",
       "    </tr>\n",
       "    <tr>\n",
       "      <th>2</th>\n",
       "      <td>0.703347</td>\n",
       "      <td>0.881085</td>\n",
       "      <td>-2.522147</td>\n",
       "      <td>IM-1276</td>\n",
       "    </tr>\n",
       "    <tr>\n",
       "      <th>3</th>\n",
       "      <td>0.030442</td>\n",
       "      <td>0.549869</td>\n",
       "      <td>-1.716633</td>\n",
       "      <td>IM-1291</td>\n",
       "    </tr>\n",
       "    <tr>\n",
       "      <th>4</th>\n",
       "      <td>0.166691</td>\n",
       "      <td>1.393542</td>\n",
       "      <td>-1.911691</td>\n",
       "      <td>IM-1292</td>\n",
       "    </tr>\n",
       "    <tr>\n",
       "      <th>5</th>\n",
       "      <td>0.668904</td>\n",
       "      <td>1.152568</td>\n",
       "      <td>-2.430597</td>\n",
       "      <td>IM-1322</td>\n",
       "    </tr>\n",
       "    <tr>\n",
       "      <th>6</th>\n",
       "      <td>0.865570</td>\n",
       "      <td>0.666288</td>\n",
       "      <td>-2.379002</td>\n",
       "      <td>IM-1398</td>\n",
       "    </tr>\n",
       "    <tr>\n",
       "      <th>7</th>\n",
       "      <td>-0.615642</td>\n",
       "      <td>1.637882</td>\n",
       "      <td>-1.195741</td>\n",
       "      <td>IM-1434</td>\n",
       "    </tr>\n",
       "    <tr>\n",
       "      <th>8</th>\n",
       "      <td>-0.605195</td>\n",
       "      <td>1.244594</td>\n",
       "      <td>-0.726433</td>\n",
       "      <td>IM-1478</td>\n",
       "    </tr>\n",
       "  </tbody>\n",
       "</table>\n",
       "</div>"
      ],
      "text/plain": [
       "   intercept  relative p(R)  relative distance      rat\n",
       "0   0.788138       0.840152          -2.901712  IM-1272\n",
       "1  -0.067526       0.819950          -1.460891  IM-1273\n",
       "2   0.703347       0.881085          -2.522147  IM-1276\n",
       "3   0.030442       0.549869          -1.716633  IM-1291\n",
       "4   0.166691       1.393542          -1.911691  IM-1292\n",
       "5   0.668904       1.152568          -2.430597  IM-1322\n",
       "6   0.865570       0.666288          -2.379002  IM-1398\n",
       "7  -0.615642       1.637882          -1.195741  IM-1434\n",
       "8  -0.605195       1.244594          -0.726433  IM-1478"
      ]
     },
     "execution_count": 39,
     "metadata": {},
     "output_type": "execute_result"
    }
   ],
   "source": [
    "regWeightsByRat.loc[:,\"rat\"] = np.array(photrats.triframe.rat.unique())\n",
    "regWeightsByRat"
   ]
  },
  {
   "cell_type": "markdown",
   "id": "beae2e44",
   "metadata": {},
   "source": [
    "- plot difference between peak DA within 0.5s after port entry and DA at port entry.\n",
    "  - first take average trace for each rat and THEN take difference, not average of differences"
   ]
  },
  {
   "cell_type": "markdown",
   "id": "999ded53",
   "metadata": {},
   "source": [
    "- plot DA aligned to new/blocked hex discovery\n",
    "  - identify indices of blocked and new path discovery\n",
    "  - identify indices of new path before enter and new path before ignored"
   ]
  },
  {
   "cell_type": "code",
   "execution_count": 32,
   "id": "714bfc2a",
   "metadata": {},
   "outputs": [],
   "source": [
    "portstrings = ['A','B','C']\n",
    "newDistsToPort = []\n",
    "oldDistsToPort = []\n",
    "for i in range(len(newHexAdjInds)):\n",
    "    if newHexAdjStates[i] == -1:\n",
    "        newDistsToPort.append(np.nan)\n",
    "        oldDistsToPort.append(np.nan)\n",
    "        continue\n",
    "    state = newHexAdjStates[i]\n",
    "    sesh = photrats.df.loc[newHexAdjInds[i],'session']\n",
    "    block = photrats.df.loc[newHexAdjInds[i],'block']\n",
    "    chosenPort = photrats.df.port.replace(-100,method='bfill')[newHexAdjInds[i]]#photrats.df.loc[newHexAdjInds[i],'']\n",
    "    newDistsToPort.append(photrats.sesh_hexDists['dto'+portstrings[chosenPort]][sesh][block-1][state])\n",
    "    oldDistsToPort.append(photrats.sesh_hexDists['dto'+portstrings[chosenPort]][sesh][block-2][state])\n",
    "newDistsToPort = np.array(newDistsToPort)\n",
    "oldDistsToPort = np.array(oldDistsToPort)"
   ]
  },
  {
   "cell_type": "code",
   "execution_count": 33,
   "id": "e6a87aac",
   "metadata": {},
   "outputs": [],
   "source": [
    "#drop all entries where newHexAdjStates==-1\n",
    "newHexAdjStates = np.array(newHexAdjStates)\n",
    "newHexAdjInds = np.array(newHexAdjInds)\n",
    "toRemove = np.where(newHexAdjStates==-1)[0]\n",
    "newHexAdjStates = np.delete(newHexAdjStates,toRemove)\n",
    "newHexAdjInds = np.delete(newHexAdjInds,toRemove)\n",
    "newDistsToPort = np.delete(newDistsToPort,toRemove)\n",
    "oldDistsToPort = np.delete(oldDistsToPort,toRemove)"
   ]
  },
  {
   "cell_type": "code",
   "execution_count": 71,
   "id": "bd999436-9bed-468d-b779-2737aa4a9e76",
   "metadata": {
    "tags": []
   },
   "outputs": [
    {
     "data": {
      "text/plain": [
       "array([ 4., 10.,  9.,  7., 15., 16.,  9.,  8.,  9.,  9., 17.,  7.,  4.,\n",
       "        7.,  4.,  9.,  8.,  6., 11.,  8.,  8.,  4., 15.,  9.,  8.,  5.,\n",
       "        8.,  9.,  9.,  7.,  9.,  8., 10., nan,  7.,  7.,  9., nan,  5.,\n",
       "       15.,  4., 14.,  8.,  8., 10.,  4.,  7.,  8., 10., 12.,  7., 11.,\n",
       "        9.,  7., 15., 16., 12.,  8.,  4., 10., 18.,  7., 11.,  7., 10.,\n",
       "        8.,  6.,  5., 10.,  7., 11.,  7.,  9.,  6.,  7.,  4.,  4.,  6.,\n",
       "        9.,  6.,  7.,  6.,  7., 18.,  7.,  8.,  5., 10.,  9., 13., 10.,\n",
       "        8.,  9., 10.,  7.,  6.,  9.,  7., 12., 11.,  7.,  9.,  5., 13.])"
      ]
     },
     "execution_count": 71,
     "metadata": {},
     "output_type": "execute_result"
    }
   ],
   "source": [
    "newDistsToPort"
   ]
  },
  {
   "cell_type": "code",
   "execution_count": 73,
   "id": "9c6246ac",
   "metadata": {},
   "outputs": [],
   "source": [
    "relDist2Port = newDistsToPort-oldDistsToPort"
   ]
  },
  {
   "cell_type": "code",
   "execution_count": 74,
   "id": "367d60d5",
   "metadata": {},
   "outputs": [],
   "source": [
    "adjHexIndsSortedByRelDist = newHexAdjInds[relDist2Port.argsort()]\n",
    "#relDist2Port = relDist2Port[relDist2Port.argsort()]\n",
    "#toRemove = np.where(np.isnan(relDist2Port))[0]\n",
    "#adjHexIndsSortedByRelDist = np.delete(adjHexIndsSortedByRelDist,toRemove)\n",
    "#relDist2Port = np.delete(relDist2Port,toRemove)"
   ]
  },
  {
   "cell_type": "code",
   "execution_count": 34,
   "id": "3094d66f",
   "metadata": {},
   "outputs": [],
   "source": [
    "adjHexIndsSortedByDist = newHexAdjInds[newDistsToPort.argsort()]\n",
    "#newDistsToPort = newDistsToPort[newDistsToPort.argsort()]\n",
    "#toRemove = np.where(np.isnan(newDistsToPort))[0]\n",
    "#adjHexIndsSortedByDist = np.delete(adjHexIndsSortedByDist,toRemove)\n",
    "#newDistsToPort = np.delete(newDistsToPort,toRemove)"
   ]
  },
  {
   "cell_type": "code",
   "execution_count": 35,
   "id": "99da63ac",
   "metadata": {},
   "outputs": [],
   "source": [
    "photrats.set_plot_trace(\"green_z_scored\")\n",
    "photrats.set_plot_window([-5,5])"
   ]
  },
  {
   "cell_type": "code",
   "execution_count": 36,
   "id": "70485eba-3070-434c-9ed1-787317ecf8d7",
   "metadata": {},
   "outputs": [],
   "source": [
    "adjHexNextPortVal = photrats.df.loc[newHexAdjInds,\"nom_rwd_chosen\"].values\n",
    "adjHexIndsSortedByPortVal = newHexAdjInds[adjHexNextPortVal.argsort()]\n",
    "#adjHexNextPortVal = adjHexNextPortVal[adjHexNextPortVal.argsort()]"
   ]
  },
  {
   "cell_type": "code",
   "execution_count": 37,
   "id": "5be40d51",
   "metadata": {},
   "outputs": [],
   "source": [
    "def get_newPathTracesByDistToPort(adjHexIndsSortedByDist):\n",
    "    smoothWin = int(photrats.fs/4)\n",
    "    shortTrace = []\n",
    "    midTrace = []\n",
    "    longTrace = []\n",
    "    terc_cutoff = int(len(adjHexIndsSortedByDist)/3)\n",
    "    for i in range(len(adjHexIndsSortedByDist)):\n",
    "        adjInd = adjHexIndsSortedByDist[i]\n",
    "        trace = photrats.df.loc[adjInd+photrats.plot_window[0]*photrats.fs:\\\n",
    "                            adjInd+photrats.plot_window[1]*photrats.fs,photrats.plot_trace].rolling(smoothWin).mean().values\n",
    "        if i<=terc_cutoff:\n",
    "            shortTrace.append(trace)\n",
    "        elif i<=terc_cutoff*2:\n",
    "            midTrace.append(trace)\n",
    "        else:\n",
    "            longTrace.append(trace)\n",
    "    return shortTrace,midTrace,longTrace\n",
    "\n",
    "def get_newPathTracesByDistToPort_absoluteDist(newHexAdjInds,distsToPort,dist_cutoff=7):\n",
    "    smoothWin = int(photrats.fs/4)\n",
    "    shortTrace = []\n",
    "    midTrace = []\n",
    "    longTrace = []\n",
    "    for i in range(len(newHexAdjInds)):\n",
    "        adjInd = newHexAdjInds[i]\n",
    "        dist = distsToPort[i]\n",
    "        trace = photrats.df.loc[adjInd+photrats.plot_window[0]*photrats.fs:\\\n",
    "                adjInd+photrats.plot_window[1]*photrats.fs,photrats.plot_trace].rolling(smoothWin).mean().values\n",
    "        if dist<=dist_cutoff:\n",
    "            shortTrace.append(trace)\n",
    "        elif dist<=dist_cutoff*2:\n",
    "            midTrace.append(trace)\n",
    "        else:\n",
    "            longTrace.append(trace)\n",
    "    return shortTrace,midTrace,longTrace"
   ]
  },
  {
   "cell_type": "markdown",
   "id": "0fd0733b",
   "metadata": {},
   "source": [
    "### now do it by rat"
   ]
  },
  {
   "cell_type": "code",
   "execution_count": 63,
   "id": "02eede8e-3fda-431d-9f83-148072437abb",
   "metadata": {},
   "outputs": [],
   "source": [
    "newHexAdjStates = np.delete(newHexAdjStates,toRemove)\n",
    "newHexAdjInds = np.delete(newHexAdjInds,toRemove)"
   ]
  },
  {
   "cell_type": "code",
   "execution_count": 38,
   "id": "bdfe510d",
   "metadata": {},
   "outputs": [
    {
     "name": "stdout",
     "output_type": "stream",
     "text": [
      "{'IM-1272': array([ 4., 10.,  9.,  7., 15., 16.,  9.,  8.,  9.,  9., 17.,  7.,  4.,\n",
      "        7.,  4.,  9.,  8.,  6.]), 'IM-1273': array([11.,  8.,  8.]), 'IM-1276': array([ 4., 15.,  9.,  8.,  5.,  8.,  9.,  9.,  7.,  9.,  8., 10., nan,\n",
      "        7.,  7.,  9., nan,  5.]), 'IM-1291': array([15.,  4., 14.,  8.,  8., 10.,  4.,  7.,  8.]), 'IM-1292': array([10., 12.,  7., 11.,  9.,  7., 15., 16., 12.,  8.,  4., 10., 18.,\n",
      "        7.]), 'IM-1322': array([11.,  7., 10.,  8.,  6.,  5., 10.,  7., 11.,  7.,  9.,  6.,  7.,\n",
      "        4.,  4.]), 'IM-1398': array([ 6.,  9.,  6.,  7.,  6.,  7., 18.,  7.]), 'IM-1434': array([ 8.,  5., 10.,  9., 13., 10.,  8.]), 'IM-1478': array([ 9., 10.,  7.,  6.,  9.,  7., 12., 11.,  7.,  9.]), 'IM-1532': array([ 5., 13., 13., 12.])}\n"
     ]
    }
   ],
   "source": [
    "ratNewPathLens = {r:[] for r in photrats.df.rat.unique()}\n",
    "for rat in photrats.df.rat.unique():\n",
    "    ratNewPathLens[rat] = newDistsToPort[np.where(np.isin(newHexAdjInds,photrats.df.loc[photrats.df.rat==rat].index))[0]]\n",
    "print(ratNewPathLens)\n"
   ]
  },
  {
   "cell_type": "code",
   "execution_count": 69,
   "id": "4ddfeb41",
   "metadata": {},
   "outputs": [],
   "source": [
    "with open(loadpath+\"lenFromNewHexNumsByRat.txt\", 'w') as f:\n",
    "    for key, value in ratNewPathLens.items():\n",
    "        f.write(f'{key}: {value}\\n')"
   ]
  },
  {
   "cell_type": "code",
   "execution_count": 161,
   "id": "fef1318c",
   "metadata": {},
   "outputs": [],
   "source": [
    "ratsWithSufficientNumbers = ['IM-1272','IM-1276','IM-1291',\\\n",
    "            'IM-1292','IM-1322','IM-1398','IM-1434','IM-1478']"
   ]
  },
  {
   "cell_type": "code",
   "execution_count": 165,
   "id": "4881fa17",
   "metadata": {},
   "outputs": [
    {
     "data": {
      "text/plain": [
       "10"
      ]
     },
     "execution_count": 165,
     "metadata": {},
     "output_type": "execute_result"
    }
   ],
   "source": [
    "len(ratNewHexAdjInds)"
   ]
  },
  {
   "cell_type": "code",
   "execution_count": 164,
   "id": "f46952be",
   "metadata": {},
   "outputs": [],
   "source": [
    "n_plots = len(ratsWithSufficientNumbers)\n",
    "n_cols = int(np.ceil(np.sqrt(n_plots)))\n",
    "n_rows = int(np.ceil(n_plots / n_cols))\n",
    "dist_cut = 6\n",
    "use_relativeDist = False\n",
    "\n",
    "fig, axes = plt.subplots(nrows=n_rows, ncols=n_cols, figsize=(16,10))\n",
    "\n",
    "xvals = np.arange(photrats.plot_window[0]*photrats.fs,photrats.plot_window[1]*photrats.fs+1)/photrats.fs\n",
    "\n",
    "for i, ax in enumerate(axes.flatten()):\n",
    "    if i < n_plots:\n",
    "        rat = ratsWithSufficientNumbers[i]\n",
    "        ratInds = np.where(np.isin(newHexAdjInds,photrats.df.loc[photrats.df.rat==rat].index))[0]\n",
    "        ratNewHexAdjInds = newHexAdjInds[ratInds]\n",
    "        ratNewHexDists = relDist2Port[ratInds] if use_relativeDist else newDistsToPort[ratInds]\n",
    "        sortedRatInds = ratNewHexAdjInds[ratNewHexDists.argsort()]\n",
    "        shortTrace,midTrace,longTrace = get_newPathTracesByDistToPort(sortedRatInds)\n",
    "        #shortTrace,midTrace,longTrace = get_newPathTracesByDistToPort_absoluteDist(\\\n",
    "        #                        sortedRatInds,ratNewHexDists,dist_cutoff=dist_cut)\n",
    "        ax.set_title(rat+\"; \"+str(len(shortTrace))+\" short; \"+str(len(midTrace))+\" mid; \"\\\n",
    "                    +str(len(longTrace))+\" long\")\n",
    "        if len(shortTrace)>0:\n",
    "            ax.plot(xvals,np.mean(shortTrace,axis=0),color='hotpink',label='short')\n",
    "        if len(midTrace)>0:\n",
    "            ax.plot(xvals,np.mean(midTrace,axis=0),color='red',label='mid')\n",
    "        if len(longTrace)>0:\n",
    "            ax.plot(xvals,np.mean(longTrace,axis=0),color='darkred',label='long')\n",
    "        ax.axvline(x=0,ls='--',color='k',alpha=.8,lw=1)\n",
    "        if (i + n_cols) >= n_plots:# i >= n_cols * (n_rows - 1):\n",
    "            ax.set_xticks(np.arange(-5,6))\n",
    "            ax.set_xlabel('time from hex entry (s)')\n",
    "        else:\n",
    "            ax.set_xticks([])\n",
    "        # Only show the y axis if the subplot is in the first column\n",
    "        if i % n_cols == 0:\n",
    "            ax.set_ylabel('Mean DA (Z)')\n",
    "        if i==0:\n",
    "            ax.legend()\n",
    "    else:\n",
    "        # Remove any extra axes that are not needed\n",
    "        ax.remove()"
   ]
  },
  {
   "cell_type": "code",
   "execution_count": 96,
   "id": "f5cd3ee0",
   "metadata": {},
   "outputs": [],
   "source": [
    "#fig.savefig(loadpath+\"newPathDAbyDistToPort_byRat_\"+str(dist_cut)+\"hexGroups.pdf\")\n",
    "fig.savefig(loadpath+\"newPathDAbyDistToPort_byRat_distTercile.pdf\")"
   ]
  },
  {
   "cell_type": "code",
   "execution_count": 130,
   "id": "b07f8dd6",
   "metadata": {},
   "outputs": [],
   "source": [
    "ratShortTraces = []\n",
    "ratMidTraces = []\n",
    "ratLongTraces = []\n",
    "for rat in photrats.df.rat.unique():\n",
    "    if rat == \"IM-1273\":\n",
    "        continue\n",
    "    ratInds = np.where(np.isin(newHexAdjInds,photrats.df.loc[photrats.df.rat==rat].index))[0]\n",
    "    ratNewHexAdjInds = newHexAdjInds[ratInds]\n",
    "    ratNewHexDists = newDistsToPort[ratInds]\n",
    "    sortedRatInds = ratNewHexAdjInds[ratNewHexDists.argsort()]\n",
    "    shortTrace,midTrace,longTrace = get_newPathTracesByDistToPort_absoluteDist(sortedRatInds,ratNewHexDists,dist_cutoff=7)\n",
    "    ratShortTraces.append(np.mean(shortTrace,axis=0))\n",
    "    ratMidTraces.append(np.mean(midTrace,axis=0))\n",
    "    ratLongTraces.append(np.mean(longTrace,axis=0))"
   ]
  },
  {
   "cell_type": "code",
   "execution_count": null,
   "id": "3fcc0a91",
   "metadata": {
    "tags": []
   },
   "outputs": [],
   "source": [
    "plt.figure()\n",
    "xvals = np.arange(photrats.plot_window[0]*photrats.fs,photrats.plot_window[1]*photrats.fs+1)/photrats.fs\n",
    "toplt = np.mean(ratShortTraces,axis=0)\n",
    "plt.plot(xvals,toplt,color='hotpink',label='short')\n",
    "plt.fill_between(xvals,toplt+sem(ratShortTraces),toplt-sem(ratShortTraces),color='hotpink',alpha=0.5)\n",
    "toplt = np.mean(ratMidTraces,axis=0)\n",
    "plt.plot(xvals,toplt,color='red',label='mid')\n",
    "plt.fill_between(xvals,toplt+sem(ratMidTraces),toplt-sem(ratMidTraces),color='red',alpha=0.5)\n",
    "toplt = np.mean(ratLongTraces,axis=0)\n",
    "plt.plot(xvals,toplt,color='darkred',label='long')\n",
    "plt.fill_between(xvals,toplt+sem(ratLongTraces),toplt-sem(ratLongTraces),color='darkred',alpha=0.5)\n",
    "plt.axvline(x=0,ls='--',color='k',alpha=.8,lw=1)\n",
    "plt.xticks(np.arange(-5,6))\n",
    "plt.legend()\n",
    "plt.xlabel(\"time from hex entry (s)\",fontsize=\"xx-large\")\n",
    "plt.ylabel(\"Mean DA (Z)\",fontsize=\"xx-large\")\n",
    "plt.title(\"Average of rat averages\")\n",
    "plt.tight_layout()"
   ]
  },
  {
   "cell_type": "markdown",
   "id": "4af73d83",
   "metadata": {},
   "source": []
  },
  {
   "cell_type": "code",
   "execution_count": 66,
   "id": "96ce918f",
   "metadata": {},
   "outputs": [],
   "source": [
    "%matplotlib qt"
   ]
  },
  {
   "cell_type": "markdown",
   "id": "4c6b28c1",
   "metadata": {},
   "source": [
    "## plot newly available by distance to goal port from the current hex\n",
    "- make sure I have shortestDistToPort for each block\n",
    "- for each adjacent hex entered\n",
    "  - identify the port the rat ran to\n",
    "  - identify shortest distance to that port from the adjacent hex\n",
    "  - save the length paired with the adjacent hex index in an array\n",
    "  - identify the prior distance to the chosen port from the adjacent hex (block b-1) and save in array\n",
    "  "
   ]
  },
  {
   "cell_type": "code",
   "execution_count": 43,
   "id": "a4379eb6-9808-4c68-b514-2dafffd9dce0",
   "metadata": {},
   "outputs": [],
   "source": [
    "shortTrace,midTrace,longTrace = get_newPathTracesByDistToPort(adjHexIndsSortedByDist)#,relDist2Port,dist_cut)\n",
    "fig = plt.figure(figsize=(7,6))\n",
    "xvals = np.arange(photrats.plot_window[0]*photrats.fs,photrats.plot_window[1]*photrats.fs+1)/photrats.fs\n",
    "toplt = np.mean(shortTrace,axis=0)\n",
    "plt.plot(xvals,toplt,color='hotpink',label='short')\n",
    "plt.fill_between(xvals,toplt+sem(shortTrace),toplt-sem(shortTrace),color='hotpink',alpha=0.5)\n",
    "toplt = np.mean(midTrace,axis=0)\n",
    "plt.plot(xvals,toplt,color='red',label='mid')\n",
    "plt.fill_between(xvals,toplt+sem(midTrace),toplt-sem(midTrace),color='red',alpha=0.5)\n",
    "toplt = np.mean(longTrace,axis=0)\n",
    "plt.plot(xvals,toplt,color='darkred',label='long')\n",
    "plt.fill_between(xvals,toplt+sem(longTrace),toplt-sem(longTrace),color='darkred',alpha=0.5)\n",
    "plt.axvline(x=0,ls='--',color='k',alpha=.8,lw=1)\n",
    "plt.xticks(np.arange(-5,6))\n",
    "plt.legend()\n",
    "plt.xlabel(\"time from hex entry (s)\",fontsize=\"xx-large\")\n",
    "plt.ylabel(\"Mean DA (Z)\",fontsize=\"xx-large\")\n",
    "plt.title(\"Sorted by hex distance tercile\\nAll rats pooled together.\")\n",
    "plt.ylim(-.6,2.8)\n",
    "plt.tight_layout()\n",
    "fig.savefig(photrats.directory_prefix+\"newPathDAbyDistToPort_allRatsPooled_byTercile.pdf\")"
   ]
  },
  {
   "cell_type": "code",
   "execution_count": 87,
   "id": "b45ab6f5-626a-4fd4-a93f-7357a4519e06",
   "metadata": {},
   "outputs": [],
   "source": [
    "dist_cut = 7\n",
    "shortTrace,midTrace,longTrace = get_newPathTracesByDistToPort_absoluteDist(newHexAdjInds,\\\n",
    "                                                                           newDistsToPort,dist_cut)\n",
    "fig = plt.figure(figsize=(7,6))\n",
    "xvals = np.arange(photrats.plot_window[0]*photrats.fs,photrats.plot_window[1]*photrats.fs+1)/photrats.fs\n",
    "toplt = np.mean(shortTrace,axis=0)\n",
    "plt.plot(xvals,toplt,color='hotpink',label='short')\n",
    "plt.fill_between(xvals,toplt+sem(shortTrace),toplt-sem(shortTrace),color='hotpink',alpha=0.5)\n",
    "toplt = np.mean(midTrace,axis=0)\n",
    "plt.plot(xvals,toplt,color='red',label='mid')\n",
    "plt.fill_between(xvals,toplt+sem(midTrace),toplt-sem(midTrace),color='red',alpha=0.5)\n",
    "toplt = np.mean(longTrace,axis=0)\n",
    "plt.plot(xvals,toplt,color='darkred',label='long')\n",
    "plt.fill_between(xvals,toplt+sem(longTrace),toplt-sem(longTrace),color='darkred',alpha=0.5)\n",
    "plt.axvline(x=0,ls='--',color='k',alpha=.8,lw=1)\n",
    "plt.xticks(np.arange(-5,6))\n",
    "plt.legend()\n",
    "plt.xlabel(\"time from hex entry (s)\",fontsize=\"xx-large\")\n",
    "plt.ylabel(\"Mean DA (Z)\",fontsize=\"xx-large\")\n",
    "plt.title(\"Sorted by hex distance (groups of 6) from port\\nAll rats pooled together.\")\n",
    "plt.tight_layout()\n",
    "fig.savefig(photrats.directory_prefix+\"newPathDAbyDistToPort_allRatsPooled_\"+str(dist_cut)+\"hexGroups.pdf\")"
   ]
  },
  {
   "cell_type": "code",
   "execution_count": 171,
   "id": "3b5d5ec8-3849-4073-a48d-f1e5e0fe399e",
   "metadata": {},
   "outputs": [
    {
     "data": {
      "text/plain": [
       "array([10., 10., 10., 10., 10., 10., 10., 10., 20., 20., 20., 20., 20.,\n",
       "       20., 20., 20., 20., 20., 20., 20., 20., 20., 20., 20., 20., 20.,\n",
       "       50., 50., 50., 50., 50., 50., 50., 50., 50., 50., 50., 50., 50.,\n",
       "       50., 50., 50., 50., 50., 50., 50., 50., 50., 50., 50., 50., 50.,\n",
       "       50., 50., 50., 50., 50., 50., 50., 50., 50., 80., 80., 80., 80.,\n",
       "       80., 80., 80., 80., 80., 80., 80., 80., 80., 80., 80., 80., 80.,\n",
       "       80., 80., 80., 80., 80., 80., 80., 80., 80., 80., 80., 80., 80.,\n",
       "       80., 80., 80., 90., 90., 90., 90., 90., 90., 90., 90., 90., 90.],\n",
       "      dtype=float16)"
      ]
     },
     "execution_count": 171,
     "metadata": {},
     "output_type": "execute_result"
    }
   ],
   "source": [
    "adjHexNextPortVal[adjHexNextPortVal.argsort()]"
   ]
  },
  {
   "cell_type": "code",
   "execution_count": 42,
   "id": "54d8e9ab-af87-41bc-9fa2-798046f7a78e",
   "metadata": {},
   "outputs": [],
   "source": [
    "\n",
    "rwdCut=30\n",
    "shortTrace,midTrace,longTrace = get_newPathTracesByDistToPort_absoluteDist(adjHexIndsSortedByPortVal,\\\n",
    "                                        adjHexNextPortVal[adjHexNextPortVal.argsort()],rwdCut)\n",
    "fig = plt.figure(figsize=(7,6))\n",
    "xvals = np.arange(photrats.plot_window[0]*photrats.fs,photrats.plot_window[1]*photrats.fs+1)/photrats.fs\n",
    "toplt = np.mean(shortTrace,axis=0)\n",
    "plt.plot(xvals,toplt,color='darkred',label='low')\n",
    "plt.fill_between(xvals,toplt+sem(shortTrace),toplt-sem(shortTrace),color='darkred',alpha=0.5)\n",
    "toplt = np.mean(midTrace,axis=0)\n",
    "plt.plot(xvals,toplt,color='red',label='mid')\n",
    "plt.fill_between(xvals,toplt+sem(midTrace),toplt-sem(midTrace),color='red',alpha=0.5)\n",
    "toplt = np.mean(longTrace,axis=0)\n",
    "plt.plot(xvals,toplt,color='hotpink',label='high')\n",
    "plt.fill_between(xvals,toplt+sem(longTrace),toplt-sem(longTrace),color='hotpink',alpha=0.5)\n",
    "plt.axvline(x=0,ls='--',color='k',alpha=.8,lw=1)\n",
    "plt.xticks(np.arange(-5,6))\n",
    "plt.legend()\n",
    "plt.xlabel(\"time from hex entry (s)\",fontsize=\"xx-large\")\n",
    "plt.ylabel(\"Mean DA (Z)\",fontsize=\"xx-large\")\n",
    "plt.title(\"Sorted by port value tercile\\nAll rats pooled together.\")\n",
    "plt.tight_layout()\n",
    "fig.savefig(photrats.directory_prefix+\"newPathDAbyPortVal_allRatsPooled_byCutoff.pdf\")"
   ]
  },
  {
   "cell_type": "code",
   "execution_count": 40,
   "id": "1e39871e",
   "metadata": {},
   "outputs": [],
   "source": [
    "\n",
    "shortTrace,midTrace,longTrace = get_newPathTracesByDistToPort(adjHexIndsSortedByPortVal)\n",
    "fig = plt.figure(figsize=(7,6))\n",
    "xvals = np.arange(photrats.plot_window[0]*photrats.fs,photrats.plot_window[1]*photrats.fs+1)/photrats.fs\n",
    "toplt = np.mean(shortTrace,axis=0)\n",
    "plt.plot(xvals,toplt,color='darkred',label='low')\n",
    "plt.fill_between(xvals,toplt+sem(shortTrace),toplt-sem(shortTrace),color='darkred',alpha=0.5)\n",
    "toplt = np.mean(midTrace,axis=0)\n",
    "plt.plot(xvals,toplt,color='red',label='mid')\n",
    "plt.fill_between(xvals,toplt+sem(midTrace),toplt-sem(midTrace),color='red',alpha=0.5)\n",
    "toplt = np.mean(longTrace,axis=0)\n",
    "plt.plot(xvals,toplt,color='hotpink',label='high')\n",
    "plt.fill_between(xvals,toplt+sem(longTrace),toplt-sem(longTrace),color='hotpink',alpha=0.5)\n",
    "plt.axvline(x=0,ls='--',color='k',alpha=.8,lw=1)\n",
    "plt.xticks(np.arange(-5,6))\n",
    "plt.legend()\n",
    "plt.xlabel(\"time from hex entry (s)\",fontsize=\"xx-large\")\n",
    "plt.ylabel(\"Mean DA (Z)\",fontsize=\"xx-large\")\n",
    "plt.title(\"Sorted by port value tercile\\nAll rats pooled together.\")\n",
    "plt.tight_layout()\n",
    "plt.ylim(-.9,3.0)\n",
    "fig.savefig(photrats.directory_prefix+\"newPathDAbyPortVal_allRatsPooled_byTercile.pdf\")"
   ]
  },
  {
   "cell_type": "markdown",
   "id": "09335f2b",
   "metadata": {},
   "source": [
    "## should also plot by the p(rwd) of the subsequently entered port. And the p(rwd) of the port that hex is now closest to - the p(rwd) of the port the hex used to be closest to"
   ]
  },
  {
   "cell_type": "code",
   "execution_count": 30,
   "id": "edc94f48",
   "metadata": {
    "tags": []
   },
   "outputs": [
    {
     "name": "stdout",
     "output_type": "stream",
     "text": [
      "No previous adjacent hex entry detected for session  0  block  2\n",
      "session  1  block  5\n",
      "session  28  block  3\n",
      "session  22  block  3\n",
      "No previous adjacent hex entry detected for session  32  block  1\n",
      "session  57  block  3\n",
      "session  59  block  3\n",
      "session  61  block  2\n",
      "No previous adjacent hex entry detected for session  64  block  1\n",
      "No previous adjacent hex entry detected for session  89  block  1\n",
      "No previous adjacent hex entry detected for session  89  block  2\n",
      "No previous adjacent hex entry detected for session  93  block  1\n",
      "No previous adjacent hex entry detected for session  93  block  2\n",
      "No previous adjacent hex entry detected for session  98  block  1\n",
      "No previous adjacent hex entry detected for session  102  block  1\n",
      "session  102  block  3\n",
      "session  104  block  3\n",
      "session  1  block  2\n",
      "session  1  block  5\n",
      "session  28  block  3\n",
      "session  22  block  3\n",
      "session  57  block  3\n",
      "session  59  block  3\n",
      "session  102  block  3\n",
      "session  104  block  3\n",
      "session  1  block  5\n",
      "session  28  block  3\n",
      "session  22  block  3\n",
      "session  57  block  3\n",
      "session  59  block  3\n",
      "session  61  block  2\n",
      "session  102  block  3\n",
      "session  104  block  3\n"
     ]
    }
   ],
   "source": [
    "photrats.get_newlyAvailHexesBySesh()\n",
    "photrats.get_newlyBlockedHexesBySesh()\n",
    "#add entries to df\n",
    "photrats.add_newlyAvailHexesToDf()\n",
    "photrats.add_adjacent2newlyAvail()\n",
    "photrats.add_adjacent2newlyBlocked()\n",
    "\n",
    "newHexInds,newHexStates,adjHexStates,adjHexInds = find_newHexEntryAndPriorHexInds(photrats)\n",
    "blockedHexAdjInds,blockedHexAdjStates = find_blockedHexAdjInds(photrats)\n",
    "\n",
    "blockedHexAdjInds = np.array(blockedHexAdjInds)[np.where(~np.isnan(blockedHexAdjInds))]\n",
    "adjHexInds = np.array(adjHexInds)[np.where(~np.isnan(adjHexInds))]\n",
    "adjHexInds = adjHexInds[adjHexInds!=-1]\n",
    "blockedHexAdjInds = blockedHexAdjInds[blockedHexAdjInds!=-1]\n",
    "\n",
    "newHexAdjInds,newHexAdjStates,enteredHex,enteredHexSoon = find_newHexAdjInds(photrats)\n",
    "enteredInds,ignoredInds = find_enteredVignoredNewlyAvailInds(newHexAdjInds,enteredHex)\n",
    "enteredInds = np.array(enteredInds)\n",
    "ignoredInds = np.array(ignoredInds)"
   ]
  },
  {
   "cell_type": "code",
   "execution_count": 31,
   "id": "03e0ea21",
   "metadata": {},
   "outputs": [],
   "source": [
    "photrats.get_distanceToPort(getDistsFromDeadEnds=False)"
   ]
  },
  {
   "cell_type": "markdown",
   "id": "6683bb89-69c7-4d1a-9004-e0ce08137279",
   "metadata": {},
   "source": [
    "# identify da change at hex discovery. add to df where other columns are distance to port and pRwd at port. then run regression of DA to distance and pRwd. If signal is a bonus - expected reward, makes sense that magnitude would scale inversely with val of approached port."
   ]
  },
  {
   "cell_type": "code",
   "execution_count": 97,
   "id": "77a63564-22cd-45ce-8e14-990483986974",
   "metadata": {},
   "outputs": [],
   "source": [
    "newHexDAchangeMeans,_ = calc_DaPeakDiffAfterNewPathInds(photrats,newHexAdjInds)"
   ]
  },
  {
   "cell_type": "code",
   "execution_count": 98,
   "id": "e6f69bea-b2e8-4e43-9aa0-37ba47c4eec7",
   "metadata": {},
   "outputs": [
    {
     "data": {
      "text/plain": [
       "(10,)"
      ]
     },
     "execution_count": 98,
     "metadata": {},
     "output_type": "execute_result"
    }
   ],
   "source": [
    "np.shape(newHexDAchangeMeans)"
   ]
  },
  {
   "cell_type": "code",
   "execution_count": 123,
   "id": "28503d41-69da-4985-a96e-12b40641cd58",
   "metadata": {},
   "outputs": [],
   "source": [
    "def calc_DaPeakIndividualDiffsAfterNewPathInds(photrats,indices):\n",
    "    photrats.set_plot_window([-1,0.25])\n",
    "    tracePeakRats = photrats.df.loc[indices,\"rat\"].astype(str).values\n",
    "    tracePeakChanges = []\n",
    "    missingInds = []\n",
    "    for rat in photrats.df.rat.unique():\n",
    "        if rat not in tracePeakRats:\n",
    "            missingInds.append(np.where(photrats.df.rat.unique()==rat)[0][0])\n",
    "            continue\n",
    "        tracesPost = get_TracesAroundIndex(photrats,indices[tracePeakRats==rat])\n",
    "        bline = tracesPost[:,0]#np.mean(tracesPost,axis=0)[0]\n",
    "        #tracePost = np.mean(tracesPost,axis=0)[photrats.fs*1:]\n",
    "        daChanges = np.max(tracesPost[:,photrats.fs*1:],axis=1)-bline\n",
    "        tracePeakChanges += list(daChanges)\n",
    "    return tracePeakChanges"
   ]
  },
  {
   "cell_type": "code",
   "execution_count": 114,
   "id": "42644022-b246-4839-94a5-e1fa8c33e657",
   "metadata": {},
   "outputs": [],
   "source": [
    "def calc_DaPeakDiffAfterNewPathInds(photrats,indices):\n",
    "    photrats.set_plot_window([-1,0.25])\n",
    "    tracePeakRats = photrats.df.loc[indices,\"rat\"].astype(str).values\n",
    "    tracePeakRatMeans = []\n",
    "    missingInds = []\n",
    "    for rat in photrats.df.rat.unique():\n",
    "        if rat not in tracePeakRats:\n",
    "            missingInds.append(np.where(photrats.df.rat.unique()==rat)[0][0])\n",
    "            continue\n",
    "        tracesPost = get_TracesAroundIndex(photrats,indices[tracePeakRats==rat])\n",
    "        bline = tracesPost[:,0]#np.mean(tracesPost,axis=0)[0]\n",
    "        #tracePost = np.mean(tracesPost,axis=0)[photrats.fs*1:]\n",
    "        daChanges = np.max(tracesPost[:,photrats.fs*1:],axis=1)-bline\n",
    "        tracePeakRatMeans.append(np.mean(daChanges))#max(tracePost)-bline)\n",
    "    return tracePeakRatMeans,missingInds"
   ]
  },
  {
   "cell_type": "code",
   "execution_count": 124,
   "id": "9ac9aadc-8399-413e-bd2b-2562e901685f",
   "metadata": {},
   "outputs": [],
   "source": [
    "newHexDaChanges = calc_DaPeakIndividualDiffsAfterNewPathInds(photrats,newHexAdjInds)"
   ]
  },
  {
   "cell_type": "code",
   "execution_count": 179,
   "id": "ece054a8-48c5-4fc7-a2d9-2349b5348d86",
   "metadata": {
    "tags": []
   },
   "outputs": [],
   "source": [
    "newHexRegDf = pd.DataFrame({\"DA_change\":newHexDaChanges,\"dist2port\":newDistsToPort,\\\n",
    "              \"portVal\":adjHexNextPortVal/100,'rat':photrats.df.loc[\\\n",
    "                                        newHexAdjInds,\"rat\"].astype(str).values})\n",
    "newHexRegDf = newHexRegDf.loc[(newHexRegDf.notnull().all(axis=1)),:]"
   ]
  },
  {
   "cell_type": "code",
   "execution_count": 186,
   "id": "8ecb5653-a559-412f-9ebb-5678c63b9d02",
   "metadata": {},
   "outputs": [],
   "source": [
    "newHexRegDf.loc[:,\"dist2port\"] = valscale.fit_transform(\\\n",
    "        newHexRegDf.loc[:,\"dist2port\"].values.reshape(-1,1))\n",
    "newHexRegDf.loc[:,\"portVal\"] = valscale.fit_transform(\\\n",
    "        newHexRegDf.loc[:,\"portVal\"].values.reshape(-1,1))"
   ]
  },
  {
   "cell_type": "code",
   "execution_count": 200,
   "id": "7fca82eb-f113-40e9-a1d8-6a00cb4c94dd",
   "metadata": {
    "collapsed": true,
    "jupyter": {
     "outputs_hidden": true
    },
    "tags": []
   },
   "outputs": [
    {
     "name": "stderr",
     "output_type": "stream",
     "text": [
      "/Users/timkrausz/opt/anaconda3/lib/python3.8/site-packages/scipy/stats/stats.py:1603: UserWarning: kurtosistest only valid for n>=20 ... continuing anyway, n=18\n",
      "  warnings.warn(\"kurtosistest only valid for n>=20 ... continuing \"\n",
      "/Users/timkrausz/opt/anaconda3/lib/python3.8/site-packages/scipy/stats/stats.py:1603: UserWarning: kurtosistest only valid for n>=20 ... continuing anyway, n=18\n",
      "  warnings.warn(\"kurtosistest only valid for n>=20 ... continuing \"\n",
      "/Users/timkrausz/opt/anaconda3/lib/python3.8/site-packages/scipy/stats/stats.py:1603: UserWarning: kurtosistest only valid for n>=20 ... continuing anyway, n=16\n",
      "  warnings.warn(\"kurtosistest only valid for n>=20 ... continuing \"\n",
      "/Users/timkrausz/opt/anaconda3/lib/python3.8/site-packages/scipy/stats/stats.py:1603: UserWarning: kurtosistest only valid for n>=20 ... continuing anyway, n=16\n",
      "  warnings.warn(\"kurtosistest only valid for n>=20 ... continuing \"\n",
      "/Users/timkrausz/opt/anaconda3/lib/python3.8/site-packages/scipy/stats/stats.py:1603: UserWarning: kurtosistest only valid for n>=20 ... continuing anyway, n=9\n",
      "  warnings.warn(\"kurtosistest only valid for n>=20 ... continuing \"\n",
      "/Users/timkrausz/opt/anaconda3/lib/python3.8/site-packages/scipy/stats/stats.py:1603: UserWarning: kurtosistest only valid for n>=20 ... continuing anyway, n=9\n",
      "  warnings.warn(\"kurtosistest only valid for n>=20 ... continuing \"\n",
      "/Users/timkrausz/opt/anaconda3/lib/python3.8/site-packages/scipy/stats/stats.py:1603: UserWarning: kurtosistest only valid for n>=20 ... continuing anyway, n=14\n",
      "  warnings.warn(\"kurtosistest only valid for n>=20 ... continuing \"\n",
      "/Users/timkrausz/opt/anaconda3/lib/python3.8/site-packages/scipy/stats/stats.py:1603: UserWarning: kurtosistest only valid for n>=20 ... continuing anyway, n=14\n",
      "  warnings.warn(\"kurtosistest only valid for n>=20 ... continuing \"\n",
      "/Users/timkrausz/opt/anaconda3/lib/python3.8/site-packages/scipy/stats/stats.py:1603: UserWarning: kurtosistest only valid for n>=20 ... continuing anyway, n=15\n",
      "  warnings.warn(\"kurtosistest only valid for n>=20 ... continuing \"\n",
      "/Users/timkrausz/opt/anaconda3/lib/python3.8/site-packages/scipy/stats/stats.py:1603: UserWarning: kurtosistest only valid for n>=20 ... continuing anyway, n=15\n",
      "  warnings.warn(\"kurtosistest only valid for n>=20 ... continuing \"\n",
      "/Users/timkrausz/opt/anaconda3/lib/python3.8/site-packages/scipy/stats/stats.py:1603: UserWarning: kurtosistest only valid for n>=20 ... continuing anyway, n=8\n",
      "  warnings.warn(\"kurtosistest only valid for n>=20 ... continuing \"\n",
      "/Users/timkrausz/opt/anaconda3/lib/python3.8/site-packages/scipy/stats/stats.py:1603: UserWarning: kurtosistest only valid for n>=20 ... continuing anyway, n=8\n",
      "  warnings.warn(\"kurtosistest only valid for n>=20 ... continuing \"\n",
      "/Users/timkrausz/opt/anaconda3/lib/python3.8/site-packages/statsmodels/stats/stattools.py:74: ValueWarning: omni_normtest is not valid with less than 8 observations; 7 samples were given.\n",
      "  warn(\"omni_normtest is not valid with less than 8 observations; %i \"\n",
      "/Users/timkrausz/opt/anaconda3/lib/python3.8/site-packages/statsmodels/stats/stattools.py:74: ValueWarning: omni_normtest is not valid with less than 8 observations; 7 samples were given.\n",
      "  warn(\"omni_normtest is not valid with less than 8 observations; %i \"\n",
      "/Users/timkrausz/opt/anaconda3/lib/python3.8/site-packages/scipy/stats/stats.py:1603: UserWarning: kurtosistest only valid for n>=20 ... continuing anyway, n=10\n",
      "  warnings.warn(\"kurtosistest only valid for n>=20 ... continuing \"\n",
      "/Users/timkrausz/opt/anaconda3/lib/python3.8/site-packages/scipy/stats/stats.py:1603: UserWarning: kurtosistest only valid for n>=20 ... continuing anyway, n=10\n",
      "  warnings.warn(\"kurtosistest only valid for n>=20 ... continuing \"\n"
     ]
    }
   ],
   "source": [
    "ratBetas = []\n",
    "for rat in ratsWithSufficientNumbers:\n",
    "    distFromNewDfRat = newHexRegDf.loc[newHexRegDf.rat==rat,:]\n",
    "    y = distFromNewDfRat.loc[:,\"DA_change\"]\n",
    "    X = distFromNewDfRat.loc[:,[\"dist2port\",\"portVal\"]]\n",
    "    betas,pvals = run_smLinRegWithPval(X,y)\n",
    "    ratBetas.append(betas)"
   ]
  },
  {
   "cell_type": "code",
   "execution_count": 201,
   "id": "6fee794d-eb11-4c85-b1ed-19bdbe868099",
   "metadata": {},
   "outputs": [
    {
     "data": {
      "text/plain": [
       "[array([ 4.2819347 , -0.2860685 , -3.43139157]),\n",
       " array([ 3.15090363,  0.44409047, -1.89022239]),\n",
       " array([ 4.63947051,  0.69144871, -1.0705713 ]),\n",
       " array([ 1.24829136,  4.17295315, -1.27010763]),\n",
       " array([  8.94329217, -12.39171072,  -3.0183711 ]),\n",
       " array([ 7.21973196, -5.51762129, -3.21643269]),\n",
       " array([ 2.28281531, -1.07706806,  0.21844859]),\n",
       " array([  3.64496033, -11.2918529 ,   4.44983239])]"
      ]
     },
     "execution_count": 201,
     "metadata": {},
     "output_type": "execute_result"
    }
   ],
   "source": [
    "ratBetas"
   ]
  },
  {
   "cell_type": "code",
   "execution_count": 234,
   "id": "33f5feaa-2361-4877-a16f-9d10794cfa99",
   "metadata": {},
   "outputs": [],
   "source": [
    "fig = plt.figure()\n",
    "sns.barplot(data=pd.DataFrame(ratBetas,columns=[\"icept\",\"dist2port\",\"pRwd\"]),ci=95,color='grey',alpha=0.5)\n",
    "sns.stripplot(data=pd.DataFrame(ratBetas,columns=[\"icept\",\"dist2port\",\"pRwd\"]),\\\n",
    "              marker='D',color='deeppink',edgecolor='k',size=8,linewidth=3)\n",
    "plt.ylabel(r\"Regression $\\beta \\pm 95\\% ci$ \")\n",
    "plt.tight_layout()\n",
    "fig.savefig(photrats.directory_prefix+\"newHexDistAndProbBetas.pdf\")"
   ]
  },
  {
   "cell_type": "code",
   "execution_count": 154,
   "id": "b7f8d71e-e615-4024-8049-29ccdc999841",
   "metadata": {},
   "outputs": [],
   "source": [
    "def run_smLinRegWithPval(X,y):\n",
    "    X = np.hstack([np.ones(len(X)).reshape(-1,1),X])\n",
    "    mod = sm.OLS(y, X).fit()\n",
    "    coefs = mod.summary2().tables[1]['Coef.'].values\n",
    "    pvals = mod.summary2().tables[1][\"P>|t|\"].values\n",
    "    return coefs,pvals"
   ]
  },
  {
   "cell_type": "code",
   "execution_count": 155,
   "id": "7015f98d-d075-412b-89b0-5180bc6ab0da",
   "metadata": {},
   "outputs": [],
   "source": [
    "y=newHexRegDf.loc[:,\"DA_change\"]\n",
    "X = newHexRegDf.loc[:,[\"dist2port\",\"portVal\"]]\n",
    "betas,pvals = run_smLinRegWithPval(X,y)"
   ]
  },
  {
   "cell_type": "markdown",
   "id": "06693a85-0cc8-4fa5-acf9-695b50e9ebf6",
   "metadata": {},
   "source": [
    "## betas for distance and port val are not significant. Should run regression for each animal that had enough data. Otherwise could do barplot and test if categories are different."
   ]
  },
  {
   "cell_type": "code",
   "execution_count": 111,
   "id": "a44b7fab-dd33-4db5-9743-766bb0b2afe0",
   "metadata": {},
   "outputs": [
    {
     "data": {
      "text/plain": [
       "array([ 3.146  ,  5.     ,  1.124  ,  3.227  ,  0.5205 ,  5.992  ,\n",
       "        0.5254 ,  4.54   ,  0.0371 ,  3.217  , -0.05737,  0.1938 ,\n",
       "        0.4473 ,  0.6143 ,  3.06   ,  0.6396 ,  1.342  ,  1.486  ],\n",
       "      dtype=float16)"
      ]
     },
     "execution_count": 111,
     "metadata": {},
     "output_type": "execute_result"
    }
   ],
   "source": [
    "np.max(tracesPost[:,photrats.fs*1:],axis=1)"
   ]
  },
  {
   "cell_type": "markdown",
   "id": "c70390dc-1241-46d2-b7f6-7221d9a55fd6",
   "metadata": {},
   "source": [
    "# I was taking mean trace max - mean trace baseline, instead of mean of (max-baseline) for each trace"
   ]
  },
  {
   "cell_type": "code",
   "execution_count": 113,
   "id": "66c95d03-e45d-4a7a-8d24-5bf1ee602453",
   "metadata": {},
   "outputs": [
    {
     "data": {
      "text/plain": [
       "[2.254, 5.824, 2.08, 4.2, 2.326, 4.516, 3.938, 1.992, 2.523, 2.266]"
      ]
     },
     "execution_count": 113,
     "metadata": {},
     "output_type": "execute_result"
    }
   ],
   "source": [
    "tracePeakRatMeans"
   ]
  },
  {
   "cell_type": "code",
   "execution_count": 99,
   "id": "a549f42d-1130-423d-bf4a-86aecc9e701b",
   "metadata": {},
   "outputs": [
    {
     "data": {
      "text/plain": [
       "[1.442, 4.48, 0.889, 3.176, 1.177, 2.91, 3.246, 1.249, 1.642, 2.266]"
      ]
     },
     "execution_count": 99,
     "metadata": {},
     "output_type": "execute_result"
    }
   ],
   "source": [
    "newHexDAchangeMeans"
   ]
  },
  {
   "cell_type": "code",
   "execution_count": 86,
   "id": "ecddcf89",
   "metadata": {},
   "outputs": [],
   "source": [
    "photrats.set_plot_trace(\"green_z_scored\")"
   ]
  },
  {
   "cell_type": "code",
   "execution_count": 618,
   "id": "4e8bb3e7",
   "metadata": {},
   "outputs": [],
   "source": [
    "availMeans,_ = calc_DaPeakDiffAfterNewPathInds(photrats,np.concatenate([enteredInds,ignoredInds]))"
   ]
  },
  {
   "cell_type": "code",
   "execution_count": 115,
   "id": "50b4a163",
   "metadata": {},
   "outputs": [],
   "source": [
    "blockedMeans,missingInd = calc_DaPeakDiffAfterNewPathInds(photrats,blockedHexAdjInds)"
   ]
  },
  {
   "cell_type": "code",
   "execution_count": 116,
   "id": "93a8994f-0cde-4ff9-b59f-90933b210829",
   "metadata": {},
   "outputs": [
    {
     "data": {
      "text/plain": [
       "[1.214, 2.059, 0.6025, 0.8047, 2.543, 1.237, 2.438, 0.8555, 1.56, 1.081]"
      ]
     },
     "execution_count": 116,
     "metadata": {},
     "output_type": "execute_result"
    }
   ],
   "source": [
    "blockedMeans"
   ]
  },
  {
   "cell_type": "code",
   "execution_count": 118,
   "id": "011fab7b",
   "metadata": {},
   "outputs": [
    {
     "name": "stdout",
     "output_type": "stream",
     "text": [
      "p-value =  0.001953125\n"
     ]
    },
    {
     "data": {
      "text/plain": [
       "(False, True, True)"
      ]
     },
     "execution_count": 118,
     "metadata": {},
     "output_type": "execute_result"
    }
   ],
   "source": [
    "get_sigRatsPaired_from2samples(tracePeakRatMeans,blockedMeans,\"greater\")"
   ]
  },
  {
   "cell_type": "code",
   "execution_count": 122,
   "id": "8fe83620",
   "metadata": {},
   "outputs": [
    {
     "data": {
      "text/plain": [
       "WilcoxonResult(statistic=0.0, pvalue=0.001953125)"
      ]
     },
     "execution_count": 122,
     "metadata": {},
     "output_type": "execute_result"
    }
   ],
   "source": [
    "wilcoxon(tracePeakRatMeans)"
   ]
  },
  {
   "cell_type": "code",
   "execution_count": 119,
   "id": "30afedad",
   "metadata": {},
   "outputs": [
    {
     "data": {
      "text/plain": [
       "WilcoxonResult(statistic=0.0, pvalue=0.001953125)"
      ]
     },
     "execution_count": 119,
     "metadata": {},
     "output_type": "execute_result"
    }
   ],
   "source": [
    "wilcoxon(blockedMeans)"
   ]
  },
  {
   "cell_type": "code",
   "execution_count": 94,
   "id": "62c241e7",
   "metadata": {},
   "outputs": [
    {
     "name": "stdout",
     "output_type": "stream",
     "text": [
      "blocked hex: \n",
      "avail hex: \n",
      "paired test\n",
      "p-value =  0.0009765625\n"
     ]
    }
   ],
   "source": [
    "fig = plot_meanRatDaChangeAfterHexEntry(photrats,np.concatenate([enteredInds,ignoredInds]),blockedHexAdjInds,pltCol1=\"deeppink\",pltCol2=\"k\")\n",
    "#plt.ylim(-.6,2.6)#-.5,2.3)\n",
    "plt.xticks([0,1],[\"newly\\navailable\",\"newly\\nblocked\"])\n",
    "plt.tight_layout()\n",
    "fig.savefig(photrats.directory_prefix+\"DaChangeNewlyAvailVblockedBarplot_firstDiscovery.pdf\")\n",
    "#fig.savefig(photrats.directory_prefix+photrats.plot_trace+\"ChangeNewlyAvailVblockedBarplot_firstDiscovery.pdf\")"
   ]
  },
  {
   "cell_type": "code",
   "execution_count": 102,
   "id": "c05ad886",
   "metadata": {},
   "outputs": [
    {
     "name": "stdout",
     "output_type": "stream",
     "text": [
      "0.001953125\n"
     ]
    },
    {
     "data": {
      "text/plain": [
       "(False, True, True)"
      ]
     },
     "execution_count": 102,
     "metadata": {},
     "output_type": "execute_result"
    }
   ],
   "source": [
    "get_sigRats_fromMeanList(availMeans)"
   ]
  },
  {
   "cell_type": "code",
   "execution_count": 146,
   "id": "de9be827",
   "metadata": {},
   "outputs": [],
   "source": [
    "def plotFirstEntryHexChange(photrats,adjHexInds,blockedHexAdjInds,legend_on=False):\n",
    "    #photrats.set_plot_trace(\"green_z_scored\")\n",
    "    photrats.set_plot_window([-5,5])\n",
    "    smoothWin = int(photrats.fs/4)\n",
    "    fig = plt.figure(figsize=(7,5))#(4.8,5))\n",
    "    xvals = np.arange(photrats.plot_window[0]*photrats.fs,photrats.plot_window[1]*photrats.fs+1)/photrats.fs\n",
    "    \n",
    "    avail_traces,blocked_traces = get_availAndBlockedTraces(photrats,adjHexInds,blockedHexAdjInds)\n",
    "    \n",
    "    #toplt = pd.Series(np.median(avail_traces,axis=0)).rolling(smoothWin).mean().values\n",
    "    toplt = pd.Series(np.mean(avail_traces,axis=0)).rolling(smoothWin).mean().values\n",
    "    topltSem = pd.Series(sem(avail_traces,axis=0)).rolling(smoothWin).mean().values\n",
    "    plt.plot(xvals,toplt,label=\"Newly available\",color='deeppink',lw=3)\n",
    "    plt.fill_between(xvals,toplt-topltSem,toplt+topltSem,color='deeppink',alpha=.3)\n",
    "    toplt = pd.Series(np.mean(blocked_traces,axis=0)).rolling(smoothWin).mean().values\n",
    "    topltSem = pd.Series(sem(blocked_traces,axis=0)).rolling(smoothWin).mean().values\n",
    "    plt.plot(xvals,toplt,label=\"Newly blocked\",color='k',ls=':',lw=3)\n",
    "    plt.fill_between(xvals,toplt-topltSem,toplt+topltSem,color='k',ls=':',alpha=.3)\n",
    "    plt.xlabel(\"time from hex entry (s)\",fontsize=\"xx-large\")\n",
    "    #plt.ylabel(\"median z-scored DA\",fontsize=\"xx-large\"\")\n",
    "    plt.ylabel(\"Mean z-scored DA\",fontsize=\"xx-large\")\n",
    "    plt.axvline(x=0,ls='--',color='k',alpha=.8,lw=1)\n",
    "    plt.xticks(np.arange(-5,6))\n",
    "    #plt.ylim([-.4,1.3])\n",
    "    if legend_on:\n",
    "        plt.legend()\n",
    "    plt.tight_layout()\n",
    "    return fig"
   ]
  },
  {
   "cell_type": "code",
   "execution_count": 149,
   "id": "406e9bdb",
   "metadata": {},
   "outputs": [],
   "source": [
    "fig = plotFirstEntryHexChange(photrats,np.concatenate([enteredInds,ignoredInds]),blockedHexAdjInds,legend_on=False)\n",
    "#plt.ylim(-.9,2.2)\n",
    "#fig.savefig(photrats.directory_prefix+\"DaNewlyAvailVblocked_mean.pdf\")\n",
    "#fig.savefig(photrats.directory_prefix+photrats.plot_trace+\"NewlyAvailVblocked_mean.pdf\")"
   ]
  },
  {
   "cell_type": "code",
   "execution_count": 151,
   "id": "47de377a",
   "metadata": {},
   "outputs": [],
   "source": [
    "plt.ylabel(\"Mean running speed (cm/s)\")\n",
    "fig.savefig(photrats.directory_prefix+photrats.plot_trace+\"NewlyAvailVblocked_mean.pdf\")"
   ]
  },
  {
   "cell_type": "markdown",
   "id": "b5a21ec6",
   "metadata": {},
   "source": [
    "- plot DA aligned to new hex discovery pooled by whether rat entered or ignored new path"
   ]
  },
  {
   "cell_type": "code",
   "execution_count": null,
   "id": "48c18593",
   "metadata": {},
   "outputs": [],
   "source": [
    "def get_availAndBlockedTraces(photrats,adjHexInds,blockedHexAdjInds):\n",
    "    avail_traces = []\n",
    "    blocked_traces = []\n",
    "    for i in adjHexInds:\n",
    "        if np.isnan(i) or i == -1:\n",
    "            continue\n",
    "        avail_traces.append(photrats.df.loc[i+photrats.fs*photrats.plot_window[0]:\\\n",
    "                i+photrats.fs*photrats.plot_window[1],photrats.plot_trace].values)\n",
    "    for i in blockedHexAdjInds:\n",
    "        if np.isnan(i):\n",
    "            continue\n",
    "        blocked_traces.append(photrats.df.loc[i+photrats.fs*photrats.plot_window[0]:\\\n",
    "                i+photrats.fs*photrats.plot_window[1],photrats.plot_trace].values)\n",
    "    return np.array(avail_traces),np.array(blocked_traces)"
   ]
  },
  {
   "cell_type": "code",
   "execution_count": 263,
   "id": "e6d1e38b",
   "metadata": {},
   "outputs": [],
   "source": [
    "def plotFirstAdjEntryByEnteredVsIgnored(photrats,enteredInds,ignoredInds,legend_on=False,pltCol1='deeppink',pltCol2='k',ls2='-'):\n",
    "    photrats.set_plot_trace(\"green_z_scored\")\n",
    "    photrats.set_plot_window([-5,5])\n",
    "    smoothWin = int(photrats.fs/4)\n",
    "    fig = plt.figure(figsize=(7,5))\n",
    "    xvals = np.arange(photrats.plot_window[0]*photrats.fs,photrats.plot_window[1]*photrats.fs+1)/photrats.fs\n",
    "    \n",
    "    avail_traces,blocked_traces = get_availAndBlockedTraces(photrats,enteredInds,ignoredInds)\n",
    "    \n",
    "    toplt = pd.Series(np.mean(avail_traces,axis=0)).rolling(smoothWin).mean().values\n",
    "    topltSem = pd.Series(sem(avail_traces,axis=0)).rolling(smoothWin).mean().values\n",
    "    plt.plot(xvals,toplt,label=\"entered\",color=pltCol1,lw=3)\n",
    "    plt.fill_between(xvals,toplt-topltSem,toplt+topltSem,color=pltCol1,alpha=.2)\n",
    "    toplt = pd.Series(np.mean(blocked_traces,axis=0)).rolling(smoothWin).mean().values\n",
    "    topltSem = pd.Series(sem(blocked_traces,axis=0)).rolling(smoothWin).mean().values\n",
    "    plt.plot(xvals,toplt,label=\"ignored\",ls=ls2,color=pltCol2,lw=3)\n",
    "    plt.fill_between(xvals,toplt-topltSem,toplt+topltSem,color=pltCol2,alpha=.2)\n",
    "    plt.xlabel(\"Time from changed-hex discovery (s)\",fontsize=\"xx-large\")\n",
    "    plt.ylabel(\"Mean z-scored DA\",fontsize=\"xx-large\")\n",
    "    plt.axvline(x=0,ls='--',color='k',alpha=.9,lw=1)\n",
    "    plt.xticks(np.arange(-5,6))\n",
    "    if legend_on:\n",
    "        plt.legend()\n",
    "    plt.tight_layout()\n",
    "    return fig"
   ]
  },
  {
   "cell_type": "code",
   "execution_count": 29,
   "id": "e9109f12",
   "metadata": {},
   "outputs": [],
   "source": [
    "photrats.set_plot_trace(\"green_z_scored\")\n",
    "fig = plotFirstAdjEntryByEnteredVsIgnored(photrats,enteredInds,ignoredInds,legend_on=True,pltCol1=\"#27aeef\",pltCol2= \"#b33dc6\",ls2='-')\n",
    "plt.ylim(-.9,2.2)\n",
    "fig.savefig(photrats.directory_prefix+\"DaEnteredVsIgnoredNewlyAvail_mean.pdf\")"
   ]
  },
  {
   "cell_type": "code",
   "execution_count": 73,
   "id": "ca66e7b3",
   "metadata": {},
   "outputs": [],
   "source": [
    "ignoredInclusionRats = np.array(list(ignored_n_PerRat.keys()))[np.where(np.array(list(ignored_n_PerRat.values()))>=3)]\n",
    "inclusionInds = photrats.df.loc[photrats.df.rat.isin(ignoredInclusionRats)].index\n",
    "ignoredInds2include = ignoredInds[np.where(np.isin(ignoredInds,inclusionInds))]"
   ]
  },
  {
   "cell_type": "code",
   "execution_count": 59,
   "id": "00649f57",
   "metadata": {},
   "outputs": [],
   "source": [
    "def plot_meanRatDaChangeAfterHexEntry(photrats,adjHexInds,blockedHexAdjInds,pltCol1=\"#27aeef\",pltCol2= \"#b33dc6\"):\n",
    "    #availRatMeans,blockedRatMeans = calc_DaChangeAtHexEntry(photrats,adjHexInds,blockedHexAdjInds)\n",
    "    availMeans,_ = calc_DaPeakDiffAfterNewPathInds(photrats,adjHexInds)\n",
    "    blockedMeans,missingInd = calc_DaPeakDiffAfterNewPathInds(photrats,blockedHexAdjInds)\n",
    "    fig = plt.figure(figsize=(4,5.5))\n",
    "    plt.bar([0,1],[np.mean(availMeans),\\\n",
    "            np.mean(blockedMeans)],color='k',alpha=0.3)\n",
    "    plt.ylabel(\"mean $\\Delta$DA\",fontsize='xx-large',fontweight='bold')\n",
    "    plt.xlabel(\"hex type\",fontsize='xx-large',fontweight='bold')\n",
    "    for r in range(len(availMeans)):\n",
    "        plt.scatter(x=0,y=np.mean(availMeans[r]),color=pltCol1,marker='o')\n",
    "        try:\n",
    "            plt.scatter(x=1,y=np.mean(blockedMeans[r]),color=pltCol2,marker='o')\n",
    "            plt.plot([0,1],[np.mean(availMeans[r]),np.mean(blockedMeans[r])],color='k',alpha=0.5,lw=1)\n",
    "        except:\n",
    "            continue\n",
    "    #for r in [np.mean(rm) for rm in blockedRatMeans]:\n",
    "    #    plt.scatter(x=1,y=np.mean(r),color=pltCol2,marker='o')\n",
    "    print(\"blocked hex: \")\n",
    "    sigBlocked = get_sigRats_fromMeanList(blockedMeans)\n",
    "    print(\"avail hex: \")\n",
    "    sigAvail = get_sigRats_fromMeanList(availMeans)\n",
    "    #missingInd = [i for i in range(len(blockedRatMeans)) if len(blockedRatMeans[i])==0]\n",
    "    if len(missingInd)>0:\n",
    "        availMeans = np.delete(availMeans,missingInd)\n",
    "    print(\"paired test\")\n",
    "    sigPaired = get_sigRatsPaired_from2samples(availMeans,blockedMeans,\"greater\")\n",
    "    plot_sigMarkers(sigPaired,0.5,2.4)\n",
    "    plot_sigMarkers(sigAvail,-.05,2.1)\n",
    "    plot_sigMarkers(sigBlocked,1,2.1)\n",
    "    plt.tight_layout()\n",
    "    return fig"
   ]
  },
  {
   "cell_type": "code",
   "execution_count": 76,
   "id": "60c241d7",
   "metadata": {},
   "outputs": [
    {
     "name": "stdout",
     "output_type": "stream",
     "text": [
      "blocked hex: \n",
      "p-value =  0.0546875\n",
      "avail hex: \n",
      "p-value =  0.001953125\n",
      "paired test\n",
      "p-value =  0.23046875\n"
     ]
    }
   ],
   "source": [
    "fig = plot_meanRatDaChangeAfterHexEntry(photrats,enteredInds,ignoredInds)\n",
    "plt.xticks([0,1],[\"entered\\navail\",\"ignored\\navail\"])\n",
    "plt.tight_layout()\n",
    "fig.savefig(photrats.directory_prefix+\"DaChangeEnteredVsIgnoredNewlyAvailBarplot.pdf\")"
   ]
  },
  {
   "cell_type": "markdown",
   "id": "c511bd2d",
   "metadata": {},
   "source": [
    "- calculate difference in average rat DA trace (peak DA within 0.5s after hex entry - DA 1s before hex entry)"
   ]
  },
  {
   "cell_type": "code",
   "execution_count": 606,
   "id": "eaba2c1d",
   "metadata": {},
   "outputs": [],
   "source": [
    "photrats.set_plot_trace(\"green_z_scored\")"
   ]
  },
  {
   "cell_type": "code",
   "execution_count": 607,
   "id": "7a4024e1",
   "metadata": {
    "tags": []
   },
   "outputs": [],
   "source": [
    "fig,availratmeans,avail_n_PerRat = plot_ratTracesAtHexChangeDiscovery(photrats,np.concatenate([enteredInds,ignoredInds]),pltCol=\"deeppink\")\n",
    "#fig.savefig(photrats.directory_prefix+\"DaNewlyAvail_byRat.pdf\")\n",
    "fig,blockedratmeans,blocked_n_PerRat = plot_ratTracesAtHexChangeDiscovery(photrats,blockedHexAdjInds)\n",
    "#fig.savefig(photrats.directory_prefix+\"DaNewlyBlocked_byRat.pdf\")\n",
    "with open(photrats.directory_prefix+\"availPathNumbers.txt\", 'w') as f:\n",
    "        f.write(str(avail_n_PerRat))\n",
    "with open(photrats.directory_prefix+\"blockedPathNumbers.txt\", 'w') as f:\n",
    "        f.write(str(blocked_n_PerRat))\n",
    "fig = plotFirstEntryHexChangeMeanOverRats(photrats,availratmeans,blockedratmeans,ls2=':')\n",
    "#fig.savefig(photrats.directory_prefix+\"DaNewlyAvailvBlocked_byRat.pdf\")\n"
   ]
  },
  {
   "cell_type": "code",
   "execution_count": 611,
   "id": "845073bf",
   "metadata": {},
   "outputs": [
    {
     "data": {
      "text/plain": [
       "array([0.0955 , 0.501  , 0.1608 , 0.2825 , 0.10706, 0.2976 , 0.6567 ,\n",
       "       0.4949 , 0.2069 , 0.67   ], dtype=float16)"
      ]
     },
     "execution_count": 611,
     "metadata": {},
     "output_type": "execute_result"
    }
   ],
   "source": [
    "np.mean(availratmeans,axis=1)"
   ]
  },
  {
   "cell_type": "code",
   "execution_count": 626,
   "id": "f956c87c",
   "metadata": {},
   "outputs": [
    {
     "data": {
      "text/plain": [
       "[1.442, 4.48, 0.889, 3.176, 1.177, 2.91, 3.246, 1.249, 2.23, 1.72]"
      ]
     },
     "execution_count": 626,
     "metadata": {},
     "output_type": "execute_result"
    }
   ],
   "source": [
    "availMeans"
   ]
  },
  {
   "cell_type": "code",
   "execution_count": 629,
   "id": "6f0f39e3",
   "metadata": {},
   "outputs": [
    {
     "data": {
      "text/plain": [
       "WilcoxonResult(statistic=0.0, pvalue=0.001953125)"
      ]
     },
     "execution_count": 629,
     "metadata": {},
     "output_type": "execute_result"
    }
   ],
   "source": [
    "wilcoxon(availMeans,blockedMeans)#,alternative=\"greater\")"
   ]
  },
  {
   "cell_type": "code",
   "execution_count": 165,
   "id": "019cc127",
   "metadata": {},
   "outputs": [],
   "source": [
    "fig = plotFirstEntryHexChangeMeanOverRats(photrats,availratmeans,blockedratmeans,ls2=':')"
   ]
  },
  {
   "cell_type": "code",
   "execution_count": 194,
   "id": "c17f74b8",
   "metadata": {},
   "outputs": [],
   "source": [
    "def get_ratTracesAtHexChangeDiscovery(photrats,xvals,indices,plotTraces=True):\n",
    "    tracePeakRats = photrats.df.loc[indices,\"rat\"].astype(str).values\n",
    "    ratmeans = []\n",
    "    n_PerRat = {r:[] for r in photrats.df.rat.unique()}\n",
    "    for rat in photrats.df.rat.unique():\n",
    "        tracesPost = get_TracesAroundIndex(photrats,indices[tracePeakRats==rat])\n",
    "        tracePost = np.mean(tracesPost,axis=0)\n",
    "        n_PerRat[rat] = len(tracesPost)\n",
    "        if len(tracesPost)>=3:\n",
    "            ratmeans.append(tracePost)\n",
    "            if plotTraces:\n",
    "                plt.plot(xvals,tracePost,color='k',alpha=0.3,lw=1)\n",
    "    return ratmeans,n_PerRat\n",
    "\n",
    "def plot_ratTracesAtHexChangeDiscovery(photrats,inds,pltCol='k'):\n",
    "    '''Plot individual rat averages at discovery of newly available and newly blocked paths.\n",
    "    Return average of rat average traces.'''\n",
    "    xvals = np.arange(photrats.plot_window[0]*photrats.fs,photrats.plot_window[1]*photrats.fs+1)/photrats.fs\n",
    "    fig = plt.figure()\n",
    "    tracePeakRats = photrats.df.loc[inds,\"rat\"].astype(str).values\n",
    "    ratmeans,n_PerRat = get_ratTracesAtHexChangeDiscovery(photrats,xvals,inds)\n",
    "    plt.plot(xvals,np.mean(ratmeans,axis=0),color=pltCol)\n",
    "    #plt.ylim(-1.5,4.9)\n",
    "    plt.ylabel(\"mean DA\")\n",
    "    plt.xlabel(\"time from port entry (s)\")\n",
    "    plt.tight_layout()\n",
    "    return fig,ratmeans,n_PerRat"
   ]
  },
  {
   "cell_type": "code",
   "execution_count": 174,
   "id": "82dd4a09",
   "metadata": {},
   "outputs": [
    {
     "data": {
      "text/plain": [
       "['IM-1272', 'IM-1276', 'IM-1292', 'IM-1322', 'IM-1478']"
      ]
     },
     "execution_count": 174,
     "metadata": {},
     "output_type": "execute_result"
    }
   ],
   "source": [
    "ratsWithOkNum = [rat for rat in ignored_n_PerRat.keys() if ignored_n_PerRat[rat]>=3]"
   ]
  },
  {
   "cell_type": "code",
   "execution_count": 192,
   "id": "622911d7",
   "metadata": {},
   "outputs": [
    {
     "data": {
      "text/plain": [
       "[array([-0.3533 , -0.3564 , -0.3528 , ..., -0.087  , -0.0444 ,  0.03134],\n",
       "       dtype=float16),\n",
       " array([ 0.2947 ,  0.225  ,  0.1694 , ..., -0.302  , -0.1936 , -0.09625],\n",
       "       dtype=float16),\n",
       " array([0.153  , 0.1316 , 0.11334, ..., 0.00236, 0.04196, 0.07404],\n",
       "       dtype=float16),\n",
       " array([-0.10345, -0.1081 , -0.1132 , ..., -0.2113 , -0.2081 , -0.2112 ],\n",
       "       dtype=float16)]"
      ]
     },
     "execution_count": 192,
     "metadata": {},
     "output_type": "execute_result"
    }
   ],
   "source": [
    "ignoredratmeans"
   ]
  },
  {
   "cell_type": "code",
   "execution_count": 195,
   "id": "118b7bc6",
   "metadata": {
    "tags": []
   },
   "outputs": [
    {
     "name": "stderr",
     "output_type": "stream",
     "text": [
      "/Users/timkrausz/opt/anaconda3/lib/python3.8/site-packages/numpy/core/fromnumeric.py:3419: RuntimeWarning: Mean of empty slice.\n",
      "  return _methods._mean(a, axis=axis, dtype=dtype,\n",
      "/Users/timkrausz/opt/anaconda3/lib/python3.8/site-packages/numpy/core/_methods.py:188: RuntimeWarning: invalid value encountered in double_scalars\n",
      "  ret = ret.dtype.type(ret / rcount)\n"
     ]
    }
   ],
   "source": [
    "fig,enteredratmeans,entered_n_PerRat = plot_ratTracesAtHexChangeDiscovery(photrats,enteredInds,pltCol=\"#27aeef\")\n",
    "fig.savefig(photrats.directory_prefix+\"DaEnteredPath_byRat.pdf\")\n",
    "fig,ignoredratmeans,ignored_n_PerRat = plot_ratTracesAtHexChangeDiscovery(photrats,ignoredInds,pltCol=\"#b33dc6\")\n",
    "fig.savefig(photrats.directory_prefix+\"DaIgnoredPath_byRat.pdf\")\n",
    "with open(photrats.directory_prefix+\"enteredPathNumbers.txt\", 'w') as f:\n",
    "        f.write(str(entered_n_PerRat))\n",
    "with open(photrats.directory_prefix+\"ignoredPathNumbers.txt\", 'w') as f:\n",
    "        f.write(str(ignored_n_PerRat))\n",
    "fig = plotFirstEntryHexChangeMeanOverRats(photrats,enteredratmeans,ignoredratmeans,pltCol1=\"#27aeef\",pltCol2=\"#b33dc6\")\n",
    "fig.savefig(photrats.directory_prefix+\"DaNewlyEnteredvIgnored_byRat.pdf\")"
   ]
  },
  {
   "cell_type": "code",
   "execution_count": 198,
   "id": "e3219864",
   "metadata": {},
   "outputs": [
    {
     "data": {
      "text/plain": [
       "{'IM-1272': 11,\n",
       " 'IM-1273': 3,\n",
       " 'IM-1276': 13,\n",
       " 'IM-1291': 8,\n",
       " 'IM-1292': 11,\n",
       " 'IM-1322': 9,\n",
       " 'IM-1398': 6,\n",
       " 'IM-1434': 5,\n",
       " 'IM-1478': 5,\n",
       " 'IM-1532': 3}"
      ]
     },
     "execution_count": 198,
     "metadata": {},
     "output_type": "execute_result"
    }
   ],
   "source": [
    "entered_n_PerRat"
   ]
  },
  {
   "cell_type": "code",
   "execution_count": 197,
   "id": "7995e51e",
   "metadata": {},
   "outputs": [
    {
     "data": {
      "text/plain": [
       "74"
      ]
     },
     "execution_count": 197,
     "metadata": {},
     "output_type": "execute_result"
    }
   ],
   "source": [
    "np.sum([entered_n_PerRat[rat] for rat in entered_n_PerRat])"
   ]
  },
  {
   "cell_type": "code",
   "execution_count": 200,
   "id": "52f73a63",
   "metadata": {},
   "outputs": [
    {
     "data": {
      "text/plain": [
       "26"
      ]
     },
     "execution_count": 200,
     "metadata": {},
     "output_type": "execute_result"
    }
   ],
   "source": [
    "np.sum([ignored_n_PerRat[rat] for rat in ignored_n_PerRat if ignored_n_PerRat[rat]>2])"
   ]
  },
  {
   "cell_type": "code",
   "execution_count": null,
   "id": "c05cfadc",
   "metadata": {},
   "outputs": [],
   "source": [
    "np.where(ignored_n_PerRat>)"
   ]
  },
  {
   "cell_type": "code",
   "execution_count": null,
   "id": "817a62e9",
   "metadata": {},
   "outputs": [],
   "source": [
    "fig = plotFirstEntryHexChangeMeanOverRats(photrats,enteredratmeans,ignoredratmeans,pltCol1=\"#27aeef\",pltCol2=\"#b33dc6\")"
   ]
  },
  {
   "cell_type": "markdown",
   "id": "f650a4ab",
   "metadata": {},
   "source": [
    "- CONTROL: plot avg da in all entries into newly available/blocked hex state on all other trials in session."
   ]
  },
  {
   "cell_type": "code",
   "execution_count": 59,
   "id": "4a834a0a",
   "metadata": {},
   "outputs": [],
   "source": [
    "# identify the hex of first discovery\n",
    "\n",
    "# identify all times during the same session when rat entered. (get indices)\n",
    "\n",
    "# get traces aligned to these indices\n",
    "\n",
    "# plot average response to same hexes"
   ]
  },
  {
   "cell_type": "markdown",
   "id": "26d3ab4f",
   "metadata": {},
   "source": [
    "- instead, first plot DA at entry into all choice points.. then average response upon entry into all hexes (with distance from port >4)"
   ]
  },
  {
   "cell_type": "code",
   "execution_count": 63,
   "id": "12903cec",
   "metadata": {},
   "outputs": [],
   "source": [
    "del photrats.sesh_tmats"
   ]
  },
  {
   "cell_type": "code",
   "execution_count": 66,
   "id": "8124df8b",
   "metadata": {},
   "outputs": [],
   "source": [
    "photrats.get_allChoicePoints()"
   ]
  },
  {
   "cell_type": "markdown",
   "id": "96f05c66",
   "metadata": {},
   "source": [
    "## plot regression results"
   ]
  },
  {
   "cell_type": "code",
   "execution_count": 29,
   "id": "c87c05f0",
   "metadata": {},
   "outputs": [],
   "source": [
    "regCoefs = pd.read_csv(photrats.directory_prefix+chooseLregCoefsByRat.csv\")\n",
    "regSum = pd.read_csv(photrats.directory_prefix+chooseLregSummary.csv\")"
   ]
  },
  {
   "cell_type": "code",
   "execution_count": 42,
   "id": "05a890d0",
   "metadata": {},
   "outputs": [
    {
     "data": {
      "text/html": [
       "<div>\n",
       "<style scoped>\n",
       "    .dataframe tbody tr th:only-of-type {\n",
       "        vertical-align: middle;\n",
       "    }\n",
       "\n",
       "    .dataframe tbody tr th {\n",
       "        vertical-align: top;\n",
       "    }\n",
       "\n",
       "    .dataframe thead th {\n",
       "        text-align: right;\n",
       "    }\n",
       "</style>\n",
       "<table border=\"1\" class=\"dataframe\">\n",
       "  <thead>\n",
       "    <tr style=\"text-align: right;\">\n",
       "      <th></th>\n",
       "      <th>Unnamed: 0</th>\n",
       "      <th>Estimate</th>\n",
       "      <th>Std. Error</th>\n",
       "      <th>z value</th>\n",
       "      <th>Pr(&gt;|z|)</th>\n",
       "    </tr>\n",
       "  </thead>\n",
       "  <tbody>\n",
       "    <tr>\n",
       "      <th>0</th>\n",
       "      <td>(Intercept)</td>\n",
       "      <td>2.185913</td>\n",
       "      <td>0.333764</td>\n",
       "      <td>6.549282</td>\n",
       "      <td>5.781420e-11</td>\n",
       "    </tr>\n",
       "    <tr>\n",
       "      <th>1</th>\n",
       "      <td>pRwdScaled</td>\n",
       "      <td>1.685901</td>\n",
       "      <td>0.151973</td>\n",
       "      <td>11.093423</td>\n",
       "      <td>1.350207e-28</td>\n",
       "    </tr>\n",
       "    <tr>\n",
       "      <th>2</th>\n",
       "      <td>ldifScaled</td>\n",
       "      <td>-6.839847</td>\n",
       "      <td>0.595627</td>\n",
       "      <td>-11.483439</td>\n",
       "      <td>1.597954e-30</td>\n",
       "    </tr>\n",
       "  </tbody>\n",
       "</table>\n",
       "</div>"
      ],
      "text/plain": [
       "    Unnamed: 0  Estimate  Std. Error    z value      Pr(>|z|)\n",
       "0  (Intercept)  2.185913    0.333764   6.549282  5.781420e-11\n",
       "1   pRwdScaled  1.685901    0.151973  11.093423  1.350207e-28\n",
       "2   ldifScaled -6.839847    0.595627 -11.483439  1.597954e-30"
      ]
     },
     "execution_count": 42,
     "metadata": {},
     "output_type": "execute_result"
    }
   ],
   "source": [
    "regSum"
   ]
  },
  {
   "cell_type": "code",
   "execution_count": 48,
   "id": "0bebe16b",
   "metadata": {},
   "outputs": [],
   "source": [
    "fig = plt.figure(figsize=(5,7))\n",
    "xvals = [\"Intercept\",\"p(reward)\",\"Distance\"]\n",
    "#sns.boxplot(data=regCoefs.loc[:,[\"pRwdScaled\",\"ldifScaled\"]],color='lightgrey')#,alpha=.5)\n",
    "sns.barplot(data=regCoefs.loc[:,[\"(Intercept)\",\"pRwdScaled\",\"ldifScaled\"]],color='lightgrey',ci=95)#,alpha=.5)\n",
    "#plt.bar([0,1,2],regSum.Estimate.values)\n",
    "sns.stripplot(data=regCoefs.loc[:,[\"(Intercept)\",\"pRwdScaled\",\"ldifScaled\"]],color='k',size=8,marker='D',alpha=.9)\n",
    "plt.axhline(y=0,ls='--',color='k')\n",
    "plt.xticks([0,1,2],xvals)\n",
    "#plotRegSigLevel(regSum,0,2.0)\n",
    "#plotRegSigLevel(regSum,1,2.0)\n",
    "#plt.ylim(-10,2.2)\n",
    "plt.ylabel(\"Path choice ß value\\n(mixed-effects)\",fontsize='xx-large')\n",
    "plt.tight_layout()"
   ]
  },
  {
   "cell_type": "code",
   "execution_count": 49,
   "id": "1e942f68",
   "metadata": {},
   "outputs": [],
   "source": [
    "fig.savefig(photrats.directory_prefix+\"mixedEffectsFullResults.pdf\")"
   ]
  },
  {
   "cell_type": "markdown",
   "id": "a04fdc2f",
   "metadata": {},
   "source": [
    "# plot single trial examples of maze configurations and tick plots.\n",
    "- plot position over maze early vs late in block"
   ]
  },
  {
   "cell_type": "code",
   "execution_count": 409,
   "id": "8153f729",
   "metadata": {},
   "outputs": [
    {
     "data": {
      "text/plain": [
       "array([  5,   6,   7,   0,   1,  17,   9,  11,  28,  29,  30,  20,  21,\n",
       "        22,  32,  35,  36,  37,  43,  44,  45,  46,  47,  48,  55,  56,\n",
       "        57,  58,  59,  60,  61,  64,  65,  68,  69,  72,  73,  75,  76,\n",
       "        89,  92,  93,  98, 100], dtype=int8)"
      ]
     },
     "execution_count": 409,
     "metadata": {},
     "output_type": "execute_result"
    }
   ],
   "source": [
    "photrats.df.loc[photrats.df.session_type=='barrier','session'].unique()"
   ]
  },
  {
   "cell_type": "code",
   "execution_count": 39,
   "id": "412ced6e",
   "metadata": {
    "tags": []
   },
   "outputs": [],
   "source": [
    "hexlist = [2,47,46,45,44,43,3,\\\n",
    "49,42,41,40,39,48,\\\n",
    "38,37,36,35,34,33,\\\n",
    "32,31,30,29,28,\\\n",
    "27,26,25,24,23,\\\n",
    "22,21,20,19,\\\n",
    "18,17,16,15,\\\n",
    "14,13,12,\\\n",
    "11,10,9,\\\n",
    "8,7,\\\n",
    "6,5,\\\n",
    "4,\\\n",
    "1]\n",
    "#hexlist = np.subtract(hexlist,1) #convert to index-based states\n",
    "scaleFactor = [(490)/13,365/18]\n",
    "#scaleFactor = [(460)/13,350/18]\n",
    "#scaleFactor = [(550-70)/13,380/18]\n",
    "coords = []\n",
    "cols = [7,6,6,5,5,4,4,3,3,2,2,1,1]\n",
    "maxrows = 13\n",
    "r = 0\n",
    "x = 1\n",
    "y = 18\n",
    "startr = 1\n",
    "while r < maxrows:\n",
    "    maxcols = cols[r]\n",
    "    c = 0\n",
    "    if r%2!=0:\n",
    "        startr+=1\n",
    "    x=startr\n",
    "    while c < maxcols:\n",
    "        coords.append([x*scaleFactor[0]+35,y*scaleFactor[1]+55])\n",
    "        #coords.append([x*scaleFactor[0]+70,y*scaleFactor[1]+55])\n",
    "        #coords.append([x*scaleFactor[0]+70,y*scaleFactor[1]+40])\n",
    "        x += 2\n",
    "        c += 1\n",
    "    if r%2!=0:\n",
    "        y -= 2\n",
    "    else:\n",
    "        y-=1\n",
    "    r += 1\n",
    "cents = {h: c for h,c in zip(hexlist,coords)}\n",
    "centdf = pd.DataFrame(cents)\n",
    "centdf = centdf.T"
   ]
  },
  {
   "cell_type": "code",
   "execution_count": 26,
   "id": "817f673e",
   "metadata": {},
   "outputs": [],
   "source": [
    "from photometrySessionVizualizations import *"
   ]
  },
  {
   "cell_type": "code",
   "execution_count": 247,
   "id": "002e0898",
   "metadata": {},
   "outputs": [],
   "source": [
    "photrats.directory_prefix = loadpath\n"
   ]
  },
  {
   "cell_type": "code",
   "execution_count": 95,
   "id": "262b6bec",
   "metadata": {},
   "outputs": [],
   "source": [
    "import matplotlib.colors as mc"
   ]
  },
  {
   "cell_type": "code",
   "execution_count": 436,
   "id": "78ae99a7",
   "metadata": {},
   "outputs": [],
   "source": [
    "def plot_hex_outline(barriers):\n",
    "    bardf = centdf.drop(barriers,axis=0)\n",
    "    plt.scatter(bardf.loc[:,0].values,bardf.loc[:,1].values,c=\\\n",
    "            'none',marker='H',s=1000,edgecolors=\"k\",alpha=1,lw=2)\n",
    "    plt.scatter(bardf.loc[:,0].values,bardf.loc[:,1].values,c=\\\n",
    "            'darkgrey',marker='H',s=1000,edgecolors=\"none\",alpha=0.4)\n",
    "    \n",
    "def plot_hex_outline(barriers):\n",
    "    bardf = centdf.drop(barriers,axis=0)\n",
    "    plt.scatter(bardf.loc[:,0].values,bardf.loc[:,1].values,c=\\\n",
    "            'darkgrey',marker='H',s=1000,edgecolors=\"k\",alpha=1,lw=2)"
   ]
  },
  {
   "cell_type": "code",
   "execution_count": 545,
   "id": "81951f2e",
   "metadata": {},
   "outputs": [],
   "source": [
    "from scipy.stats import gaussian_kde\n",
    "from scipy.ndimage import gaussian_filter\n",
    "\n",
    "def plot_posOverlayAndTickPlot(photrats,s,blks = [1,2],\n",
    "        posColor='cyan',saveFig=True,secondHalf=False,plot_ticks=False,\n",
    "        edgCol='k', plotOverlay=True,plotProbs=True,trans=0.2,density=False,vmax=60,vmin=5):\n",
    "    dat = photrats.df.loc[photrats.df.session==s].copy()\n",
    "    halfString = '_only2ndHalfBlkPos' if secondHalf else ''\n",
    "    densString = \"_density\" if density else \"\"\n",
    "    fig = plt.figure(figsize=(15.5,9))\n",
    "    startrows = 10\n",
    "    if plot_ticks:\n",
    "        plot_sesh_pathChoices_ticks(dat,blocks=blks,startrows=startrows)\n",
    "    plt.subplots_adjust(wspace=0, hspace=0,top=0.95)\n",
    "    #plt.figure(figsize=(17.4,6))\n",
    "    for blk in blks:#dat.block.unique():\n",
    "        prwds = dat.loc[dat.block==blk,[\"nom_rwd_a\",\"nom_rwd_b\",\\\n",
    "        \"nom_rwd_c\"]].values[0].astype(int)\n",
    "        if dat.session_type.values[0] == \"barrier\":\n",
    "            bars = np.add(photrats.sesh_barIDs[s][blk-1],1)\n",
    "        else:\n",
    "            bars = np.add(photrats.sesh_barIDs[s],1)\n",
    "        ax = plt.subplot2grid((6+startrows,len(blks)*10),(0,(blk-np.min(blks))*10),\\\n",
    "            colspan = 8, rowspan =startrows)\n",
    "        #plot_hex_outline(bars)\n",
    "        #plot_hex_barriers(bars)\n",
    "        #plt.ylim(0,522)\n",
    "        #plt.xlim(55,590)\n",
    "        #ax = plt.gca()\n",
    "        #ax.invert_yaxis()\n",
    "        #plt.tight_layout()\n",
    "        #plt.xticks([])\n",
    "        #plt.yticks([])\n",
    "        #ax = plt.subplot(1,3,blk-np.min(blks)+1)\n",
    "        minTri = 25 if secondHalf else 0 \n",
    "        if plotOverlay:\n",
    "            x = dat.loc[(dat.block==blk)&(dat.tri>minTri)&(dat.x.notnull()),'x'].values\n",
    "            y = dat.loc[(dat.block==blk)&(dat.tri>minTri)&(dat.x.notnull()),'y'].values\n",
    "            if density:\n",
    "                H, xedges, yedges = np.histogram2d(x,y,bins=40)#,range=([[0,640],[0,590]]))\n",
    "                X, Y = np.meshgrid(xedges, yedges)\n",
    "                plt.pcolormesh(X,Y,H.T,cmap=\"Greys\",norm=mc.Normalize(vmin=vmin,vmax=vmax))\n",
    "                #xy = np.vstack([x,y])\n",
    "                #z = gaussian_kde(xy)(xy)\n",
    "                #plt.scatter(x,y,c=z,s=20)\n",
    "                #plt.hist2d(x, y, bins=(100,100), cmap=plt.cm.BuPu,alpha=0.6,edgecolors='none',density=True,vmax=0.0001)\n",
    "                #ax = plt.gca()\n",
    "                #ax.invert_yaxis()\n",
    "                #plt.hexbin(x, y, gridsize=40,alpha=1,cmap=\"Greys\",norm=mc.Normalize(vmin=vmin,vmax=vmax),edgecolors='none',reduce_C_function=np.mean)\n",
    "                #plt.colorbar()\n",
    "                plot_hex_outline(bars)\n",
    "                plot_hex_barriers(bars)\n",
    "                plt.ylim(0,522)\n",
    "                plt.xlim(55,590)\n",
    "                ax = plt.gca()\n",
    "                ax.invert_yaxis()\n",
    "                plt.tight_layout()\n",
    "                plt.xticks([])\n",
    "                plt.yticks([])\n",
    "            else:\n",
    "                plot_hex_outline(bars)\n",
    "                plot_hex_barriers(bars)\n",
    "                plt.ylim(0,522)\n",
    "                plt.xlim(55,590)\n",
    "                ax = plt.gca()\n",
    "                ax.invert_yaxis()\n",
    "                plt.tight_layout()\n",
    "                plt.xticks([])\n",
    "                plt.yticks([])\n",
    "                xy = np.vstack([x,y])\n",
    "                z = gaussian_kde(xy)(xy)\n",
    "                plt.scatter(x,y,c=z,s=20,cmap=\"viridis\")#\"cividis\")\n",
    "                #plt.scatter(x,y,alpha=trans,color=posColor,\\\n",
    "                #        s=20,edgecolors=edgCol,lw=2)#\"darkviolet\")#\"salmon\")#\"fuchsia\"\n",
    "        if plotProbs:\n",
    "            plt.text(x=300,y=0,s=str(prwds[0])+\"%\",fontsize=30,\\\n",
    "                fontweight='bold',backgroundcolor=\"k\",color=\"white\")#backgroundcolor=\"darkblue\",color=\"white\")\n",
    "            plt.text(x=30,y=470,s=str(prwds[1])+\"%\",fontsize=30,\\\n",
    "                fontweight='bold',backgroundcolor=\"k\",color=\"white\")#backgroundcolor=\"darkorange\",color=\"white\")\n",
    "            plt.text(x=570,y=470,s=str(prwds[2])+\"%\",fontsize=30,\\\n",
    "                fontweight='bold',backgroundcolor=\"k\",color=\"white\")\n",
    "        plt.axis(\"off\")\n",
    "    if saveFig:\n",
    "        fig.savefig(photrats.directory_prefix+\"sesh\"+\\\n",
    "            str(s)+\"blocks\"+str(blks)+\"positionOverlayPlot\"+halfString+densString+\".pdf\")\n",
    "        fig.savefig(photrats.directory_prefix+\"sesh\"+\\\n",
    "            str(s)+\"blocks\"+str(blks)+\"positionOverlayPlot\"+halfString+densString+\".png\")\n"
   ]
  },
  {
   "cell_type": "code",
   "execution_count": 593,
   "id": "3f56ac88",
   "metadata": {},
   "outputs": [],
   "source": [
    "def plot_10tri_posOverlay(photrats,s,blks = [1,2],\n",
    "        posColor='cyan',saveFig=True,groupOfTen=1,\n",
    "        edgCol='k', plotOverlay=True,plotProbs=True):\n",
    "    dat = photrats.df.loc[photrats.df.session==s].copy()\n",
    "    triString = str(groupOfTen)\n",
    "    fig = plt.figure(figsize=(15.5,9))\n",
    "    startrows = 10\n",
    "    plt.subplots_adjust(wspace=0, hspace=0,top=0.95)\n",
    "    #plt.figure(figsize=(17.4,6))\n",
    "    for blk in blks:#dat.block.unique():\n",
    "        prwds = dat.loc[dat.block==blk,[\"nom_rwd_a\",\"nom_rwd_b\",\\\n",
    "        \"nom_rwd_c\"]].values[0].astype(int)\n",
    "        if dat.session_type.values[0] == \"barrier\":\n",
    "            bars = np.add(photrats.sesh_barIDs[s][blk-1],1)\n",
    "        else:\n",
    "            bars = np.add(photrats.sesh_barIDs[s],1)\n",
    "        \n",
    "        #fig,ax = plt.subplots(figsize=(5.6,5.5))#figsize=(7.5,5))\n",
    "        ax = plt.subplot2grid((6+startrows,len(blks)*10),(0,(blk-np.min(blks))*10),\\\n",
    "            colspan = 8, rowspan =startrows)\n",
    "        #ax = plt.subplot(1,3,blk-np.min(blks)+1)\n",
    "        plot_hex_outline(bars)\n",
    "        plot_hex_barriers(bars)\n",
    "        plt.ylim(0,522)\n",
    "        plt.xlim(55,590)\n",
    "        ax = plt.gca()\n",
    "        ax.invert_yaxis()\n",
    "        plt.tight_layout()\n",
    "        plt.xticks([])\n",
    "        plt.yticks([])\n",
    "        minTri = (groupOfTen-1)*10\n",
    "        maxTri = groupOfTen*10\n",
    "        if plotOverlay:\n",
    "            x = dat.loc[(dat.block==blk)&(dat.tri>minTri)&(dat.x.notnull()),'x'].values\n",
    "            y = dat.loc[(dat.block==blk)&(dat.tri>minTri)&(dat.x.notnull()),'y'].values\n",
    "            #plt.scatter(dat.loc[(dat.block==blk)&(dat.tri>minTri)&(dat.tri<=maxTri),'x'].values,\\\n",
    "            #            dat.loc[(dat.block==blk)&(dat.tri>minTri)&(dat.tri<=maxTri),'y'].values,\\\n",
    "            #            alpha=0.4,color=posColor,s=40)#,edgecolors=edgCol,lw=2)#\"darkviolet\")#\"salmon\")#\"fuchsia\"\n",
    "            xy = np.vstack([x,y])\n",
    "            z = gaussian_kde(xy)(xy)\n",
    "            plt.scatter(x,y,c=z,s=20,cmap=\"viridis\")\n",
    "        if plotProbs:\n",
    "            plt.text(x=300,y=0,s=str(prwds[0])+\"%\",fontsize=30,\\\n",
    "                fontweight='bold',backgroundcolor=\"k\",color=\"white\")#backgroundcolor=\"darkblue\",color=\"white\")\n",
    "            plt.text(x=30,y=470,s=str(prwds[1])+\"%\",fontsize=30,\\\n",
    "                fontweight='bold',backgroundcolor=\"k\",color=\"white\")#backgroundcolor=\"darkorange\",color=\"white\")\n",
    "            plt.text(x=570,y=470,s=str(prwds[2])+\"%\",fontsize=30,\\\n",
    "                fontweight='bold',backgroundcolor=\"k\",color=\"white\")#backgroundcolor=\"darkgreen\",color=\"white\")\n",
    "        plt.axis(\"off\")\n",
    "    if saveFig:\n",
    "        fig.savefig(photrats.directory_prefix+\"sesh\"+\\\n",
    "            str(s)+\"blocks\"+str(blks)+\"positionOverlayPlot\"+str(triString)+\"_10tris.pdf\")\n",
    "        fig.savefig(photrats.directory_prefix+\"sesh\"+\\\n",
    "            str(s)+\"blocks\"+str(blks)+\"positionOverlayPlot\"+str(triString)+\"_10tris.png\")"
   ]
  },
  {
   "cell_type": "markdown",
   "id": "69990c3a",
   "metadata": {},
   "source": [
    "- create acceleration column from velocity"
   ]
  },
  {
   "cell_type": "code",
   "execution_count": 584,
   "id": "b67c9c52",
   "metadata": {},
   "outputs": [],
   "source": [
    "photrats.df.loc[photrats.df.vel.notnull(),\"acc\"] = photrats.df.loc[photrats.df.vel.notnull(),'vel'].diff()\n",
    "photrats.df.loc[:,\"acc\"] = photrats.df.loc[:,\"acc\"].fillna(method=\"ffill\")"
   ]
  },
  {
   "cell_type": "code",
   "execution_count": 583,
   "id": "845cffa5",
   "metadata": {
    "tags": []
   },
   "outputs": [
    {
     "name": "stderr",
     "output_type": "stream",
     "text": [
      "/Users/timkrausz/Library/Mobile Documents/com~apple~CloudDocs/Documents/Maze-photometry-analyses/photometrySessionVizualizations.py:63: MatplotlibDeprecationWarning: Using a string of single character colors as a color sequence is deprecated since 3.2 and will be removed two minor releases later. Use an explicit list instead.\n",
      "  plt.scatter(centdf.loc[barriers,0].values,centdf.loc[barriers,1].values,c=\\\n",
      "<ipython-input-545-0f8b219b588a>:67: UserWarning: Tight layout not applied. tight_layout cannot make axes height small enough to accommodate all axes decorations\n",
      "  plt.tight_layout()\n",
      "/Users/timkrausz/Library/Mobile Documents/com~apple~CloudDocs/Documents/Maze-photometry-analyses/photometrySessionVizualizations.py:63: MatplotlibDeprecationWarning: Using a string of single character colors as a color sequence is deprecated since 3.2 and will be removed two minor releases later. Use an explicit list instead.\n",
      "  plt.scatter(centdf.loc[barriers,0].values,centdf.loc[barriers,1].values,c=\\\n",
      "<ipython-input-545-0f8b219b588a>:67: UserWarning: Tight layout not applied. tight_layout cannot make axes width small enough to accommodate all axes decorations\n",
      "  plt.tight_layout()\n"
     ]
    }
   ],
   "source": [
    "plot_posOverlayAndTickPlot(photrats,s=99,posColor='cyan',edgCol='none',saveFig=True,\\\n",
    "                           secondHalf=True,plotOverlay=True,plotProbs=True,trans=0.1,vmin=1,vmax=8,density=False,blks=[1,2])"
   ]
  },
  {
   "cell_type": "code",
   "execution_count": 201,
   "id": "fee8e91f",
   "metadata": {
    "tags": []
   },
   "outputs": [
    {
     "data": {
      "text/plain": [
       "array([['prob', 2, 'IM-1272'],\n",
       "       ['prob', 3, 'IM-1272'],\n",
       "       ['prob', 4, 'IM-1272'],\n",
       "       ['prob', 12, 'IM-1273'],\n",
       "       ['prob', 15, 'IM-1273'],\n",
       "       ['prob', 23, 'IM-1276'],\n",
       "       ['prob', 24, 'IM-1276'],\n",
       "       ['prob', 25, 'IM-1276'],\n",
       "       ['prob', 26, 'IM-1276'],\n",
       "       ['prob', 27, 'IM-1276'],\n",
       "       ['prob', 39, 'IM-1291'],\n",
       "       ['prob', 40, 'IM-1291'],\n",
       "       ['prob', 38, 'IM-1291'],\n",
       "       ['prob', 41, 'IM-1291'],\n",
       "       ['prob', 42, 'IM-1291'],\n",
       "       ['prob', 52, 'IM-1292'],\n",
       "       ['prob', 53, 'IM-1292'],\n",
       "       ['prob', 54, 'IM-1292'],\n",
       "       ['barrier', 5, 'IM-1272'],\n",
       "       ['barrier', 6, 'IM-1272'],\n",
       "       ['barrier', 7, 'IM-1272'],\n",
       "       ['barrier', 0, 'IM-1272'],\n",
       "       ['barrier', 1, 'IM-1272'],\n",
       "       ['barrier', 17, 'IM-1273'],\n",
       "       ['barrier', 9, 'IM-1273'],\n",
       "       ['barrier', 11, 'IM-1273'],\n",
       "       ['barrier', 28, 'IM-1276'],\n",
       "       ['barrier', 29, 'IM-1276'],\n",
       "       ['barrier', 30, 'IM-1276'],\n",
       "       ['barrier', 20, 'IM-1276'],\n",
       "       ['barrier', 21, 'IM-1276'],\n",
       "       ['barrier', 22, 'IM-1276'],\n",
       "       ['barrier', 32, 'IM-1291'],\n",
       "       ['barrier', 35, 'IM-1291'],\n",
       "       ['barrier', 36, 'IM-1291'],\n",
       "       ['barrier', 37, 'IM-1291'],\n",
       "       ['barrier', 43, 'IM-1292'],\n",
       "       ['barrier', 44, 'IM-1292'],\n",
       "       ['barrier', 45, 'IM-1292'],\n",
       "       ['barrier', 46, 'IM-1292'],\n",
       "       ['barrier', 47, 'IM-1292'],\n",
       "       ['barrier', 48, 'IM-1292'],\n",
       "       ['barrier', 55, 'IM-1322'],\n",
       "       ['barrier', 56, 'IM-1322'],\n",
       "       ['barrier', 57, 'IM-1322'],\n",
       "       ['barrier', 58, 'IM-1322'],\n",
       "       ['barrier', 59, 'IM-1322'],\n",
       "       ['barrier', 60, 'IM-1322'],\n",
       "       ['barrier', 61, 'IM-1322'],\n",
       "       ['prob', 62, 'IM-1398'],\n",
       "       ['prob', 63, 'IM-1398'],\n",
       "       ['barrier', 64, 'IM-1398'],\n",
       "       ['barrier', 65, 'IM-1398'],\n",
       "       ['prob', 66, 'IM-1398'],\n",
       "       ['prob', 67, 'IM-1398'],\n",
       "       ['barrier', 68, 'IM-1398'],\n",
       "       ['barrier', 69, 'IM-1398'],\n",
       "       ['prob', 70, 'IM-1398'],\n",
       "       ['prob', 71, 'IM-1398'],\n",
       "       ['barrier', 72, 'IM-1398'],\n",
       "       ['barrier', 73, 'IM-1434'],\n",
       "       ['prob', 74, 'IM-1434'],\n",
       "       ['barrier', 75, 'IM-1434'],\n",
       "       ['barrier', 76, 'IM-1434'],\n",
       "       ['prob', 77, 'IM-1434'],\n",
       "       ['barrier', 89, 'IM-1478'],\n",
       "       ['prob', 90, 'IM-1478'],\n",
       "       ['prob', 91, 'IM-1478'],\n",
       "       ['barrier', 92, 'IM-1478'],\n",
       "       ['barrier', 93, 'IM-1478'],\n",
       "       ['prob', 94, 'IM-1478'],\n",
       "       ['prob', 95, 'IM-1478'],\n",
       "       ['prob', 96, 'IM-1478'],\n",
       "       ['prob', 97, 'IM-1478'],\n",
       "       ['barrier', 98, 'IM-1478'],\n",
       "       ['prob', 99, 'IM-1478'],\n",
       "       ['barrier', 100, 'IM-1478'],\n",
       "       ['prob', 101, 'IM-1532'],\n",
       "       ['barrier', 102, 'IM-1532'],\n",
       "       ['prob', 103, 'IM-1532'],\n",
       "       ['barrier', 104, 'IM-1532'],\n",
       "       ['prob', 105, 'IM-1532']], dtype=object)"
      ]
     },
     "execution_count": 201,
     "metadata": {},
     "output_type": "execute_result"
    }
   ],
   "source": [
    "photrats.df.loc[photrats.df.session.diff()!=0,[\"session_type\",\"session\",\"rat\"]].values"
   ]
  },
  {
   "cell_type": "code",
   "execution_count": 168,
   "id": "42765f28",
   "metadata": {
    "collapsed": true,
    "jupyter": {
     "outputs_hidden": true
    },
    "tags": []
   },
   "outputs": [
    {
     "name": "stderr",
     "output_type": "stream",
     "text": [
      "<ipython-input-40-c2c15f210612>:105: UserWarning: FixedFormatter should only be used together with FixedLocator\n",
      "  ax3.set_yticklabels([''])\n",
      "<ipython-input-40-c2c15f210612>:108: UserWarning: FixedFormatter should only be used together with FixedLocator\n",
      "  ax2.set_yticklabels([''])\n",
      "<ipython-input-40-c2c15f210612>:111: UserWarning: FixedFormatter should only be used together with FixedLocator\n",
      "  ax3.set_yticklabels([''])\n",
      "<ipython-input-40-c2c15f210612>:130: UserWarning: Tight layout not applied. tight_layout cannot make axes height small enough to accommodate all axes decorations\n",
      "  plt.tight_layout()\n",
      "<ipython-input-40-c2c15f210612>:63: MatplotlibDeprecationWarning: Using a string of single character colors as a color sequence is deprecated since 3.2 and will be removed two minor releases later. Use an explicit list instead.\n",
      "  plt.scatter(centdf.loc[barriers,0].values,centdf.loc[barriers,1].values,c=\\\n",
      "<ipython-input-40-c2c15f210612>:160: UserWarning: Tight layout not applied. tight_layout cannot make axes height small enough to accommodate all axes decorations\n",
      "  plt.tight_layout()\n",
      "<ipython-input-40-c2c15f210612>:63: MatplotlibDeprecationWarning: Using a string of single character colors as a color sequence is deprecated since 3.2 and will be removed two minor releases later. Use an explicit list instead.\n",
      "  plt.scatter(centdf.loc[barriers,0].values,centdf.loc[barriers,1].values,c=\\\n",
      "<ipython-input-40-c2c15f210612>:160: UserWarning: Tight layout not applied. tight_layout cannot make axes height small enough to accommodate all axes decorations\n",
      "  plt.tight_layout()\n",
      "<ipython-input-40-c2c15f210612>:105: UserWarning: FixedFormatter should only be used together with FixedLocator\n",
      "  ax3.set_yticklabels([''])\n",
      "<ipython-input-40-c2c15f210612>:108: UserWarning: FixedFormatter should only be used together with FixedLocator\n",
      "  ax2.set_yticklabels([''])\n",
      "<ipython-input-40-c2c15f210612>:111: UserWarning: FixedFormatter should only be used together with FixedLocator\n",
      "  ax3.set_yticklabels([''])\n",
      "<ipython-input-40-c2c15f210612>:130: UserWarning: Tight layout not applied. tight_layout cannot make axes height small enough to accommodate all axes decorations\n",
      "  plt.tight_layout()\n",
      "<ipython-input-40-c2c15f210612>:63: MatplotlibDeprecationWarning: Using a string of single character colors as a color sequence is deprecated since 3.2 and will be removed two minor releases later. Use an explicit list instead.\n",
      "  plt.scatter(centdf.loc[barriers,0].values,centdf.loc[barriers,1].values,c=\\\n",
      "<ipython-input-40-c2c15f210612>:160: UserWarning: Tight layout not applied. tight_layout cannot make axes height small enough to accommodate all axes decorations\n",
      "  plt.tight_layout()\n",
      "<ipython-input-40-c2c15f210612>:63: MatplotlibDeprecationWarning: Using a string of single character colors as a color sequence is deprecated since 3.2 and will be removed two minor releases later. Use an explicit list instead.\n",
      "  plt.scatter(centdf.loc[barriers,0].values,centdf.loc[barriers,1].values,c=\\\n",
      "<ipython-input-40-c2c15f210612>:160: UserWarning: Tight layout not applied. tight_layout cannot make axes height small enough to accommodate all axes decorations\n",
      "  plt.tight_layout()\n"
     ]
    }
   ],
   "source": [
    "sesh = 27\n",
    "#plot_posOverlayAndTickPlot(photrats,s=69,posColor='dodgerblue',edgCol='k',saveFig=True,secondHalf=False,plotOverlay=True,plotProbs=True)\n",
    "plot_posOverlayAndTickPlot(photrats,s=sesh,posColor='cyan',edgCol='blue',saveFig=True,secondHalf=True,plotOverlay=True,plotProbs=True)\n",
    "plot_posOverlayAndTickPlot(photrats,s=sesh,posColor='cyan',edgCol='blue',saveFig=True,secondHalf=False,plotOverlay=True,plotProbs=True)\n",
    "#plot_posOverlayAndTickPlot(photrats,s=69,posColor='dodgerblue',edgCol='k',saveFig=True,secondHalf=True,plotOverlay=True,plotProbs=True)\n",
    "#plot_posOverlayAndTickPlot(photrats,s=36,posColor='dodgerblue',edgCol='k',saveFig=True,secondHalf=True,plotOverlay=True,plotProbs=True)"
   ]
  },
  {
   "cell_type": "code",
   "execution_count": 91,
   "id": "2080359e",
   "metadata": {},
   "outputs": [],
   "source": [
    "plt.close(\"all\")"
   ]
  },
  {
   "cell_type": "code",
   "execution_count": 595,
   "id": "568a0706",
   "metadata": {},
   "outputs": [
    {
     "name": "stderr",
     "output_type": "stream",
     "text": [
      "/Users/timkrausz/Library/Mobile Documents/com~apple~CloudDocs/Documents/Maze-photometry-analyses/photometrySessionVizualizations.py:63: MatplotlibDeprecationWarning: Using a string of single character colors as a color sequence is deprecated since 3.2 and will be removed two minor releases later. Use an explicit list instead.\n",
      "  plt.scatter(centdf.loc[barriers,0].values,centdf.loc[barriers,1].values,c=\\\n",
      "<ipython-input-593-aa70ba886096>:28: UserWarning: Tight layout not applied. tight_layout cannot make axes height small enough to accommodate all axes decorations\n",
      "  plt.tight_layout()\n",
      "/Users/timkrausz/Library/Mobile Documents/com~apple~CloudDocs/Documents/Maze-photometry-analyses/photometrySessionVizualizations.py:63: MatplotlibDeprecationWarning: Using a string of single character colors as a color sequence is deprecated since 3.2 and will be removed two minor releases later. Use an explicit list instead.\n",
      "  plt.scatter(centdf.loc[barriers,0].values,centdf.loc[barriers,1].values,c=\\\n",
      "<ipython-input-593-aa70ba886096>:28: UserWarning: Tight layout not applied. tight_layout cannot make axes width small enough to accommodate all axes decorations\n",
      "  plt.tight_layout()\n",
      "/Users/timkrausz/Library/Mobile Documents/com~apple~CloudDocs/Documents/Maze-photometry-analyses/photometrySessionVizualizations.py:63: MatplotlibDeprecationWarning: Using a string of single character colors as a color sequence is deprecated since 3.2 and will be removed two minor releases later. Use an explicit list instead.\n",
      "  plt.scatter(centdf.loc[barriers,0].values,centdf.loc[barriers,1].values,c=\\\n",
      "<ipython-input-593-aa70ba886096>:28: UserWarning: Tight layout not applied. tight_layout cannot make axes height small enough to accommodate all axes decorations\n",
      "  plt.tight_layout()\n",
      "/Users/timkrausz/Library/Mobile Documents/com~apple~CloudDocs/Documents/Maze-photometry-analyses/photometrySessionVizualizations.py:63: MatplotlibDeprecationWarning: Using a string of single character colors as a color sequence is deprecated since 3.2 and will be removed two minor releases later. Use an explicit list instead.\n",
      "  plt.scatter(centdf.loc[barriers,0].values,centdf.loc[barriers,1].values,c=\\\n",
      "<ipython-input-593-aa70ba886096>:28: UserWarning: Tight layout not applied. tight_layout cannot make axes width small enough to accommodate all axes decorations\n",
      "  plt.tight_layout()\n",
      "/Users/timkrausz/Library/Mobile Documents/com~apple~CloudDocs/Documents/Maze-photometry-analyses/photometrySessionVizualizations.py:63: MatplotlibDeprecationWarning: Using a string of single character colors as a color sequence is deprecated since 3.2 and will be removed two minor releases later. Use an explicit list instead.\n",
      "  plt.scatter(centdf.loc[barriers,0].values,centdf.loc[barriers,1].values,c=\\\n",
      "<ipython-input-593-aa70ba886096>:28: UserWarning: Tight layout not applied. tight_layout cannot make axes height small enough to accommodate all axes decorations\n",
      "  plt.tight_layout()\n",
      "/Users/timkrausz/Library/Mobile Documents/com~apple~CloudDocs/Documents/Maze-photometry-analyses/photometrySessionVizualizations.py:63: MatplotlibDeprecationWarning: Using a string of single character colors as a color sequence is deprecated since 3.2 and will be removed two minor releases later. Use an explicit list instead.\n",
      "  plt.scatter(centdf.loc[barriers,0].values,centdf.loc[barriers,1].values,c=\\\n",
      "<ipython-input-593-aa70ba886096>:28: UserWarning: Tight layout not applied. tight_layout cannot make axes width small enough to accommodate all axes decorations\n",
      "  plt.tight_layout()\n"
     ]
    }
   ],
   "source": [
    "sesh = 90\n",
    "blocks = [2,3]\n",
    "plot_10tri_posOverlay(photrats,s=sesh,posColor='midnightblue',edgCol='none',saveFig=True,groupOfTen=1,plotOverlay=True,plotProbs=True,blks=blocks)\n",
    "plot_10tri_posOverlay(photrats,s=sesh,posColor='midnightblue',edgCol='none',saveFig=True,groupOfTen=2,plotOverlay=True,plotProbs=True,blks=blocks)\n",
    "plot_10tri_posOverlay(photrats,s=sesh,posColor='midnightblue',edgCol='none',saveFig=True,groupOfTen=3,plotOverlay=True,plotProbs=True,blks=blocks)\n",
    "#plot_10tri_posOverlay(photrats,s=sesh,posColor='cyan',edgCol='blue',saveFig=True,groupOfTen=4,plotOverlay=True,plotProbs=True)"
   ]
  },
  {
   "cell_type": "code",
   "execution_count": 89,
   "id": "faef1a24",
   "metadata": {
    "collapsed": true,
    "jupyter": {
     "outputs_hidden": true
    },
    "tags": []
   },
   "outputs": [
    {
     "name": "stderr",
     "output_type": "stream",
     "text": [
      "/Users/timkrausz/Documents/Maze-photometry-analyses/photometrySessionVizualizations.py:130: UserWarning: Tight layout not applied. tight_layout cannot make axes height small enough to accommodate all axes decorations\n",
      "  plt.tight_layout()\n",
      "/Users/timkrausz/anaconda3/lib/python3.7/site-packages/ipykernel_launcher.py:29: UserWarning: Tight layout not applied. tight_layout cannot make axes height small enough to accommodate all axes decorations\n",
      "/Users/timkrausz/anaconda3/lib/python3.7/site-packages/ipykernel_launcher.py:29: UserWarning: Tight layout not applied. tight_layout cannot make axes width small enough to accommodate all axes decorations\n",
      "/Users/timkrausz/Documents/Maze-photometry-analyses/photometrySessionVizualizations.py:130: UserWarning: Tight layout not applied. tight_layout cannot make axes height small enough to accommodate all axes decorations\n",
      "  plt.tight_layout()\n",
      "/Users/timkrausz/anaconda3/lib/python3.7/site-packages/ipykernel_launcher.py:29: UserWarning: Tight layout not applied. tight_layout cannot make axes height small enough to accommodate all axes decorations\n",
      "/Users/timkrausz/anaconda3/lib/python3.7/site-packages/ipykernel_launcher.py:29: UserWarning: Tight layout not applied. tight_layout cannot make axes width small enough to accommodate all axes decorations\n",
      "/Users/timkrausz/Documents/Maze-photometry-analyses/photometrySessionVizualizations.py:130: UserWarning: Tight layout not applied. tight_layout cannot make axes height small enough to accommodate all axes decorations\n",
      "  plt.tight_layout()\n",
      "/Users/timkrausz/anaconda3/lib/python3.7/site-packages/ipykernel_launcher.py:29: UserWarning: Tight layout not applied. tight_layout cannot make axes height small enough to accommodate all axes decorations\n",
      "/Users/timkrausz/anaconda3/lib/python3.7/site-packages/ipykernel_launcher.py:29: UserWarning: Tight layout not applied. tight_layout cannot make axes width small enough to accommodate all axes decorations\n",
      "/Users/timkrausz/Documents/Maze-photometry-analyses/photometrySessionVizualizations.py:130: UserWarning: Tight layout not applied. tight_layout cannot make axes height small enough to accommodate all axes decorations\n",
      "  plt.tight_layout()\n",
      "/Users/timkrausz/anaconda3/lib/python3.7/site-packages/ipykernel_launcher.py:29: UserWarning: Tight layout not applied. tight_layout cannot make axes height small enough to accommodate all axes decorations\n",
      "/Users/timkrausz/anaconda3/lib/python3.7/site-packages/ipykernel_launcher.py:29: UserWarning: Tight layout not applied. tight_layout cannot make axes width small enough to accommodate all axes decorations\n",
      "/Users/timkrausz/Documents/Maze-photometry-analyses/photometrySessionVizualizations.py:130: UserWarning: Tight layout not applied. tight_layout cannot make axes height small enough to accommodate all axes decorations\n",
      "  plt.tight_layout()\n",
      "/Users/timkrausz/anaconda3/lib/python3.7/site-packages/ipykernel_launcher.py:29: UserWarning: Tight layout not applied. tight_layout cannot make axes height small enough to accommodate all axes decorations\n",
      "/Users/timkrausz/anaconda3/lib/python3.7/site-packages/ipykernel_launcher.py:29: UserWarning: Tight layout not applied. tight_layout cannot make axes width small enough to accommodate all axes decorations\n",
      "/Users/timkrausz/Documents/Maze-photometry-analyses/photometrySessionVizualizations.py:130: UserWarning: Tight layout not applied. tight_layout cannot make axes height small enough to accommodate all axes decorations\n",
      "  plt.tight_layout()\n",
      "/Users/timkrausz/anaconda3/lib/python3.7/site-packages/ipykernel_launcher.py:29: UserWarning: Tight layout not applied. tight_layout cannot make axes height small enough to accommodate all axes decorations\n",
      "/Users/timkrausz/anaconda3/lib/python3.7/site-packages/ipykernel_launcher.py:29: UserWarning: Tight layout not applied. tight_layout cannot make axes width small enough to accommodate all axes decorations\n",
      "/Users/timkrausz/Documents/Maze-photometry-analyses/photometrySessionVizualizations.py:130: UserWarning: Tight layout not applied. tight_layout cannot make axes height small enough to accommodate all axes decorations\n",
      "  plt.tight_layout()\n",
      "/Users/timkrausz/anaconda3/lib/python3.7/site-packages/ipykernel_launcher.py:29: UserWarning: Tight layout not applied. tight_layout cannot make axes height small enough to accommodate all axes decorations\n",
      "/Users/timkrausz/anaconda3/lib/python3.7/site-packages/ipykernel_launcher.py:29: UserWarning: Tight layout not applied. tight_layout cannot make axes width small enough to accommodate all axes decorations\n",
      "/Users/timkrausz/Documents/Maze-photometry-analyses/photometrySessionVizualizations.py:130: UserWarning: Tight layout not applied. tight_layout cannot make axes height small enough to accommodate all axes decorations\n",
      "  plt.tight_layout()\n",
      "/Users/timkrausz/anaconda3/lib/python3.7/site-packages/ipykernel_launcher.py:29: UserWarning: Tight layout not applied. tight_layout cannot make axes height small enough to accommodate all axes decorations\n",
      "/Users/timkrausz/anaconda3/lib/python3.7/site-packages/ipykernel_launcher.py:29: UserWarning: Tight layout not applied. tight_layout cannot make axes width small enough to accommodate all axes decorations\n",
      "/Users/timkrausz/Documents/Maze-photometry-analyses/photometrySessionVizualizations.py:130: UserWarning: Tight layout not applied. tight_layout cannot make axes height small enough to accommodate all axes decorations\n",
      "  plt.tight_layout()\n",
      "/Users/timkrausz/anaconda3/lib/python3.7/site-packages/ipykernel_launcher.py:29: UserWarning: Tight layout not applied. tight_layout cannot make axes height small enough to accommodate all axes decorations\n",
      "/Users/timkrausz/anaconda3/lib/python3.7/site-packages/ipykernel_launcher.py:29: UserWarning: Tight layout not applied. tight_layout cannot make axes width small enough to accommodate all axes decorations\n",
      "/Users/timkrausz/Documents/Maze-photometry-analyses/photometrySessionVizualizations.py:130: UserWarning: Tight layout not applied. tight_layout cannot make axes height small enough to accommodate all axes decorations\n",
      "  plt.tight_layout()\n",
      "/Users/timkrausz/anaconda3/lib/python3.7/site-packages/ipykernel_launcher.py:29: UserWarning: Tight layout not applied. tight_layout cannot make axes height small enough to accommodate all axes decorations\n",
      "/Users/timkrausz/anaconda3/lib/python3.7/site-packages/ipykernel_launcher.py:29: UserWarning: Tight layout not applied. tight_layout cannot make axes width small enough to accommodate all axes decorations\n",
      "/Users/timkrausz/Documents/Maze-photometry-analyses/photometrySessionVizualizations.py:130: UserWarning: Tight layout not applied. tight_layout cannot make axes height small enough to accommodate all axes decorations\n",
      "  plt.tight_layout()\n",
      "/Users/timkrausz/anaconda3/lib/python3.7/site-packages/ipykernel_launcher.py:29: UserWarning: Tight layout not applied. tight_layout cannot make axes height small enough to accommodate all axes decorations\n",
      "/Users/timkrausz/anaconda3/lib/python3.7/site-packages/ipykernel_launcher.py:29: UserWarning: Tight layout not applied. tight_layout cannot make axes width small enough to accommodate all axes decorations\n",
      "/Users/timkrausz/Documents/Maze-photometry-analyses/photometrySessionVizualizations.py:130: UserWarning: Tight layout not applied. tight_layout cannot make axes height small enough to accommodate all axes decorations\n",
      "  plt.tight_layout()\n",
      "/Users/timkrausz/anaconda3/lib/python3.7/site-packages/ipykernel_launcher.py:29: UserWarning: Tight layout not applied. tight_layout cannot make axes height small enough to accommodate all axes decorations\n",
      "/Users/timkrausz/anaconda3/lib/python3.7/site-packages/ipykernel_launcher.py:29: UserWarning: Tight layout not applied. tight_layout cannot make axes width small enough to accommodate all axes decorations\n",
      "/Users/timkrausz/Documents/Maze-photometry-analyses/photometrySessionVizualizations.py:130: UserWarning: Tight layout not applied. tight_layout cannot make axes height small enough to accommodate all axes decorations\n",
      "  plt.tight_layout()\n",
      "/Users/timkrausz/anaconda3/lib/python3.7/site-packages/ipykernel_launcher.py:29: UserWarning: Tight layout not applied. tight_layout cannot make axes height small enough to accommodate all axes decorations\n",
      "/Users/timkrausz/anaconda3/lib/python3.7/site-packages/ipykernel_launcher.py:29: UserWarning: Tight layout not applied. tight_layout cannot make axes width small enough to accommodate all axes decorations\n",
      "/Users/timkrausz/Documents/Maze-photometry-analyses/photometrySessionVizualizations.py:130: UserWarning: Tight layout not applied. tight_layout cannot make axes height small enough to accommodate all axes decorations\n",
      "  plt.tight_layout()\n",
      "/Users/timkrausz/anaconda3/lib/python3.7/site-packages/ipykernel_launcher.py:29: UserWarning: Tight layout not applied. tight_layout cannot make axes height small enough to accommodate all axes decorations\n",
      "/Users/timkrausz/anaconda3/lib/python3.7/site-packages/ipykernel_launcher.py:29: UserWarning: Tight layout not applied. tight_layout cannot make axes width small enough to accommodate all axes decorations\n",
      "/Users/timkrausz/Documents/Maze-photometry-analyses/photometrySessionVizualizations.py:130: UserWarning: Tight layout not applied. tight_layout cannot make axes height small enough to accommodate all axes decorations\n",
      "  plt.tight_layout()\n",
      "/Users/timkrausz/anaconda3/lib/python3.7/site-packages/ipykernel_launcher.py:29: UserWarning: Tight layout not applied. tight_layout cannot make axes height small enough to accommodate all axes decorations\n",
      "/Users/timkrausz/anaconda3/lib/python3.7/site-packages/ipykernel_launcher.py:29: UserWarning: Tight layout not applied. tight_layout cannot make axes width small enough to accommodate all axes decorations\n",
      "/Users/timkrausz/Documents/Maze-photometry-analyses/photometrySessionVizualizations.py:130: UserWarning: Tight layout not applied. tight_layout cannot make axes height small enough to accommodate all axes decorations\n",
      "  plt.tight_layout()\n",
      "/Users/timkrausz/anaconda3/lib/python3.7/site-packages/ipykernel_launcher.py:29: UserWarning: Tight layout not applied. tight_layout cannot make axes height small enough to accommodate all axes decorations\n",
      "/Users/timkrausz/anaconda3/lib/python3.7/site-packages/ipykernel_launcher.py:29: UserWarning: Tight layout not applied. tight_layout cannot make axes width small enough to accommodate all axes decorations\n",
      "/Users/timkrausz/Documents/Maze-photometry-analyses/photometrySessionVizualizations.py:130: UserWarning: Tight layout not applied. tight_layout cannot make axes height small enough to accommodate all axes decorations\n",
      "  plt.tight_layout()\n",
      "/Users/timkrausz/anaconda3/lib/python3.7/site-packages/ipykernel_launcher.py:29: UserWarning: Tight layout not applied. tight_layout cannot make axes height small enough to accommodate all axes decorations\n",
      "/Users/timkrausz/anaconda3/lib/python3.7/site-packages/ipykernel_launcher.py:29: UserWarning: Tight layout not applied. tight_layout cannot make axes width small enough to accommodate all axes decorations\n",
      "/Users/timkrausz/Documents/Maze-photometry-analyses/photometrySessionVizualizations.py:130: UserWarning: Tight layout not applied. tight_layout cannot make axes height small enough to accommodate all axes decorations\n",
      "  plt.tight_layout()\n",
      "/Users/timkrausz/anaconda3/lib/python3.7/site-packages/ipykernel_launcher.py:29: UserWarning: Tight layout not applied. tight_layout cannot make axes height small enough to accommodate all axes decorations\n",
      "/Users/timkrausz/anaconda3/lib/python3.7/site-packages/ipykernel_launcher.py:29: UserWarning: Tight layout not applied. tight_layout cannot make axes width small enough to accommodate all axes decorations\n",
      "/Users/timkrausz/Documents/Maze-photometry-analyses/photometrySessionVizualizations.py:130: UserWarning: Tight layout not applied. tight_layout cannot make axes height small enough to accommodate all axes decorations\n",
      "  plt.tight_layout()\n",
      "/Users/timkrausz/anaconda3/lib/python3.7/site-packages/ipykernel_launcher.py:29: UserWarning: Tight layout not applied. tight_layout cannot make axes height small enough to accommodate all axes decorations\n",
      "/Users/timkrausz/anaconda3/lib/python3.7/site-packages/ipykernel_launcher.py:29: UserWarning: Tight layout not applied. tight_layout cannot make axes width small enough to accommodate all axes decorations\n",
      "/Users/timkrausz/Documents/Maze-photometry-analyses/photometrySessionVizualizations.py:130: UserWarning: Tight layout not applied. tight_layout cannot make axes height small enough to accommodate all axes decorations\n",
      "  plt.tight_layout()\n",
      "/Users/timkrausz/anaconda3/lib/python3.7/site-packages/ipykernel_launcher.py:29: UserWarning: Tight layout not applied. tight_layout cannot make axes height small enough to accommodate all axes decorations\n",
      "/Users/timkrausz/anaconda3/lib/python3.7/site-packages/ipykernel_launcher.py:29: UserWarning: Tight layout not applied. tight_layout cannot make axes width small enough to accommodate all axes decorations\n"
     ]
    }
   ],
   "source": [
    "for sesh in photrats.df.loc[photrats.df.session_type==\"barrier\",\"session\"].unique()[:10]:\n",
    "    plot_10tri_posOverlayAndTickPlot(photrats,s=sesh,posColor='cyan',edgCol='blue',saveFig=True,secondTen=False,plotOverlay=True,plotProbs=True)\n",
    "    plot_10tri_posOverlayAndTickPlot(photrats,s=sesh,posColor='cyan',edgCol='blue',saveFig=True,secondTen=True,plotOverlay=True,plotProbs=True)"
   ]
  }
 ],
 "metadata": {
  "kernelspec": {
   "display_name": "Python 3",
   "language": "python",
   "name": "python3"
  },
  "language_info": {
   "codemirror_mode": {
    "name": "ipython",
    "version": 3
   },
   "file_extension": ".py",
   "mimetype": "text/x-python",
   "name": "python",
   "nbconvert_exporter": "python",
   "pygments_lexer": "ipython3",
   "version": "3.8.8"
  }
 },
 "nbformat": 4,
 "nbformat_minor": 5
}
