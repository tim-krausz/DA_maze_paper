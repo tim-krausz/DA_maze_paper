{
 "cells": [
  {
   "cell_type": "code",
   "execution_count": 1,
   "id": "1dd1514a-9a40-4284-ad65-11abc3f8af86",
   "metadata": {},
   "outputs": [],
   "source": [
    "import numpy as np\n",
    "import matplotlib.pyplot as plt\n",
    "import pandas as pd\n",
    "import seaborn as sns\n",
    "sns.set()\n",
    "plt.style.use('default')\n",
    "plt.style.use(\"seaborn-poster\")\n",
    "from combined_phot_funcs import *\n",
    "from hexLevelAnalyses import *\n",
    "from photometryQuantifications import *\n",
    "import ipywidgets as widgets\n",
    "from ipywidgets import interact, interactive, fixed, interact_manual\n",
    "%matplotlib qt"
   ]
  },
  {
   "cell_type": "code",
   "execution_count": 2,
   "id": "02c3c89f-f5f9-40f2-897c-13acf2bd5571",
   "metadata": {},
   "outputs": [
    {
     "name": "stdout",
     "output_type": "stream",
     "text": [
      "Memory usage of dataframe is 54.99 MB\n",
      "Memory usage after optimization is: 12.60 MB\n",
      "Decreased by 77.1%\n"
     ]
    }
   ],
   "source": [
    "hexData = PhotRats(None)\n",
    "loadpath = \"/Volumes/Tim/Photometry/10MfRatDataSet/\"\n",
    "datName = \"hexLevelDf_cornerHexCorrectAlignment\"\n",
    "hexData.df = reduce_mem_usage(pd.read_csv(loadpath+datName+\".csv\"))\n",
    "#hexData.df.drop([\"acc\"],axis=1,inplace=True)\n",
    "hexData.directory_prefix = loadpath\n",
    "create_tridf(hexData)\n",
    "hexData.triframe = hexData.tridf.copy()\n",
    "del hexData.tridf\n",
    "hexData.triframe.loc[:,\"lrchoice\"] = make_lr(hexData.triframe.port.values)\n",
    "hexData.get_portQvals(qtype=\"port\",level=\"rat\")\n",
    "hexData.bin_size = 1\n",
    "add_withinBlockTriNumberToDf(hexData)\n",
    "add_hexesFromPort2Df(hexData)"
   ]
  },
  {
   "cell_type": "code",
   "execution_count": 3,
   "id": "740ea169-e0ab-4d69-86c1-ac4fc27be35d",
   "metadata": {},
   "outputs": [],
   "source": [
    "hexData.df = hexData.df.loc[(hexData.df.rat!=\"IM-1292\"),]\n",
    "seshsToRemove = [90, 92, 94]\n",
    "hexData.df = hexData.df.loc[~(hexData.df.session.isin(seshsToRemove)),]"
   ]
  },
  {
   "cell_type": "code",
   "execution_count": 10,
   "id": "1f8ad539-c405-4c8f-b188-15b46349b6f6",
   "metadata": {},
   "outputs": [],
   "source": [
    "create_tridf(hexData)\n",
    "get_portHist(hexData)\n",
    "get_back2samePortTrials(hexData)\n",
    "add_rewardLagColumns2Df(hexData,lags=5)\n",
    "add_pathSpecificRwdLagColumns2Df(hexData,lags=5)\n",
    "add_pathSimilarity2df(hexData)"
   ]
  },
  {
   "cell_type": "markdown",
   "id": "86e62a0e-eea2-4c32-8fc1-d220d42f58ef",
   "metadata": {},
   "source": []
  },
  {
   "cell_type": "code",
   "execution_count": 5,
   "id": "a78f12c2-d7e9-4b9f-ae78-20bdfe2028eb",
   "metadata": {},
   "outputs": [
    {
     "name": "stdout",
     "output_type": "stream",
     "text": [
      "couldn't assign choice point to IM-1318 11102020\n",
      "couldn't assign choice point to IM-1318 11122020\n",
      "couldn't assign choice point to IM-1318 11142020\n",
      "couldn't assign choice point to IM-1353 03242021\n",
      "couldn't assign choice point to IM-1353 03252021\n",
      "couldn't assign choice point to IM-1353 03262021\n",
      "couldn't assign choice point to IM-1353 03282021\n",
      "couldn't assign choice point to IM-1353 03292021\n",
      "couldn't assign choice point to IM-1353 03302021\n",
      "couldn't assign choice point to IM-1353 03312021\n",
      "couldn't assign choice point to IM-1353 04012021\n",
      "couldn't assign choice point to IM-1353 04052021\n",
      "couldn't assign choice point to IM-1353 04062021\n",
      "couldn't assign choice point to IM-1353 04072021\n",
      "couldn't assign choice point to IM-1353 04082021\n",
      "couldn't assign choice point to IM-1353 04092021\n",
      "couldn't assign choice point to IM-1353 04132021\n",
      "couldn't assign choice point to IM-1353 04142021\n",
      "couldn't assign choice point to IM-1353 04162021\n",
      "couldn't assign choice point to IM-1273 08242020\n",
      "couldn't assign choice point to IM-1273 08282020\n",
      "couldn't assign choice point to IM-1273 10192020\n",
      "couldn't assign choice point to IM-1273 11032020\n",
      "couldn't assign choice point to IM-1273 12102020\n",
      "couldn't assign choice point to IM-1273 12112020\n",
      "couldn't assign choice point to IM-1273 12162020\n",
      "couldn't assign choice point to IM-1291 10032020\n",
      "couldn't assign choice point to IM-1291 10072020\n",
      "couldn't assign choice point to IM-1291 10182020\n",
      "couldn't assign choice point to IM-1291 12072020\n",
      "couldn't assign choice point to IM-1292 10012020\n",
      "couldn't assign choice point to IM-1292 10032020\n",
      "couldn't assign choice point to IM-1292 10062020\n",
      "couldn't assign choice point to IM-1292 10072020\n",
      "couldn't assign choice point to IM-1292 10192020\n",
      "couldn't assign choice point to IM-1292 10202020\n",
      "couldn't assign choice point to IM-1292 10272020\n",
      "couldn't assign choice point to IM-1292 11022020\n",
      "couldn't assign choice point to IM-1292 11032020\n",
      "couldn't assign choice point to IM-1292 12082020\n",
      "couldn't assign choice point to IM-1292 12142020\n",
      "couldn't assign choice point to IM-1292 12152020\n",
      "couldn't assign choice point to IM-1292 12162020\n"
     ]
    }
   ],
   "source": [
    "from critCPs import crit_cps\n",
    "\n",
    "sesh_cps = {s:[] for s in hexData.df.session.unique()}\n",
    "for rat in crit_cps:\n",
    "    for date in crit_cps[rat]:\n",
    "        try:\n",
    "            s = hexData.df.loc[(hexData.df.date==int(date))&(hexData.df.rat==rat),'session'].unique()[0]\n",
    "            sesh_cps[s] = crit_cps[rat][date]\n",
    "        except:\n",
    "            print(\"couldn't assign choice point to \"+rat+' '+str(date))\n",
    "\n",
    "newRats = [\"IM-1398\",\"IM-1434\",\"IM-1478\",\"IM-1532\"]\n",
    "loadpaths = ['/Volumes/Tim-1/Photometry Data/','/Volumes/Tim-1/Photometry Data/',\\\n",
    "             '/Volumes/Tim/Photometry/','/Volumes/Tim/Photometry/']\n",
    "for i in range(len(newRats)):\n",
    "    rat = newRats[i]\n",
    "    for s in hexData.df.loc[hexData.df.rat==rat,'session'].unique():\n",
    "        date = str(hexData.df.loc[hexData.df.session==s,\"date\"].unique()[0].astype(int))\n",
    "        if date[0]!='1':\n",
    "            date = '0'+date\n",
    "        if hexData.df.loc[hexData.df.session==s,'session_type'].values[0]=='prob':\n",
    "            sesh_cps[s].append(np.load(loadpaths[i]+rat+\"/\"+date+\"/cps.npy\"))\n",
    "        else:\n",
    "            for b in hexData.df.loc[hexData.df.session==s,\"block\"].unique():\n",
    "                sesh_cps[s].append(np.load(loadpaths[i]+rat+\"/\"+date+\"/cps_block_\"+str(b)+\".0.npy\"))"
   ]
  },
  {
   "cell_type": "code",
   "execution_count": 6,
   "id": "f565c1ad-913a-44ff-99bd-937166e5cee1",
   "metadata": {},
   "outputs": [],
   "source": [
    "hexData.df.reset_index(inplace=True)"
   ]
  },
  {
   "cell_type": "code",
   "execution_count": 7,
   "id": "7cca6e26-03e4-4ac7-a62f-74ee1b98505b",
   "metadata": {},
   "outputs": [],
   "source": [
    "hexData.usePairedState = True\n",
    "hexData.df.loc[:,'critCP'] = 0\n",
    "for s in hexData.df.session.unique():\n",
    "    if hexData.df.loc[hexData.df.session==s,'session_type'].values[0]=='prob':\n",
    "        cordat = hexData.df.loc[hexData.df.session==s]\n",
    "        cp = phexdf.loc[phexdf.to_state.isin(sesh_cps[s][0]),\"statecodes\"].values\\\n",
    "        if hexData.usePairedState else sesh_cps[s][0]\n",
    "        incp = cordat.loc[cordat.loc[:,'pairedHexState'].astype(int).isin(cp)].index\n",
    "        hexData.df.loc[incp,\"critCP\"]=1\n",
    "    else:\n",
    "        for b in range(1,len(sesh_cps[s])+1):\n",
    "            cordat = hexData.df.loc[(hexData.df.session==s)&(hexData.df.block==b)]\n",
    "            cp = phexdf.loc[phexdf.to_state.isin(sesh_cps[s][b-1]),\"statecodes\"].values\\\n",
    "            if hexData.usePairedState else sesh_cps[s][b-1]\n",
    "            incp = np.where(cordat.loc[cordat.block==b,'pairedHexState'].astype(int).isin(\\\n",
    "                cp)==1)[0]+cordat.index.min()\n",
    "            hexData.df.loc[incp,\"critCP\"]=1\n",
    "\n",
    "#create hexesfromcp column\n",
    "hfrcp = np.full(fill_value=-100,shape=len(hexData.df),dtype=\"int8\")\n",
    "hfr_firstcp = np.full(fill_value=-100,shape=len(hexData.df),dtype=\"int8\")\n",
    "for s in hexData.df.session.unique():\n",
    "    for b in hexData.df.loc[hexData.df.session==s,'block'].unique():\n",
    "        for t in hexData.df.loc[(hexData.df.session==s)&(hexData.df.block==b),'trial'].unique():\n",
    "            dat = hexData.df.loc[(hexData.df.session==s)&(hexData.df.block==b)&(hexData.df.trial==t)]\n",
    "            if 1 not in dat.critCP.unique():\n",
    "                continue\n",
    "            cpidx = dat.loc[dat.critCP==1].index[-1]\n",
    "            hfrcp[dat.index] = dat.index - cpidx#[0]\n",
    "            first_cpidx = dat.loc[dat.critCP==1].index[0]\n",
    "            hfr_firstcp[dat.index] = dat.index - first_cpidx#[0]\n",
    "            \n",
    "hexData.df.loc[:,\"hexesFromCp\"]=hfrcp\n",
    "\n",
    "hexData.df.loc[:,\"postCP\"]=0\n",
    "hexData.df.loc[hexData.df.hexesFromCp>0,\"postCP\"]=1\n",
    "#hexData.df.loc[hexData.df.hexesFromCp==-100,\"postCP\"]=1\n",
    "\n",
    "hexData.df.loc[:,\"hexesFromFirstCp\"]=hfr_firstcp\n",
    "\n",
    "hexData.df.loc[:,\"preCP\"]=0\n",
    "hexData.df.loc[hexData.df.hexesFromFirstCp<0,\"preCP\"]=1\n",
    "hexData.df.loc[:,\"critCP\"] = hexData.df.critCP.astype(\"int8\")\n",
    "hexData.df.loc[:,\"preCP\"] = hexData.df.preCP.astype(\"int8\")\n",
    "hexData.df.loc[:,\"postCP\"] = hexData.df.postCP.astype(\"int8\")"
   ]
  },
  {
   "cell_type": "code",
   "execution_count": 8,
   "id": "32e69b8f-c140-4cf1-9146-cafd0ae2e494",
   "metadata": {},
   "outputs": [],
   "source": [
    "hexData.triframe = hexData.tridf\n",
    "add_prevRwdTakenAndAlt(hexData)"
   ]
  },
  {
   "cell_type": "code",
   "execution_count": 11,
   "id": "4bc3b299-b1c5-48c8-88ee-f88152fbcbd6",
   "metadata": {},
   "outputs": [],
   "source": [
    "add_altPathSpecificRwdLagColumns2Df(hexData,lags=1)"
   ]
  },
  {
   "cell_type": "code",
   "execution_count": 12,
   "id": "a316a1c9-fb9e-4a73-b727-779e41807a6b",
   "metadata": {},
   "outputs": [],
   "source": [
    "ratSameValtPreCpDA = create_sameValtPreCpDARatMeans(hexData)"
   ]
  },
  {
   "cell_type": "code",
   "execution_count": 14,
   "id": "068524a8-c95e-42f1-a51b-00425486519c",
   "metadata": {},
   "outputs": [],
   "source": [
    "sameVals = [ratSameValtPreCpDA[rat]['DARwdVsOmSame'] for rat in ratSameValtPreCpDA.keys()]\n",
    "altVals = [ratSameValtPreCpDA[rat]['DARwdVsOmAlt'] for rat in ratSameValtPreCpDA.keys()]"
   ]
  },
  {
   "cell_type": "code",
   "execution_count": 16,
   "id": "17ffa4a7-8a10-4dae-9534-37ef9bb8010e",
   "metadata": {},
   "outputs": [
    {
     "data": {
      "text/plain": [
       "WilcoxonResult(statistic=17.0, pvalue=0.5703125)"
      ]
     },
     "execution_count": 16,
     "metadata": {},
     "output_type": "execute_result"
    }
   ],
   "source": [
    "wilcoxon(sameVals,altVals)"
   ]
  },
  {
   "cell_type": "code",
   "execution_count": 17,
   "id": "30349e6e-465b-4160-b10c-db9088b9d5b2",
   "metadata": {},
   "outputs": [
    {
     "data": {
      "text/plain": [
       "Index(['index', 'Unnamed: 0', 'hexlabel', 'port', 'rwd', 'session', 'DA',\n",
       "       'block', 'trial', 'rat', 'date', 'session_type', 'nom_rwd_chosen',\n",
       "       'vel', 'Q_a', 'Q_b', 'Q_c', 'lenAB', 'lenBC', 'lenAC', 'nom_rwd_a',\n",
       "       'nom_rwd_b', 'nom_rwd_c', 'dtop', 'pairedHexState', 'tri',\n",
       "       'hexesFromPort', 'rt-1', 'samePath_t-1', 'rt-2', 'samePath_t-2', 'rt-3',\n",
       "       'samePath_t-3', 'rt-4', 'samePath_t-4', 'rt-5', 'samePath_t-5',\n",
       "       'path_rt-1', 'path_rt-2', 'path_rt-3', 'path_rt-4', 'path_rt-5',\n",
       "       'same2', 'fromport', 'fromport2', 'critCP', 'hexesFromCp', 'postCP',\n",
       "       'hexesFromFirstCp', 'preCP', 'altPath_rt-1'],\n",
       "      dtype='object')"
      ]
     },
     "execution_count": 17,
     "metadata": {},
     "output_type": "execute_result"
    }
   ],
   "source": [
    "hexData.df.columns"
   ]
  },
  {
   "cell_type": "code",
   "execution_count": 20,
   "id": "718e9967-2386-4ad5-923f-0009da55650e",
   "metadata": {
    "tags": []
   },
   "outputs": [],
   "source": [
    "def get_sigRats_fromMeanList(meanList,altString=\"two-sided\"):\n",
    "    stat,pval = wilcoxon(meanList,alternative=altString)\n",
    "    print(stat,pval)\n",
    "    return pval<0.001,pval<0.01,pval<0.05\n",
    "def plot_sigMarkers(sigrats,r,yval):\n",
    "    if sigrats[0]==1:\n",
    "        plt.text(x=r, y=yval, s='***',fontweight='bold',fontsize='xx-large')\n",
    "    elif sigrats[1]==1:\n",
    "        plt.text(x=r, y=yval, s='**',fontweight='bold',fontsize='xx-large')\n",
    "    elif sigrats[2]==1:\n",
    "        plt.text(x=r, y=yval, s='*',fontweight='bold',fontsize='xx-large')\n",
    "    else:\n",
    "        plt.text(x=r-.25, y=yval, s='ns',fontweight='bold',fontsize='x-large')\n",
    "def plot_DAdifSameValt(hexData,ratSameValtPreCpDA):\n",
    "    fig = plt.figure(figsize=(4.5,5))\n",
    "    ratmeans_samePath = []\n",
    "    ratmeans_altPath = []\n",
    "    for rat in ratSameValtPreCpDA:\n",
    "        ratmeans_samePath.append(np.mean(ratSameValtPreCpDA[rat][\"DARwdVsOmSame\"]))\n",
    "        ratmeans_altPath.append(np.mean(ratSameValtPreCpDA[rat][\"DARwdVsOmAlt\"]))\n",
    "        plt.scatter(x=[\"Same\\nPath\", \"Alternative\\nPath\"],y=[ratmeans_samePath[-1],ratmeans_altPath[-1]],color='k',s=30,marker='D',alpha=1)\n",
    "    sns.barplot(x=[\"Same\\nPath\", \"Alternative\\nPath\"],y=[np.mean(ratmeans_samePath),np.mean(ratmeans_altPath)],palette=[\"#ff7f0e\",\"#2ca02c\"],alpha=.5)\n",
    "    plt.ylabel(\"$\\Delta$ DA before\\nchoice point\",fontsize=20)\n",
    "    plt.suptitle(\"DA change on next run\\nfollowing reward - omission\",fontsize='xx-large')\n",
    "    plt.tight_layout()\n",
    "    plt.xticks(fontsize=20)\n",
    "    sameSigRats = get_sigRats_fromMeanList(ratmeans_samePath,altString=\"greater\")\n",
    "    plot_sigMarkers(sameSigRats,0,yval=0.17)\n",
    "    altSigRats = get_sigRats_fromMeanList(ratmeans_altPath,altString=\"greater\")\n",
    "    plot_sigMarkers(altSigRats,.95,yval=0.17)\n",
    "    plt.axhline(y=0,ls='--',color='k',lw=1)\n",
    "    plt.ylim(-.23,0.23)\n",
    "    return fig\n",
    "    "
   ]
  },
  {
   "cell_type": "code",
   "execution_count": 21,
   "id": "732d3fae-984f-4297-a12f-e346ceb8fe34",
   "metadata": {},
   "outputs": [
    {
     "name": "stdout",
     "output_type": "stream",
     "text": [
      "44.0 0.00390625\n",
      "44.0 0.00390625\n"
     ]
    }
   ],
   "source": [
    "fig = plot_DAdifSameValt(hexData,ratSameValtPreCpDA)"
   ]
  },
  {
   "cell_type": "code",
   "execution_count": 22,
   "id": "238b1a19-fe6a-434a-b754-50414cae38fe",
   "metadata": {},
   "outputs": [],
   "source": [
    "fig.savefig(hexData.directory_prefix+\"deltaPreCpDASameValt_corAlign.pdf\")"
   ]
  },
  {
   "cell_type": "markdown",
   "id": "d568c1d2-a3cd-472c-92fd-1f1b2a4cc690",
   "metadata": {},
   "source": []
  },
  {
   "cell_type": "code",
   "execution_count": 24,
   "id": "be0b8973-ce7b-4966-a45b-c03ab1b6e5d5",
   "metadata": {},
   "outputs": [],
   "source": [
    "hexData.df.to_csv(hexData.directory_prefix+\"hexDf_with_PreCp_and_prevRwdAltSame_correctAlignment.csv\")"
   ]
  },
  {
   "cell_type": "markdown",
   "id": "9b3d9d94-243a-4d86-9408-4440db05d505",
   "metadata": {},
   "source": []
  },
  {
   "cell_type": "code",
   "execution_count": 25,
   "id": "1f13e7cd-489f-40c6-a129-076c4c10fc2d",
   "metadata": {},
   "outputs": [],
   "source": [
    "preCpDaRegSameSum = pd.read_csv(hexData.directory_prefix+\"DApreCpSamePathSum.csv\")\n",
    "preCpDaRegSameCoefs = pd.read_csv(hexData.directory_prefix+\"DApreCpSamePathCoefsByRat.csv\")\n",
    "preCpDaRegAltSum = pd.read_csv(hexData.directory_prefix+\"DApreCpAltPathSum.csv\")\n",
    "preCpDaRegAltCoefs = pd.read_csv(hexData.directory_prefix+\"DApreCpAltPathCoefsByRat.csv\")"
   ]
  },
  {
   "cell_type": "code",
   "execution_count": 32,
   "id": "e4f12480-8f0f-460d-b60b-5f4216aa0307",
   "metadata": {},
   "outputs": [
    {
     "data": {
      "text/html": [
       "<div>\n",
       "<style scoped>\n",
       "    .dataframe tbody tr th:only-of-type {\n",
       "        vertical-align: middle;\n",
       "    }\n",
       "\n",
       "    .dataframe tbody tr th {\n",
       "        vertical-align: top;\n",
       "    }\n",
       "\n",
       "    .dataframe thead th {\n",
       "        text-align: right;\n",
       "    }\n",
       "</style>\n",
       "<table border=\"1\" class=\"dataframe\">\n",
       "  <thead>\n",
       "    <tr style=\"text-align: right;\">\n",
       "      <th></th>\n",
       "      <th>Unnamed: 0</th>\n",
       "      <th>(Intercept)</th>\n",
       "      <th>rt.1</th>\n",
       "      <th>rt.2</th>\n",
       "      <th>rt.3</th>\n",
       "      <th>rt.4</th>\n",
       "      <th>rt.5</th>\n",
       "    </tr>\n",
       "  </thead>\n",
       "  <tbody>\n",
       "    <tr>\n",
       "      <th>0</th>\n",
       "      <td>IM-1272</td>\n",
       "      <td>-0.130329</td>\n",
       "      <td>0.088094</td>\n",
       "      <td>-0.008589</td>\n",
       "      <td>0.008664</td>\n",
       "      <td>0.013293</td>\n",
       "      <td>0.082412</td>\n",
       "    </tr>\n",
       "    <tr>\n",
       "      <th>1</th>\n",
       "      <td>IM-1273</td>\n",
       "      <td>-0.177757</td>\n",
       "      <td>0.055046</td>\n",
       "      <td>0.071212</td>\n",
       "      <td>0.070152</td>\n",
       "      <td>-0.016572</td>\n",
       "      <td>0.052695</td>\n",
       "    </tr>\n",
       "    <tr>\n",
       "      <th>2</th>\n",
       "      <td>IM-1276</td>\n",
       "      <td>-0.058994</td>\n",
       "      <td>0.035214</td>\n",
       "      <td>0.000805</td>\n",
       "      <td>0.059530</td>\n",
       "      <td>0.013056</td>\n",
       "      <td>0.063612</td>\n",
       "    </tr>\n",
       "    <tr>\n",
       "      <th>3</th>\n",
       "      <td>IM-1291</td>\n",
       "      <td>-0.205675</td>\n",
       "      <td>0.088093</td>\n",
       "      <td>0.045329</td>\n",
       "      <td>0.110820</td>\n",
       "      <td>-0.003843</td>\n",
       "      <td>0.041497</td>\n",
       "    </tr>\n",
       "    <tr>\n",
       "      <th>4</th>\n",
       "      <td>IM-1322</td>\n",
       "      <td>-0.036895</td>\n",
       "      <td>0.056964</td>\n",
       "      <td>0.041893</td>\n",
       "      <td>0.052738</td>\n",
       "      <td>0.037322</td>\n",
       "      <td>0.025909</td>\n",
       "    </tr>\n",
       "    <tr>\n",
       "      <th>5</th>\n",
       "      <td>IM-1398</td>\n",
       "      <td>0.005485</td>\n",
       "      <td>-0.013005</td>\n",
       "      <td>0.047817</td>\n",
       "      <td>0.027958</td>\n",
       "      <td>0.069897</td>\n",
       "      <td>-0.109195</td>\n",
       "    </tr>\n",
       "    <tr>\n",
       "      <th>6</th>\n",
       "      <td>IM-1434</td>\n",
       "      <td>-0.118442</td>\n",
       "      <td>0.048395</td>\n",
       "      <td>0.050135</td>\n",
       "      <td>0.017056</td>\n",
       "      <td>0.025526</td>\n",
       "      <td>-0.009532</td>\n",
       "    </tr>\n",
       "    <tr>\n",
       "      <th>7</th>\n",
       "      <td>IM-1478</td>\n",
       "      <td>-0.297760</td>\n",
       "      <td>-0.005187</td>\n",
       "      <td>0.122737</td>\n",
       "      <td>0.018110</td>\n",
       "      <td>-0.053912</td>\n",
       "      <td>-0.015763</td>\n",
       "    </tr>\n",
       "    <tr>\n",
       "      <th>8</th>\n",
       "      <td>IM-1532</td>\n",
       "      <td>-0.120534</td>\n",
       "      <td>0.055299</td>\n",
       "      <td>-0.045680</td>\n",
       "      <td>0.041550</td>\n",
       "      <td>0.076042</td>\n",
       "      <td>-0.104383</td>\n",
       "    </tr>\n",
       "  </tbody>\n",
       "</table>\n",
       "</div>"
      ],
      "text/plain": [
       "  Unnamed: 0  (Intercept)      rt.1      rt.2      rt.3      rt.4      rt.5\n",
       "0    IM-1272    -0.130329  0.088094 -0.008589  0.008664  0.013293  0.082412\n",
       "1    IM-1273    -0.177757  0.055046  0.071212  0.070152 -0.016572  0.052695\n",
       "2    IM-1276    -0.058994  0.035214  0.000805  0.059530  0.013056  0.063612\n",
       "3    IM-1291    -0.205675  0.088093  0.045329  0.110820 -0.003843  0.041497\n",
       "4    IM-1322    -0.036895  0.056964  0.041893  0.052738  0.037322  0.025909\n",
       "5    IM-1398     0.005485 -0.013005  0.047817  0.027958  0.069897 -0.109195\n",
       "6    IM-1434    -0.118442  0.048395  0.050135  0.017056  0.025526 -0.009532\n",
       "7    IM-1478    -0.297760 -0.005187  0.122737  0.018110 -0.053912 -0.015763\n",
       "8    IM-1532    -0.120534  0.055299 -0.045680  0.041550  0.076042 -0.104383"
      ]
     },
     "execution_count": 32,
     "metadata": {},
     "output_type": "execute_result"
    }
   ],
   "source": [
    "preCpDaRegAltCoefs"
   ]
  },
  {
   "cell_type": "code",
   "execution_count": 31,
   "id": "6436ee27-3aad-459f-b037-b90ad348a207",
   "metadata": {},
   "outputs": [
    {
     "data": {
      "text/html": [
       "<div>\n",
       "<style scoped>\n",
       "    .dataframe tbody tr th:only-of-type {\n",
       "        vertical-align: middle;\n",
       "    }\n",
       "\n",
       "    .dataframe tbody tr th {\n",
       "        vertical-align: top;\n",
       "    }\n",
       "\n",
       "    .dataframe thead th {\n",
       "        text-align: right;\n",
       "    }\n",
       "</style>\n",
       "<table border=\"1\" class=\"dataframe\">\n",
       "  <thead>\n",
       "    <tr style=\"text-align: right;\">\n",
       "      <th></th>\n",
       "      <th>Unnamed: 0</th>\n",
       "      <th>Estimate</th>\n",
       "      <th>Std. Error</th>\n",
       "      <th>df</th>\n",
       "      <th>t value</th>\n",
       "      <th>Pr(&gt;|t|)</th>\n",
       "    </tr>\n",
       "  </thead>\n",
       "  <tbody>\n",
       "    <tr>\n",
       "      <th>0</th>\n",
       "      <td>(Intercept)</td>\n",
       "      <td>-0.120779</td>\n",
       "      <td>0.039340</td>\n",
       "      <td>7.862433</td>\n",
       "      <td>-3.070137</td>\n",
       "      <td>0.015669</td>\n",
       "    </tr>\n",
       "    <tr>\n",
       "      <th>1</th>\n",
       "      <td>rt.1</td>\n",
       "      <td>0.070084</td>\n",
       "      <td>0.017506</td>\n",
       "      <td>6.616086</td>\n",
       "      <td>4.003383</td>\n",
       "      <td>0.005802</td>\n",
       "    </tr>\n",
       "    <tr>\n",
       "      <th>2</th>\n",
       "      <td>rt.2</td>\n",
       "      <td>0.013162</td>\n",
       "      <td>0.019501</td>\n",
       "      <td>6.986539</td>\n",
       "      <td>0.674941</td>\n",
       "      <td>0.521415</td>\n",
       "    </tr>\n",
       "    <tr>\n",
       "      <th>3</th>\n",
       "      <td>rt.3</td>\n",
       "      <td>0.033926</td>\n",
       "      <td>0.013046</td>\n",
       "      <td>8.205469</td>\n",
       "      <td>2.600490</td>\n",
       "      <td>0.030938</td>\n",
       "    </tr>\n",
       "    <tr>\n",
       "      <th>4</th>\n",
       "      <td>rt.4</td>\n",
       "      <td>0.018494</td>\n",
       "      <td>0.017711</td>\n",
       "      <td>7.153567</td>\n",
       "      <td>1.044246</td>\n",
       "      <td>0.330370</td>\n",
       "    </tr>\n",
       "    <tr>\n",
       "      <th>5</th>\n",
       "      <td>rt.5</td>\n",
       "      <td>0.008253</td>\n",
       "      <td>0.020382</td>\n",
       "      <td>6.849604</td>\n",
       "      <td>0.404930</td>\n",
       "      <td>0.697876</td>\n",
       "    </tr>\n",
       "  </tbody>\n",
       "</table>\n",
       "</div>"
      ],
      "text/plain": [
       "    Unnamed: 0  Estimate  Std. Error        df   t value  Pr(>|t|)\n",
       "0  (Intercept) -0.120779    0.039340  7.862433 -3.070137  0.015669\n",
       "1         rt.1  0.070084    0.017506  6.616086  4.003383  0.005802\n",
       "2         rt.2  0.013162    0.019501  6.986539  0.674941  0.521415\n",
       "3         rt.3  0.033926    0.013046  8.205469  2.600490  0.030938\n",
       "4         rt.4  0.018494    0.017711  7.153567  1.044246  0.330370\n",
       "5         rt.5  0.008253    0.020382  6.849604  0.404930  0.697876"
      ]
     },
     "execution_count": 31,
     "metadata": {},
     "output_type": "execute_result"
    }
   ],
   "source": [
    "preCpDaRegSameSum"
   ]
  },
  {
   "cell_type": "code",
   "execution_count": 30,
   "id": "6131a2a1-2a33-432a-b7f6-16741cbc956f",
   "metadata": {},
   "outputs": [
    {
     "data": {
      "text/html": [
       "<div>\n",
       "<style scoped>\n",
       "    .dataframe tbody tr th:only-of-type {\n",
       "        vertical-align: middle;\n",
       "    }\n",
       "\n",
       "    .dataframe tbody tr th {\n",
       "        vertical-align: top;\n",
       "    }\n",
       "\n",
       "    .dataframe thead th {\n",
       "        text-align: right;\n",
       "    }\n",
       "</style>\n",
       "<table border=\"1\" class=\"dataframe\">\n",
       "  <thead>\n",
       "    <tr style=\"text-align: right;\">\n",
       "      <th></th>\n",
       "      <th>Unnamed: 0</th>\n",
       "      <th>Estimate</th>\n",
       "      <th>Std. Error</th>\n",
       "      <th>df</th>\n",
       "      <th>t value</th>\n",
       "      <th>Pr(&gt;|t|)</th>\n",
       "    </tr>\n",
       "  </thead>\n",
       "  <tbody>\n",
       "    <tr>\n",
       "      <th>0</th>\n",
       "      <td>(Intercept)</td>\n",
       "      <td>-0.126767</td>\n",
       "      <td>0.032517</td>\n",
       "      <td>8.160681</td>\n",
       "      <td>-3.898505</td>\n",
       "      <td>0.004382</td>\n",
       "    </tr>\n",
       "    <tr>\n",
       "      <th>1</th>\n",
       "      <td>rt.1</td>\n",
       "      <td>0.045435</td>\n",
       "      <td>0.015809</td>\n",
       "      <td>8.685155</td>\n",
       "      <td>2.874032</td>\n",
       "      <td>0.019025</td>\n",
       "    </tr>\n",
       "    <tr>\n",
       "      <th>2</th>\n",
       "      <td>rt.2</td>\n",
       "      <td>0.036184</td>\n",
       "      <td>0.020126</td>\n",
       "      <td>7.099281</td>\n",
       "      <td>1.797934</td>\n",
       "      <td>0.114637</td>\n",
       "    </tr>\n",
       "    <tr>\n",
       "      <th>3</th>\n",
       "      <td>rt.3</td>\n",
       "      <td>0.045175</td>\n",
       "      <td>0.015534</td>\n",
       "      <td>8.009696</td>\n",
       "      <td>2.908113</td>\n",
       "      <td>0.019620</td>\n",
       "    </tr>\n",
       "    <tr>\n",
       "      <th>4</th>\n",
       "      <td>rt.4</td>\n",
       "      <td>0.017868</td>\n",
       "      <td>0.016530</td>\n",
       "      <td>7.526451</td>\n",
       "      <td>1.080907</td>\n",
       "      <td>0.313152</td>\n",
       "    </tr>\n",
       "    <tr>\n",
       "      <th>5</th>\n",
       "      <td>rt.5</td>\n",
       "      <td>0.003028</td>\n",
       "      <td>0.026145</td>\n",
       "      <td>7.992860</td>\n",
       "      <td>0.115812</td>\n",
       "      <td>0.910659</td>\n",
       "    </tr>\n",
       "  </tbody>\n",
       "</table>\n",
       "</div>"
      ],
      "text/plain": [
       "    Unnamed: 0  Estimate  Std. Error        df   t value  Pr(>|t|)\n",
       "0  (Intercept) -0.126767    0.032517  8.160681 -3.898505  0.004382\n",
       "1         rt.1  0.045435    0.015809  8.685155  2.874032  0.019025\n",
       "2         rt.2  0.036184    0.020126  7.099281  1.797934  0.114637\n",
       "3         rt.3  0.045175    0.015534  8.009696  2.908113  0.019620\n",
       "4         rt.4  0.017868    0.016530  7.526451  1.080907  0.313152\n",
       "5         rt.5  0.003028    0.026145  7.992860  0.115812  0.910659"
      ]
     },
     "execution_count": 30,
     "metadata": {},
     "output_type": "execute_result"
    }
   ],
   "source": [
    "preCpDaRegAltSum"
   ]
  },
  {
   "cell_type": "code",
   "execution_count": 28,
   "id": "087b9e05-de27-4299-b717-a4130173c821",
   "metadata": {},
   "outputs": [],
   "source": [
    "xvals = [\"same\\npath\",\"alternative\\npath\"]\n",
    "fig = plt.figure(figsize=(4.5,5))\n",
    "plt.bar(xvals,[preCpDaRegSameSum.Estimate[1],preCpDaRegAltSum.Estimate[1]],color=[\"#ff7f0e\",'#2ca02c'],alpha=0.5)\n",
    "for i in range(len(preCpDaRegSameCoefs.loc[:,\"rt.1\"])):\n",
    "    plt.scatter(xvals[0],preCpDaRegSameCoefs.loc[:,\"rt.1\"][i],c=\"k\",edgecolors='k',s=30,marker='D')\n",
    "    plt.scatter(xvals[1],preCpDaRegAltCoefs.loc[:,\"rt.1\"][i],c='k',edgecolors='k',s=30,marker='D')\n",
    "plt.ylim(-.18,.18)\n",
    "plt.axhline(y=0,color=\"k\",ls=\"--\",lw=2)\n",
    "plt.ylabel(\"Regression Beta\")\n",
    "plt.tight_layout()\n",
    "fig.savefig(hexData.directory_prefix+\"DApreCpTakenValt_newhexdf.pdf\")"
   ]
  },
  {
   "cell_type": "code",
   "execution_count": null,
   "id": "e3179a81-13ea-4b82-8c54-d777606e31bc",
   "metadata": {},
   "outputs": [],
   "source": []
  }
 ],
 "metadata": {
  "kernelspec": {
   "display_name": "Python 3",
   "language": "python",
   "name": "python3"
  },
  "language_info": {
   "codemirror_mode": {
    "name": "ipython",
    "version": 3
   },
   "file_extension": ".py",
   "mimetype": "text/x-python",
   "name": "python",
   "nbconvert_exporter": "python",
   "pygments_lexer": "ipython3",
   "version": "3.8.8"
  }
 },
 "nbformat": 4,
 "nbformat_minor": 5
}
