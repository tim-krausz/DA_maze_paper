{
 "cells": [
  {
   "cell_type": "code",
   "execution_count": 1,
   "metadata": {},
   "outputs": [],
   "source": [
    "import sys\n",
    "path1 = '/Users/timkrausz/Documents/GitHub/DA_maze_paper/DA/Modules/'\n",
    "path2 = '/Users/timkrausz/Documents/GitHub/DA_maze_paper/RL/Modules/'\n",
    "sys.path += [path1,path2]"
   ]
  },
  {
   "cell_type": "code",
   "execution_count": 2,
   "metadata": {},
   "outputs": [],
   "source": [
    "import numpy as np\n",
    "import matplotlib.pyplot as plt\n",
    "import pandas as pd\n",
    "import seaborn as sns\n",
    "sns.set()\n",
    "plt.style.use('default')\n",
    "plt.style.use(\"seaborn-poster\")\n",
    "from multi_rat_da import *\n",
    "from hexLevelAnalyses import *\n",
    "from valPropRats import *\n",
    "%matplotlib qt"
   ]
  },
  {
   "cell_type": "code",
   "execution_count": 23,
   "metadata": {},
   "outputs": [],
   "source": [
    "valDaDf = pd.read_csv(\"/Volumes/Tim/Photometry/10MfRatDataSet/\"+\"valDaDf.csv\")"
   ]
  },
  {
   "cell_type": "code",
   "execution_count": 4,
   "metadata": {},
   "outputs": [
    {
     "data": {
      "text/plain": [
       "13381"
      ]
     },
     "execution_count": 4,
     "metadata": {},
     "output_type": "execute_result"
    }
   ],
   "source": [
    "valDaDf.loc[valDaDf.tri.diff()!=0,].shape[0]"
   ]
  },
  {
   "cell_type": "markdown",
   "metadata": {},
   "source": [
    "### load in hex-level df with port q values saved"
   ]
  },
  {
   "cell_type": "code",
   "execution_count": 3,
   "metadata": {},
   "outputs": [
    {
     "name": "stdout",
     "output_type": "stream",
     "text": [
      "Memory usage of dataframe is 54.99 MB\n",
      "Memory usage after optimization is: 12.60 MB\n",
      "Decreased by 77.1%\n"
     ]
    }
   ],
   "source": [
    "vrats = ValIterRats(None)\n",
    "loadpath = \"/Volumes/Tim/Photometry/10MfRatDataSet/\"\n",
    "datName = \"hexLevelDf_cornerHexCorrectAlignment\"#\"hexLevelDf_includeCornerHex\"#\"hexLevelDf\"\n",
    "vrats.df = reduce_mem_usage(pd.read_csv(loadpath+datName+\".csv\"))\n",
    "#vrats.df.drop([\"acc\"],axis=1,inplace=True)\n",
    "vrats.directory_prefix = loadpath\n"
   ]
  },
  {
   "cell_type": "markdown",
   "metadata": {},
   "source": [
    "### add in Q values if needed"
   ]
  },
  {
   "cell_type": "code",
   "execution_count": 4,
   "metadata": {},
   "outputs": [],
   "source": [
    "create_triframe(vrats)\n",
    "vrats.get_portQvals(qtype=\"port\",level=\"rat\")"
   ]
  },
  {
   "cell_type": "markdown",
   "metadata": {},
   "source": [
    "### remove rats/fibers with no significant positive ramping"
   ]
  },
  {
   "cell_type": "code",
   "execution_count": 5,
   "metadata": {},
   "outputs": [],
   "source": [
    "vrats.df = vrats.df.loc[vrats.df.rat!=\"IM-1292\",]\n",
    "seshInfo = pd.read_csv(vrats.directory_prefix+\"sessionTable.csv\")\n",
    "seshInfo.loc[:,\"ratLoc\"] = seshInfo.rat + ':'+ seshInfo.fiberloc\n",
    "vrats.seshInfo = seshInfo\n",
    "del seshInfo\n",
    "vrats.seshInfo.loc[vrats.seshInfo.rat==\"IM-1532\",\"fiberloc\"] = \"NAcc-Core-Right\"\n",
    "\n",
    "seshsToRemove = vrats.seshInfo.loc[vrats.seshInfo.ratLoc==\"IM-1478:NAcc-Core-Right\",\"session\"].unique()\n",
    "vrats.df = vrats.df.loc[~(vrats.df.session.isin(seshsToRemove)),]"
   ]
  },
  {
   "cell_type": "markdown",
   "metadata": {},
   "source": [
    "### load transition matrices and barrier info"
   ]
  },
  {
   "cell_type": "code",
   "execution_count": 6,
   "metadata": {},
   "outputs": [
    {
     "name": "stdout",
     "output_type": "stream",
     "text": [
      "briefly switching directory_prefix to new Nas...\n",
      "directory_prefix back to nas 8\n",
      "briefly switching directory_prefix to new Nas...\n",
      "directory_prefix back to nas 8\n",
      "briefly switching directory_prefix to new Nas...\n",
      "directory_prefix back to nas 8\n",
      "briefly switching directory_prefix to new Nas...\n",
      "directory_prefix back to nas 8\n",
      "briefly switching directory_prefix to new Nas...\n",
      "directory_prefix back to nas 8\n",
      "briefly switching directory_prefix to new Nas...\n",
      "directory_prefix back to nas 8\n",
      "briefly switching directory_prefix to new Nas...\n",
      "directory_prefix back to nas 8\n",
      "briefly switching directory_prefix to new Nas...\n",
      "directory_prefix back to nas 8\n",
      "briefly switching directory_prefix to new Nas...\n",
      "directory_prefix back to nas 8\n",
      "briefly switching directory_prefix to new Nas...\n",
      "directory_prefix back to nas 8\n",
      "briefly switching directory_prefix to new Nas...\n",
      "directory_prefix back to nas 8\n",
      "briefly switching directory_prefix to new Nas...\n",
      "directory_prefix back to nas 8\n",
      "briefly switching directory_prefix to new Nas...\n",
      "directory_prefix back to nas 8\n",
      "briefly switching directory_prefix to new Nas...\n",
      "directory_prefix back to nas 8\n"
     ]
    }
   ],
   "source": [
    "vrats.directory_prefix = vrats.phot_directory_prefix\n",
    "vrats.load_tmats()\n",
    "vrats.get_barIDs()\n",
    "vrats.directory_prefix = loadpath"
   ]
  },
  {
   "cell_type": "code",
   "execution_count": 9,
   "metadata": {},
   "outputs": [],
   "source": [
    "dropInds = vrats.df.loc[(vrats.df.rat==\"IM-1272\")&(vrats.df.date==8282020)&(vrats.df.block==1)].index\n",
    "vrats.df.drop(dropInds,axis=0,inplace=True)"
   ]
  },
  {
   "cell_type": "markdown",
   "metadata": {},
   "source": [
    "### optimze gamma to fit DA in each session"
   ]
  },
  {
   "cell_type": "code",
   "execution_count": 7,
   "metadata": {},
   "outputs": [
    {
     "name": "stderr",
     "output_type": "stream",
     "text": [
      "100%|██████████| 70/70 [26:43<00:00, 22.91s/it]   \n"
     ]
    }
   ],
   "source": [
    "vrats.get_optValIterGams()"
   ]
  },
  {
   "cell_type": "markdown",
   "metadata": {},
   "source": [
    "- save plot with optimal gamma values for each session"
   ]
  },
  {
   "cell_type": "code",
   "execution_count": 8,
   "metadata": {},
   "outputs": [],
   "source": [
    "fig = plt.figure()\n",
    "hist = plt.hist(vrats.opt_gams,bins=100)\n",
    "plt.xlabel(\"Optimal gamma\",fontweight=\"bold\",fontsize=\"xx-large\")\n",
    "plt.ylabel(\"Session count\",fontweight=\"bold\",fontsize=\"xx-large\")\n",
    "plt.tight_layout()\n",
    "fig.savefig(vrats.directory_prefix+\"da_optimized_gammas4vIter.pdf\")"
   ]
  },
  {
   "cell_type": "markdown",
   "metadata": {},
   "source": [
    "- create table with gamma for each rat and session"
   ]
  },
  {
   "cell_type": "code",
   "execution_count": 9,
   "metadata": {},
   "outputs": [],
   "source": [
    "gamsByRat = pd.DataFrame(np.array([vrats.opt_gams,vrats.df.loc[vrats.df.session.diff()!=0,\"rat\"],\\\n",
    "                                   vrats.df.loc[vrats.df.session.diff()!=0,\"session\"]]).T,columns=[\"gamma\",\"rat\",\"session\"])\n",
    "gamsByRat.gamma = gamsByRat.gamma.astype(float)\n",
    "pd.pivot_table(data=gamsByRat,values=\"gamma\",index=[\"rat\",\"session\"],aggfunc=\"mean\").to_csv(vrats.directory_prefix+\"da_optimized_gammas4vIter.csv\")\n",
    "pd.pivot_table(data=gamsByRat,values=\"gamma\",index=[\"rat\"],aggfunc=\"mean\").to_csv(vrats.directory_prefix+\"da_optimized_gammas4vIter_byRat.csv\")"
   ]
  },
  {
   "cell_type": "markdown",
   "metadata": {},
   "source": [
    "- plot gamma distributions for each rat"
   ]
  },
  {
   "cell_type": "code",
   "execution_count": 10,
   "metadata": {},
   "outputs": [],
   "source": [
    "fig = plt.figure(figsize=(6,3.7))\n",
    "sns.barplot(x='rat',y='gamma',data=gamsByRat,color='lightgrey',ci=None)\n",
    "sns.stripplot(x='rat',y='gamma',data=gamsByRat,color='k',marker='o',size=6,ls='-',lw=4,edgecolor='darkblue')\n",
    "plt.ylabel(\"DA-optimized \"+r\"$\\gamma$\")\n",
    "plt.xlabel(\"Rat ID\")\n",
    "plt.xticks(rotation=-45)\n",
    "plt.tight_layout()\n",
    "fig.savefig(vrats.directory_prefix+\"da_optimized_gammasByRat4vIter.pdf\")"
   ]
  },
  {
   "cell_type": "markdown",
   "metadata": {},
   "source": [
    "- create dataframe for plots and regression analysis in R"
   ]
  },
  {
   "cell_type": "code",
   "execution_count": 11,
   "metadata": {},
   "outputs": [
    {
     "data": {
      "text/html": [
       "<div>\n",
       "<style scoped>\n",
       "    .dataframe tbody tr th:only-of-type {\n",
       "        vertical-align: middle;\n",
       "    }\n",
       "\n",
       "    .dataframe tbody tr th {\n",
       "        vertical-align: top;\n",
       "    }\n",
       "\n",
       "    .dataframe thead th {\n",
       "        text-align: right;\n",
       "    }\n",
       "</style>\n",
       "<table border=\"1\" class=\"dataframe\">\n",
       "  <thead>\n",
       "    <tr style=\"text-align: right;\">\n",
       "      <th></th>\n",
       "      <th>DA</th>\n",
       "      <th>vel</th>\n",
       "      <th>pairedHexState</th>\n",
       "      <th>tri</th>\n",
       "      <th>trial</th>\n",
       "      <th>block</th>\n",
       "      <th>session</th>\n",
       "      <th>Value</th>\n",
       "      <th>rat</th>\n",
       "    </tr>\n",
       "  </thead>\n",
       "  <tbody>\n",
       "    <tr>\n",
       "      <th>243431</th>\n",
       "      <td>-0.037964</td>\n",
       "      <td>63.78125</td>\n",
       "      <td>78</td>\n",
       "      <td>1</td>\n",
       "      <td>195</td>\n",
       "      <td>4</td>\n",
       "      <td>105</td>\n",
       "      <td>0.0</td>\n",
       "      <td>IM-1532</td>\n",
       "    </tr>\n",
       "    <tr>\n",
       "      <th>243432</th>\n",
       "      <td>0.330322</td>\n",
       "      <td>67.37500</td>\n",
       "      <td>95</td>\n",
       "      <td>1</td>\n",
       "      <td>195</td>\n",
       "      <td>4</td>\n",
       "      <td>105</td>\n",
       "      <td>0.0</td>\n",
       "      <td>IM-1532</td>\n",
       "    </tr>\n",
       "    <tr>\n",
       "      <th>243433</th>\n",
       "      <td>0.051514</td>\n",
       "      <td>74.43750</td>\n",
       "      <td>109</td>\n",
       "      <td>1</td>\n",
       "      <td>195</td>\n",
       "      <td>4</td>\n",
       "      <td>105</td>\n",
       "      <td>0.0</td>\n",
       "      <td>IM-1532</td>\n",
       "    </tr>\n",
       "    <tr>\n",
       "      <th>243434</th>\n",
       "      <td>0.273193</td>\n",
       "      <td>83.56250</td>\n",
       "      <td>119</td>\n",
       "      <td>1</td>\n",
       "      <td>195</td>\n",
       "      <td>4</td>\n",
       "      <td>105</td>\n",
       "      <td>0.0</td>\n",
       "      <td>IM-1532</td>\n",
       "    </tr>\n",
       "    <tr>\n",
       "      <th>243435</th>\n",
       "      <td>-0.356934</td>\n",
       "      <td>35.87500</td>\n",
       "      <td>123</td>\n",
       "      <td>1</td>\n",
       "      <td>195</td>\n",
       "      <td>4</td>\n",
       "      <td>105</td>\n",
       "      <td>0.0</td>\n",
       "      <td>IM-1532</td>\n",
       "    </tr>\n",
       "  </tbody>\n",
       "</table>\n",
       "</div>"
      ],
      "text/plain": [
       "              DA       vel  pairedHexState  tri  trial  block  session  Value  \\\n",
       "243431 -0.037964  63.78125              78    1    195      4      105    0.0   \n",
       "243432  0.330322  67.37500              95    1    195      4      105    0.0   \n",
       "243433  0.051514  74.43750             109    1    195      4      105    0.0   \n",
       "243434  0.273193  83.56250             119    1    195      4      105    0.0   \n",
       "243435 -0.356934  35.87500             123    1    195      4      105    0.0   \n",
       "\n",
       "            rat  \n",
       "243431  IM-1532  \n",
       "243432  IM-1532  \n",
       "243433  IM-1532  \n",
       "243434  IM-1532  \n",
       "243435  IM-1532  "
      ]
     },
     "execution_count": 11,
     "metadata": {},
     "output_type": "execute_result"
    }
   ],
   "source": [
    "add_withinBlockTriNumberToDf(vrats)\n",
    "vrats.create_optValDf()\n",
    "vrats.valDaDf.loc[vrats.valDaDf.notnull().all(axis=1),].to_csv(vrats.directory_prefix+\"valDaDf.csv\")\n",
    "vrats.valDaDf.tail()"
   ]
  },
  {
   "cell_type": "markdown",
   "metadata": {},
   "source": [
    "## visualize regression results"
   ]
  },
  {
   "cell_type": "markdown",
   "metadata": {},
   "source": [
    "- load and plot regression results"
   ]
  },
  {
   "cell_type": "code",
   "execution_count": 14,
   "metadata": {},
   "outputs": [],
   "source": [
    "valRegSum = pd.read_csv(vrats.directory_prefix+\"valDASum.csv\")\n",
    "valRegCoefs = pd.read_csv(vrats.directory_prefix+\"valDACoefsByRat.csv\")"
   ]
  },
  {
   "cell_type": "code",
   "execution_count": 12,
   "metadata": {},
   "outputs": [],
   "source": [
    "from photometryQuantifications import plotRegSigLevel"
   ]
  },
  {
   "cell_type": "code",
   "execution_count": 15,
   "metadata": {},
   "outputs": [
    {
     "data": {
      "text/html": [
       "<div>\n",
       "<style scoped>\n",
       "    .dataframe tbody tr th:only-of-type {\n",
       "        vertical-align: middle;\n",
       "    }\n",
       "\n",
       "    .dataframe tbody tr th {\n",
       "        vertical-align: top;\n",
       "    }\n",
       "\n",
       "    .dataframe thead th {\n",
       "        text-align: right;\n",
       "    }\n",
       "</style>\n",
       "<table border=\"1\" class=\"dataframe\">\n",
       "  <thead>\n",
       "    <tr style=\"text-align: right;\">\n",
       "      <th></th>\n",
       "      <th>Unnamed: 0</th>\n",
       "      <th>Estimate</th>\n",
       "      <th>Std. Error</th>\n",
       "      <th>df</th>\n",
       "      <th>t value</th>\n",
       "      <th>Pr(&gt;|t|)</th>\n",
       "    </tr>\n",
       "  </thead>\n",
       "  <tbody>\n",
       "    <tr>\n",
       "      <th>0</th>\n",
       "      <td>(Intercept)</td>\n",
       "      <td>-0.195940</td>\n",
       "      <td>0.022434</td>\n",
       "      <td>8.411733</td>\n",
       "      <td>-8.734253</td>\n",
       "      <td>0.000017</td>\n",
       "    </tr>\n",
       "    <tr>\n",
       "      <th>1</th>\n",
       "      <td>Value</td>\n",
       "      <td>0.632991</td>\n",
       "      <td>0.098617</td>\n",
       "      <td>8.225430</td>\n",
       "      <td>6.418700</td>\n",
       "      <td>0.000182</td>\n",
       "    </tr>\n",
       "    <tr>\n",
       "      <th>2</th>\n",
       "      <td>vel_scaled</td>\n",
       "      <td>6.410088</td>\n",
       "      <td>1.115850</td>\n",
       "      <td>8.046388</td>\n",
       "      <td>5.744582</td>\n",
       "      <td>0.000423</td>\n",
       "    </tr>\n",
       "  </tbody>\n",
       "</table>\n",
       "</div>"
      ],
      "text/plain": [
       "    Unnamed: 0  Estimate  Std. Error        df   t value  Pr(>|t|)\n",
       "0  (Intercept) -0.195940    0.022434  8.411733 -8.734253  0.000017\n",
       "1        Value  0.632991    0.098617  8.225430  6.418700  0.000182\n",
       "2   vel_scaled  6.410088    1.115850  8.046388  5.744582  0.000423"
      ]
     },
     "execution_count": 15,
     "metadata": {},
     "output_type": "execute_result"
    }
   ],
   "source": [
    "valRegSum"
   ]
  },
  {
   "cell_type": "code",
   "execution_count": 16,
   "metadata": {},
   "outputs": [
    {
     "data": {
      "text/html": [
       "<div>\n",
       "<style scoped>\n",
       "    .dataframe tbody tr th:only-of-type {\n",
       "        vertical-align: middle;\n",
       "    }\n",
       "\n",
       "    .dataframe tbody tr th {\n",
       "        vertical-align: top;\n",
       "    }\n",
       "\n",
       "    .dataframe thead th {\n",
       "        text-align: right;\n",
       "    }\n",
       "</style>\n",
       "<table border=\"1\" class=\"dataframe\">\n",
       "  <thead>\n",
       "    <tr style=\"text-align: right;\">\n",
       "      <th></th>\n",
       "      <th>Value</th>\n",
       "      <th>vel_scaled</th>\n",
       "    </tr>\n",
       "  </thead>\n",
       "  <tbody>\n",
       "    <tr>\n",
       "      <th>0</th>\n",
       "      <td>0.740186</td>\n",
       "      <td>3.895717</td>\n",
       "    </tr>\n",
       "    <tr>\n",
       "      <th>1</th>\n",
       "      <td>0.563786</td>\n",
       "      <td>8.303748</td>\n",
       "    </tr>\n",
       "    <tr>\n",
       "      <th>2</th>\n",
       "      <td>0.624696</td>\n",
       "      <td>5.588554</td>\n",
       "    </tr>\n",
       "    <tr>\n",
       "      <th>3</th>\n",
       "      <td>0.772296</td>\n",
       "      <td>5.445895</td>\n",
       "    </tr>\n",
       "    <tr>\n",
       "      <th>4</th>\n",
       "      <td>0.360797</td>\n",
       "      <td>9.814714</td>\n",
       "    </tr>\n",
       "    <tr>\n",
       "      <th>5</th>\n",
       "      <td>0.301106</td>\n",
       "      <td>8.915033</td>\n",
       "    </tr>\n",
       "    <tr>\n",
       "      <th>6</th>\n",
       "      <td>0.414592</td>\n",
       "      <td>8.572166</td>\n",
       "    </tr>\n",
       "    <tr>\n",
       "      <th>7</th>\n",
       "      <td>1.202430</td>\n",
       "      <td>0.916787</td>\n",
       "    </tr>\n",
       "    <tr>\n",
       "      <th>8</th>\n",
       "      <td>0.717032</td>\n",
       "      <td>6.238182</td>\n",
       "    </tr>\n",
       "  </tbody>\n",
       "</table>\n",
       "</div>"
      ],
      "text/plain": [
       "      Value  vel_scaled\n",
       "0  0.740186    3.895717\n",
       "1  0.563786    8.303748\n",
       "2  0.624696    5.588554\n",
       "3  0.772296    5.445895\n",
       "4  0.360797    9.814714\n",
       "5  0.301106    8.915033\n",
       "6  0.414592    8.572166\n",
       "7  1.202430    0.916787\n",
       "8  0.717032    6.238182"
      ]
     },
     "execution_count": 16,
     "metadata": {},
     "output_type": "execute_result"
    }
   ],
   "source": [
    "valRegCoefs.loc[:,[\"Value\",\"vel_scaled\"]]"
   ]
  },
  {
   "cell_type": "code",
   "execution_count": 20,
   "metadata": {},
   "outputs": [
    {
     "name": "stdout",
     "output_type": "stream",
     "text": [
      "p-value =  0.998046875\n"
     ]
    }
   ],
   "source": [
    "fig = plt.figure(figsize=(3.7,4))\n",
    "xvals = [\"Value\",\"Velocity\"]\n",
    "#sns.boxplot(data=regCoefs.loc[:,[\"prev_rwd_taken\",\"prev_rwd_alt\"]],color='lightgrey')#,alpha=.5)\n",
    "plt.bar([0,1],valRegSum.loc[1:2,\"Estimate\"].values,alpha=0.5,color='grey')\n",
    "#sns.lineplot(data=valRegCoefs.loc[:,[\"Value\",\"vel_scaled\"]].T,color='k',alpha=.5,ls='-',lw=1,legend=False,marker='D')\n",
    "sns.stripplot(data=valRegCoefs.loc[:,[\"Value\",\"vel_scaled\"]],color='k',size=10,marker='D',alpha=1)\n",
    "#plt.axhline(y=0,ls='--',color='k')\n",
    "plt.xticks([0,1],xvals)\n",
    "plotRegSigLevel(valRegSum,0,.85,1)\n",
    "plotRegSigLevel(valRegSum,1,.85,2)\n",
    "sigPaired = get_sigRatsPaired_from2samples(valRegCoefs.loc[:,\"Value\"].values,valRegCoefs.loc[:,\"vel_scaled\"].values,\"greater\")\n",
    "#plot_sigMarkers(sigPaired,0.5,1.0)\n",
    "#plt.ylim(-10,2.2)\n",
    "plt.ylabel(\"DA Regression \"+r\"$\\beta $\",fontsize='xx-large')\n",
    "plt.tight_layout()\n",
    "fig.savefig(vrats.directory_prefix+\"coefBarPlotValVsVel.pdf\")"
   ]
  },
  {
   "cell_type": "code",
   "execution_count": 29,
   "metadata": {},
   "outputs": [],
   "source": [
    "fig = plt.figure(figsize=(3.7,6))\n",
    "xvals = [\"Value\"]\n",
    "#sns.boxplot(data=regCoefs.loc[:,[\"prev_rwd_taken\",\"prev_rwd_alt\"]],color='lightgrey')#,alpha=.5)\n",
    "plt.bar([0,1],valRegSum.loc[1,\"Estimate\"],alpha=0.5,color='grey')\n",
    "#sns.lineplot(data=valRegCoefs.loc[:,[\"Value\",\"vel_scaled\"]].T,color='k',alpha=.5,ls='-',lw=1,legend=False,marker='D')\n",
    "sns.stripplot(data=valRegCoefs.loc[:,[\"Value\"]],color='k',size=10,marker='D',alpha=1)\n",
    "#plt.axhline(y=0,ls='--',color='k')\n",
    "plt.xticks([0],xvals)\n",
    "plotRegSigLevel(valRegSum,0,.85,1)\n",
    "#plot_sigMarkers(sigPaired,0.5,1.0)\n",
    "plt.ylim(-1.5,1.5)\n",
    "plt.ylabel(\"DA Regression \"+r\"$\\beta $\",fontsize='xx-large')\n",
    "plt.axhline(y=0,ls='--',color='k',lw=2)\n",
    "plt.tight_layout()\n",
    "fig.savefig(vrats.directory_prefix+\"coefBarPlotVal.pdf\")"
   ]
  },
  {
   "cell_type": "markdown",
   "metadata": {},
   "source": [
    "- load and plot partial r2"
   ]
  },
  {
   "cell_type": "code",
   "execution_count": 18,
   "metadata": {},
   "outputs": [],
   "source": [
    "partialR2 = pd.read_csv(vrats.directory_prefix+\"valDaPartialR2s.csv\")"
   ]
  },
  {
   "cell_type": "code",
   "execution_count": 30,
   "metadata": {},
   "outputs": [],
   "source": [
    "fig = plt.figure(figsize=(4,6))\n",
    "#plt.bar([0,1],[4.67089,0.82169],color='darkgreen')\n",
    "plt.bar([0,1],partialR2.values[0,1:]*100,color='k')\n",
    "plt.xticks([0,1],[\"Value\",\"Velocity\"])\n",
    "plt.ylabel(\"Coefficient of partial determination (%)\")\n",
    "plt.tight_layout()\n",
    "fig.savefig(vrats.directory_prefix+\"partialR2ValVsVel.pdf\")"
   ]
  },
  {
   "cell_type": "markdown",
   "metadata": {},
   "source": [
    "### inidividual trial visualizations"
   ]
  },
  {
   "cell_type": "code",
   "execution_count": 10,
   "metadata": {},
   "outputs": [],
   "source": [
    "vrats.get_distanceToPort(getDistsFromDeadEnds=False)"
   ]
  },
  {
   "cell_type": "code",
   "execution_count": 11,
   "metadata": {},
   "outputs": [],
   "source": [
    "norm = mpl.colors.Normalize(vmin=-1, vmax=2.5)\n",
    "#norm = mpl.colors.Normalize(vmin=-1, vmax=4)\n",
    "DAmap = cm.ScalarMappable(norm=norm,cmap=\"viridis\")"
   ]
  },
  {
   "cell_type": "code",
   "execution_count": 71,
   "metadata": {},
   "outputs": [],
   "source": [
    "fig = plt.figure(figsize=(8,3.3))"
   ]
  },
  {
   "cell_type": "code",
   "execution_count": 43,
   "metadata": {},
   "outputs": [],
   "source": [
    "import ipywidgets as widgets\n",
    "from ipywidgets import interact, interactive, fixed, interact_manual"
   ]
  },
  {
   "cell_type": "code",
   "execution_count": 57,
   "metadata": {},
   "outputs": [
    {
     "data": {
      "text/plain": [
       "Index(['Unnamed: 0', 'hexlabel', 'port', 'rwd', 'session', 'DA', 'block',\n",
       "       'trial', 'rat', 'date', 'session_type', 'nom_rwd_chosen', 'vel', 'Q_a',\n",
       "       'Q_b', 'Q_c', 'lenAB', 'lenBC', 'lenAC', 'nom_rwd_a', 'nom_rwd_b',\n",
       "       'nom_rwd_c', 'dtop', 'pairedHexState', 'tri'],\n",
       "      dtype='object')"
      ]
     },
     "execution_count": 57,
     "metadata": {},
     "output_type": "execute_result"
    }
   ],
   "source": [
    "vrats.df.columns"
   ]
  },
  {
   "cell_type": "code",
   "execution_count": 62,
   "metadata": {},
   "outputs": [
    {
     "data": {
      "text/html": [
       "<div>\n",
       "<style scoped>\n",
       "    .dataframe tbody tr th:only-of-type {\n",
       "        vertical-align: middle;\n",
       "    }\n",
       "\n",
       "    .dataframe tbody tr th {\n",
       "        vertical-align: top;\n",
       "    }\n",
       "\n",
       "    .dataframe thead th {\n",
       "        text-align: right;\n",
       "    }\n",
       "</style>\n",
       "<table border=\"1\" class=\"dataframe\">\n",
       "  <thead>\n",
       "    <tr style=\"text-align: right;\">\n",
       "      <th></th>\n",
       "      <th>0</th>\n",
       "      <th>1</th>\n",
       "      <th>state</th>\n",
       "      <th>statecodes</th>\n",
       "      <th>leftcodes</th>\n",
       "      <th>rightcodes</th>\n",
       "      <th>from_state</th>\n",
       "      <th>to_state</th>\n",
       "    </tr>\n",
       "  </thead>\n",
       "  <tbody>\n",
       "    <tr>\n",
       "      <th>49.38</th>\n",
       "      <td>NaN</td>\n",
       "      <td>38.32</td>\n",
       "      <td>49.38</td>\n",
       "      <td>124</td>\n",
       "      <td>NaN</td>\n",
       "      <td>96.0</td>\n",
       "      <td>49</td>\n",
       "      <td>38</td>\n",
       "    </tr>\n",
       "  </tbody>\n",
       "</table>\n",
       "</div>"
      ],
      "text/plain": [
       "        0      1  state  statecodes  leftcodes  rightcodes  from_state  \\\n",
       "49.38 NaN  38.32  49.38         124        NaN        96.0          49   \n",
       "\n",
       "       to_state  \n",
       "49.38        38  "
      ]
     },
     "execution_count": 62,
     "metadata": {},
     "output_type": "execute_result"
    }
   ],
   "source": [
    "phexdf.loc[phexdf.statecodes==124]"
   ]
  },
  {
   "cell_type": "code",
   "execution_count": 86,
   "metadata": {},
   "outputs": [
    {
     "data": {
      "text/html": [
       "<div>\n",
       "<style scoped>\n",
       "    .dataframe tbody tr th:only-of-type {\n",
       "        vertical-align: middle;\n",
       "    }\n",
       "\n",
       "    .dataframe tbody tr th {\n",
       "        vertical-align: top;\n",
       "    }\n",
       "\n",
       "    .dataframe thead th {\n",
       "        text-align: right;\n",
       "    }\n",
       "</style>\n",
       "<table border=\"1\" class=\"dataframe\">\n",
       "  <thead>\n",
       "    <tr style=\"text-align: right;\">\n",
       "      <th></th>\n",
       "      <th>pairedHexState</th>\n",
       "      <th>hexlabel</th>\n",
       "      <th>port</th>\n",
       "      <th>vel</th>\n",
       "      <th>tri</th>\n",
       "    </tr>\n",
       "  </thead>\n",
       "  <tbody>\n",
       "    <tr>\n",
       "      <th>192600</th>\n",
       "      <td>-1</td>\n",
       "      <td>49</td>\n",
       "      <td>-100</td>\n",
       "      <td>8.289062</td>\n",
       "      <td>46</td>\n",
       "    </tr>\n",
       "    <tr>\n",
       "      <th>192601</th>\n",
       "      <td>123</td>\n",
       "      <td>2</td>\n",
       "      <td>-100</td>\n",
       "      <td>17.312500</td>\n",
       "      <td>46</td>\n",
       "    </tr>\n",
       "    <tr>\n",
       "      <th>192602</th>\n",
       "      <td>1</td>\n",
       "      <td>49</td>\n",
       "      <td>-100</td>\n",
       "      <td>14.578125</td>\n",
       "      <td>46</td>\n",
       "    </tr>\n",
       "    <tr>\n",
       "      <th>192603</th>\n",
       "      <td>124</td>\n",
       "      <td>38</td>\n",
       "      <td>-100</td>\n",
       "      <td>26.906250</td>\n",
       "      <td>46</td>\n",
       "    </tr>\n",
       "    <tr>\n",
       "      <th>192604</th>\n",
       "      <td>96</td>\n",
       "      <td>32</td>\n",
       "      <td>-100</td>\n",
       "      <td>21.859375</td>\n",
       "      <td>46</td>\n",
       "    </tr>\n",
       "    <tr>\n",
       "      <th>192605</th>\n",
       "      <td>79</td>\n",
       "      <td>27</td>\n",
       "      <td>-100</td>\n",
       "      <td>33.375000</td>\n",
       "      <td>46</td>\n",
       "    </tr>\n",
       "    <tr>\n",
       "      <th>192606</th>\n",
       "      <td>65</td>\n",
       "      <td>22</td>\n",
       "      <td>-100</td>\n",
       "      <td>15.429688</td>\n",
       "      <td>46</td>\n",
       "    </tr>\n",
       "    <tr>\n",
       "      <th>192607</th>\n",
       "      <td>52</td>\n",
       "      <td>26</td>\n",
       "      <td>-100</td>\n",
       "      <td>34.656250</td>\n",
       "      <td>46</td>\n",
       "    </tr>\n",
       "    <tr>\n",
       "      <th>192608</th>\n",
       "      <td>62</td>\n",
       "      <td>21</td>\n",
       "      <td>-100</td>\n",
       "      <td>20.578125</td>\n",
       "      <td>46</td>\n",
       "    </tr>\n",
       "    <tr>\n",
       "      <th>192609</th>\n",
       "      <td>49</td>\n",
       "      <td>25</td>\n",
       "      <td>-100</td>\n",
       "      <td>26.484375</td>\n",
       "      <td>46</td>\n",
       "    </tr>\n",
       "    <tr>\n",
       "      <th>192610</th>\n",
       "      <td>59</td>\n",
       "      <td>20</td>\n",
       "      <td>-100</td>\n",
       "      <td>12.851562</td>\n",
       "      <td>46</td>\n",
       "    </tr>\n",
       "    <tr>\n",
       "      <th>192611</th>\n",
       "      <td>46</td>\n",
       "      <td>24</td>\n",
       "      <td>-100</td>\n",
       "      <td>6.750000</td>\n",
       "      <td>46</td>\n",
       "    </tr>\n",
       "    <tr>\n",
       "      <th>192612</th>\n",
       "      <td>56</td>\n",
       "      <td>19</td>\n",
       "      <td>-100</td>\n",
       "      <td>25.875000</td>\n",
       "      <td>46</td>\n",
       "    </tr>\n",
       "    <tr>\n",
       "      <th>192613</th>\n",
       "      <td>42</td>\n",
       "      <td>15</td>\n",
       "      <td>-100</td>\n",
       "      <td>19.296875</td>\n",
       "      <td>46</td>\n",
       "    </tr>\n",
       "    <tr>\n",
       "      <th>192614</th>\n",
       "      <td>32</td>\n",
       "      <td>12</td>\n",
       "      <td>-100</td>\n",
       "      <td>42.937500</td>\n",
       "      <td>46</td>\n",
       "    </tr>\n",
       "    <tr>\n",
       "      <th>192615</th>\n",
       "      <td>23</td>\n",
       "      <td>9</td>\n",
       "      <td>-100</td>\n",
       "      <td>48.812500</td>\n",
       "      <td>46</td>\n",
       "    </tr>\n",
       "    <tr>\n",
       "      <th>192616</th>\n",
       "      <td>16</td>\n",
       "      <td>7</td>\n",
       "      <td>-100</td>\n",
       "      <td>43.812500</td>\n",
       "      <td>46</td>\n",
       "    </tr>\n",
       "    <tr>\n",
       "      <th>192617</th>\n",
       "      <td>10</td>\n",
       "      <td>5</td>\n",
       "      <td>-100</td>\n",
       "      <td>42.718750</td>\n",
       "      <td>46</td>\n",
       "    </tr>\n",
       "    <tr>\n",
       "      <th>192618</th>\n",
       "      <td>6</td>\n",
       "      <td>4</td>\n",
       "      <td>-100</td>\n",
       "      <td>30.500000</td>\n",
       "      <td>46</td>\n",
       "    </tr>\n",
       "    <tr>\n",
       "      <th>192619</th>\n",
       "      <td>-1</td>\n",
       "      <td>2</td>\n",
       "      <td>1</td>\n",
       "      <td>3.791016</td>\n",
       "      <td>46</td>\n",
       "    </tr>\n",
       "  </tbody>\n",
       "</table>\n",
       "</div>"
      ],
      "text/plain": [
       "        pairedHexState  hexlabel  port        vel  tri\n",
       "192600              -1        49  -100   8.289062   46\n",
       "192601             123         2  -100  17.312500   46\n",
       "192602               1        49  -100  14.578125   46\n",
       "192603             124        38  -100  26.906250   46\n",
       "192604              96        32  -100  21.859375   46\n",
       "192605              79        27  -100  33.375000   46\n",
       "192606              65        22  -100  15.429688   46\n",
       "192607              52        26  -100  34.656250   46\n",
       "192608              62        21  -100  20.578125   46\n",
       "192609              49        25  -100  26.484375   46\n",
       "192610              59        20  -100  12.851562   46\n",
       "192611              46        24  -100   6.750000   46\n",
       "192612              56        19  -100  25.875000   46\n",
       "192613              42        15  -100  19.296875   46\n",
       "192614              32        12  -100  42.937500   46\n",
       "192615              23         9  -100  48.812500   46\n",
       "192616              16         7  -100  43.812500   46\n",
       "192617              10         5  -100  42.718750   46\n",
       "192618               6         4  -100  30.500000   46\n",
       "192619              -1         2     1   3.791016   46"
      ]
     },
     "execution_count": 86,
     "metadata": {},
     "output_type": "execute_result"
    }
   ],
   "source": [
    "vrats.df.loc[(vrats.df.session==62)&(vrats.df.trial==46),[\"pairedHexState\",\"hexlabel\",\"port\",\"vel\",\"tri\"]]"
   ]
  },
  {
   "cell_type": "code",
   "execution_count": 70,
   "metadata": {},
   "outputs": [],
   "source": [
    "def plot_pairedStateValsVsDA(s,b,t,onlyPointing2port=False):\n",
    "    portz = ['A','B','C']\n",
    "    plt.clf()\n",
    "    trial = vrats.valDaDf.loc[(vrats.valDaDf.session==s)&(vrats.valDaDf.block==b)\\\n",
    "                              &(vrats.valDaDf.tri==t),\"trial\"].values[0]\n",
    "    nextp = vrats.df.loc[(vrats.df.session==s)&(vrats.df.block==b)&\\\n",
    "                    (vrats.df.tri==t)&(vrats.df.port!=-100),\"port\"].values[0]\n",
    "    fromp = vrats.df.loc[(vrats.df.session==s)&(vrats.df.block==b)&\\\n",
    "                                (vrats.df.tri==t-1),\"port\"].values[0]\n",
    "    toPort = portz[nextp]\n",
    "    if onlyPointing2port:\n",
    "        if len(vrats.sesh_arrows2goal['to'+toPort][s])==126:\n",
    "            arrows2include = np.where(vrats.sesh_arrows2goal['to'+toPort][s])[0]\n",
    "        else:\n",
    "            arrows2include = np.where(vrats.sesh_arrows2goal['to'+toPort][s][b-1])[0]\n",
    "    else:\n",
    "        arrows2include = np.arange(126)\n",
    "    meanHexDa = vrats.valDaDf.loc[(vrats.valDaDf.session==s)&\\\n",
    "                 (vrats.valDaDf.block==b)&(vrats.valDaDf.tri==t)&\\\n",
    "                  (vrats.valDaDf.pairedHexState.isin(arrows2include)),:].groupby(\\\n",
    "                    \"pairedHexState\").DA.mean()\n",
    "    \n",
    "    statevals = vrats.valDaDf.loc[(vrats.valDaDf.session==s)&\\\n",
    "                 (vrats.valDaDf.block==b)&(vrats.valDaDf.tri==t)&\\\n",
    "                  (vrats.valDaDf.pairedHexState.isin(arrows2include)),:].groupby(\\\n",
    "                    \"pairedHexState\").Value.mean()\n",
    "    \n",
    "    statelist = meanHexDa.index.values\n",
    "    stateDa = meanHexDa.values\n",
    "    plt.subplot(121)\n",
    "    plt.title(\"value map\")\n",
    "    plot_hex_outline(vrats,sesh=s,block=b,ax=plt.gca(),size='sm')\n",
    "    plot_arrowMapFromStates(statelist,statevals.values)\n",
    "    plt.axis(\"off\")\n",
    "    \n",
    "    plt.subplot(122)\n",
    "    plt.title(\"DA\")\n",
    "    plot_hex_outline(vrats,sesh=s,block=b,ax=plt.gca(),size='sm')\n",
    "    plot_arrowMapFromStates(statelist,stateDa,plotDA=True)\n",
    "    print(\"v(chosen) = \",vrats.df.loc[(vrats.df.session==s)&\\\n",
    "                                (vrats.df.tri==t)&(vrats.df.block==b)&\\\n",
    "                                (vrats.df.port!=-100),\"nom_rwd_chosen\"].values[0])\n",
    "    plt.axis(\"off\")"
   ]
  },
  {
   "cell_type": "code",
   "execution_count": 72,
   "metadata": {},
   "outputs": [
    {
     "data": {
      "application/vnd.jupyter.widget-view+json": {
       "model_id": "0bfa27ab47714543bee55051225e4c11",
       "version_major": 2,
       "version_minor": 0
      },
      "text/plain": [
       "interactive(children=(IntSlider(value=0, description='session:', max=105), IntSlider(value=1, description='blo…"
      ]
     },
     "metadata": {},
     "output_type": "display_data"
    },
    {
     "data": {
      "text/plain": [
       "<function __main__.plot_pairedStateValsVsDA(s, b, t, onlyPointing2port=False)>"
      ]
     },
     "execution_count": 72,
     "metadata": {},
     "output_type": "execute_result"
    }
   ],
   "source": [
    "interact(plot_pairedStateValsVsDA,s=widgets.IntSlider(\n",
    "    value=0,\n",
    "    min=0,\n",
    "    max=vrats.df.session.max(),\n",
    "    step=1,\n",
    "    description='session:'),b = widgets.IntSlider(\n",
    "    value=1,\n",
    "    min=1,\n",
    "    max=8,\n",
    "    step=1,\n",
    "    description='block:'), t = widgets.IntSlider(\n",
    "    value=2,\n",
    "    min=1,\n",
    "    max=70,\n",
    "    step=1,\n",
    "    description='trial:'))"
   ]
  },
  {
   "cell_type": "code",
   "execution_count": 51,
   "metadata": {},
   "outputs": [],
   "source": [
    "fig.savefig(vrats.directory_prefix+\"s\"+str(9)+\"_b\"+str(2)+\"_t\"+str(25)+\".pdf\")"
   ]
  },
  {
   "cell_type": "code",
   "execution_count": 42,
   "metadata": {},
   "outputs": [
    {
     "name": "stdout",
     "output_type": "stream",
     "text": [
      "v(chosen) =  10.0\n"
     ]
    }
   ],
   "source": [
    "s = 96#95#73#0\n",
    "b = 1#1#3\n",
    "t = 24#27#21#42\n",
    "\n",
    "plot_pairedStateValsVsDA(s,b,t)\n",
    "plt.subplots_adjust(hspace=0.000)"
   ]
  },
  {
   "cell_type": "markdown",
   "metadata": {},
   "source": [
    "- run the following if you want to save this plot"
   ]
  },
  {
   "cell_type": "code",
   "execution_count": 49,
   "metadata": {},
   "outputs": [],
   "source": [
    "fig.savefig(vrats.directory_prefix+\"s\"+str(s)+\"_b\"+str(b)+\"_t\"+str(t)+\".pdf\")"
   ]
  },
  {
   "cell_type": "markdown",
   "metadata": {},
   "source": [
    "- plot example value map with specified gamma and session"
   ]
  },
  {
   "cell_type": "code",
   "execution_count": 20,
   "metadata": {},
   "outputs": [
    {
     "data": {
      "text/plain": [
       "array([0.000967, 0.      , 0.      , 0.      , 0.      , 0.      ,\n",
       "       0.      , 0.      , 0.      , 0.      , 0.      , 0.      ,\n",
       "       0.000967, 0.      , 0.      , 0.      , 0.001075, 0.      ,\n",
       "       0.      , 0.      , 0.      , 0.      , 0.      , 0.      ,\n",
       "       0.      , 0.001327, 0.      , 0.      , 0.      , 0.001194,\n",
       "       0.      , 0.001327, 0.001327, 0.      , 0.001194, 0.001473,\n",
       "       0.001194, 0.      , 0.001075], dtype=float16)"
      ]
     },
     "execution_count": 20,
     "metadata": {},
     "output_type": "execute_result"
    }
   ],
   "source": [
    "statevals"
   ]
  },
  {
   "cell_type": "code",
   "execution_count": 47,
   "metadata": {},
   "outputs": [],
   "source": [
    "norm = mpl.colors.Normalize(vmin=-1, vmax=2)\n",
    "DAmap = cm.ScalarMappable(norm=norm,cmap=\"viridis\")\n"
   ]
  },
  {
   "cell_type": "code",
   "execution_count": 48,
   "metadata": {},
   "outputs": [
    {
     "data": {
      "text/plain": [
       "(-1.0, 15.0, -1.0, 22.0)"
      ]
     },
     "execution_count": 48,
     "metadata": {},
     "output_type": "execute_result"
    }
   ],
   "source": [
    "s = 95\n",
    "t = 42\n",
    "gamma = 0.72\n",
    "tmin = 20\n",
    "vrats.tmat = vrats.sesh_tmats[s]\n",
    "vrats.bars = vrats.sesh_barIDs[s]\n",
    "data4vIter = vrats.df.loc[(vrats.df.session==95)&\n",
    "            (vrats.df.trial.isin(np.arange(tmin,45)))&(vrats.df.port!=-100),]\n",
    "V = vrats.calcValIter(data4vIter,gamma)\n",
    "portz = [\"A\",\"B\",\"C\"]\n",
    "nextp = data4vIter.loc[data4vIter.trial==t,\"port\"].values[0]\n",
    "toPort = portz[nextp]\n",
    "arrows2include = np.where(vrats.sesh_arrows2goal['to'+toPort][s])[0]\n",
    "statelist = np.setdiff1d(phexdf.statecodes.unique(),phexdf.loc[(np.isin(phexdf.from_state,vrats.bars+1))|\n",
    "        (np.isin(phexdf.to_state,vrats.bars+1)),'statecodes'].values)\n",
    "statelist = statelist[np.isin(statelist,arrows2include)]\n",
    "statevals = V[t-tmin][statelist]\n",
    "fig = plt.figure(figsize=(4,3.5))\n",
    "plt.title(\"value map\")\n",
    "plot_hex_outline(vrats,sesh=s,block=1,ax=plt.gca(),size='sm')\n",
    "plot_arrowMapFromStates(statelist,statevals)\n",
    "plt.axis(\"off\")"
   ]
  },
  {
   "cell_type": "code",
   "execution_count": 46,
   "metadata": {},
   "outputs": [],
   "source": [
    "fig.savefig(vrats.directory_prefix+\"example_ValueMap_s95b1t\"+str(t)+\"lessDiscount.pdf\")"
   ]
  },
  {
   "cell_type": "code",
   "execution_count": null,
   "metadata": {},
   "outputs": [],
   "source": []
  }
 ],
 "metadata": {
  "kernelspec": {
   "display_name": "Python 3",
   "language": "python",
   "name": "python3"
  },
  "language_info": {
   "codemirror_mode": {
    "name": "ipython",
    "version": 3
   },
   "file_extension": ".py",
   "mimetype": "text/x-python",
   "name": "python",
   "nbconvert_exporter": "python",
   "pygments_lexer": "ipython3",
   "version": "3.8.8"
  }
 },
 "nbformat": 4,
 "nbformat_minor": 4
}
