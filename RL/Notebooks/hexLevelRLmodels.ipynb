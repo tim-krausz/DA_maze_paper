{
 "cells": [
  {
   "cell_type": "code",
   "execution_count": 1,
   "id": "512f45d1",
   "metadata": {
    "tags": []
   },
   "outputs": [],
   "source": [
    "using CSV\n",
    "using CategoricalArrays\n",
    "using DataFrames\n",
    "using HypothesisTests\n",
    "using LinearAlgebra\n",
    "using LogExpFunctions\n",
    "using MixedModels\n",
    "using SpecialFunctions\n",
    "using Statistics"
   ]
  },
  {
   "cell_type": "code",
   "execution_count": 2,
   "id": "779bc441",
   "metadata": {
    "tags": []
   },
   "outputs": [],
   "source": [
    "# load the EM library\n",
    "\n",
    "full = false    # Maintain full covariance matrix (vs a diagional one) at the group level\n",
    "emtol = 1e-2    # stopping condition (relative change) for EM\n",
    "\n",
    "directory = \"/Volumes/Tim-1/Ephys Data/\"\n",
    "\n",
    "push!(LOAD_PATH,directory)\n",
    "using EM"
   ]
  },
  {
   "cell_type": "code",
   "execution_count": 3,
   "id": "3c4a7bda",
   "metadata": {},
   "outputs": [],
   "source": [
    "# load the data\n",
    "\n",
    "data = CSV.read(\"/Volumes/Tim/Photometry/10MfRatDataSet/hexLevelDf_cornerHexCorrectAlignment.csv\", DataFrame);\n",
    "# get rid of frames with no location\n",
    "data = data[data.pairedHexState .>= 0,:];\n",
    "# get rid of sessions with no ramp\n",
    "data = data[data.rat .!= \"IM-1292\",:];\n",
    "data = data[data.session .!= 90,:];\n",
    "data = data[data.session .!= 92,:];\n",
    "data = data[data.session .!= 94,:];\n",
    "\n",
    "data.session = CategoricalArray(data.session);\n",
    "#data.pairedHexState = CategoricalArray(data.pairedHexState);\n"
   ]
  },
  {
   "cell_type": "code",
   "execution_count": 4,
   "id": "5ba6d85a",
   "metadata": {},
   "outputs": [
    {
     "data": {
      "text/plain": [
       "phi (generic function with 1 method)"
      ]
     },
     "execution_count": 4,
     "metadata": {},
     "output_type": "execute_result"
    }
   ],
   "source": [
    "function phi(x)\n",
    "    return 0.5 + 0.5 * erf(x / sqrt(2))\n",
    "end"
   ]
  },
  {
   "cell_type": "code",
   "execution_count": 5,
   "id": "c03bacc2",
   "metadata": {},
   "outputs": [
    {
     "data": {
      "text/plain": [
       "tdlambdalik (generic function with 1 method)"
      ]
     },
     "execution_count": 5,
     "metadata": {},
     "output_type": "execute_result"
    }
   ],
   "source": [
    "# these are reduced version of our favorite model\n",
    "etliksepNoMF = (x,d) -> etliksep([x[1:2]; -1e99; -1e99; x[3:end]],d)\n",
    "etliksepNoMB = (x,d) -> etliksep([1e99; x[1:end]],d)\n",
    "etliksepNoTD1MB = (x,d) -> etliksep([1e99; -1e99; x[1:2]; -1e99; x[3:end]],d)\n",
    "\n",
    "# this is our favorite model\n",
    "function etliksep(params,data)\n",
    "    lrT = phi(params[1])\n",
    "    lrV = phi(params[2])\n",
    "    lr0 = phi(params[3])\n",
    "    gamma =  phi(params[4])\n",
    "    lambda = phi(params[5])\n",
    "    bint = params[6]\n",
    "    bV = params[7]\n",
    "    sig2 = exp(params[8])\n",
    "    \n",
    "    paramType = typeof(params[1])\n",
    "    \n",
    "    hexStates::Array{Int64,1} = data.pairedHexState .+ 1\n",
    "    rwd::Array{Int64,1} = data.rwd\n",
    "    da::Array{Float64,1} = data.DA\n",
    "    atport::Array{Int64,1} = data.port\n",
    "    \n",
    "    V = zeros(paramType,126) .+ 0.2\n",
    "    Tl = zeros(paramType,3,126)\n",
    "    \n",
    "    el = zeros(paramType,126)    \n",
    "    \n",
    "    lik = 0.\n",
    "    \n",
    "    for i = 1:length(hexStates)-1\n",
    "        s = hexStates[i]\n",
    "        snext = hexStates[i+1]\n",
    "\n",
    "\n",
    "        if (atport[i] == -100)\n",
    "            # Not at port\n",
    "            # Gaussian log likelihood\n",
    "            lik += -1/2 * log(2 * pi * sig2) - 1/(2*sig2) * (da[i] - (bint + bV * V[s]))^2\n",
    "\n",
    "            V[s] += lr0 * (rwd[i] + gamma * V[snext] - V[s])\n",
    "            el .*= lambda\n",
    "            el[s] = 1\n",
    "\n",
    "        else\n",
    "            # At port\n",
    "            #el .*= lambda\n",
    "            #el[s] = 1\n",
    "\n",
    "            # update paths in\n",
    "            Tl[atport[i] + 1,:] = (1-lrT) * Tl[atport[i] + 1,:] + lrT * el\n",
    "\n",
    "            # Truncated TD0 update\n",
    "            V[s] += lr0 * (rwd[i] - V[s])\n",
    "\n",
    "            # TD1 / MB update\n",
    "            V += lrV .* Tl[atport[i] + 1,:] .* (rwd[i] .- V)\n",
    "            \n",
    "            # reset eligibility traces\n",
    "            el = zeros(paramType,126)\n",
    "        end\n",
    " \n",
    "    end\n",
    "    \n",
    "    return -lik\n",
    "end\n",
    "\n",
    "# TD lambda\n",
    "function tdlambdalik(params,data)\n",
    "    lr = phi(params[1])\n",
    "    gamma =  phi(params[2])\n",
    "    lambda = phi(params[3])\n",
    "    bint = params[4]\n",
    "    bV = params[5]\n",
    "    sig2 = exp(params[6])\n",
    "   \n",
    "    paramType = typeof(params[1])\n",
    "   \n",
    "    hexStates::Array{Int64,1} = data.pairedHexState .+ 1\n",
    "    rwd::Array{Int64,1} = data.rwd\n",
    "    da::Array{Float64,1} = data.DA\n",
    "    atport::Array{Int64,1} = data.port\n",
    "   \n",
    "    V = zeros(paramType,126) .+ 0.2\n",
    "   \n",
    "    e = zeros(paramType,126)\n",
    "   \n",
    "    lik = 0.\n",
    "   \n",
    "    for i = 1:length(hexStates)-1\n",
    "        s = hexStates[i]\n",
    "        snext = hexStates[i+1]\n",
    "\n",
    "        if (atport[i] == -100)\n",
    "            # Not at port\n",
    "            # Gaussian log likelihood\n",
    "            lik += -1/2 * log(2 * pi * sig2) - 1/(2*sig2) * (da[i] - (bint + bV * V[s]))^2\n",
    "            \n",
    "            e .*= lambda * gamma\n",
    "            e[s] = 1\n",
    "\n",
    "            V += lr .* e .* (rwd[i] + gamma * V[snext] - V[s])\n",
    "\n",
    "        else\n",
    "            # At port\n",
    "            #e .*= lambda * gamma\n",
    "            #e[s] = 1\n",
    "           \n",
    "            # Truncated TD update\n",
    "            V += lr .* e .* (rwd[i] - V[s])\n",
    "\n",
    "            # reset eligibility traces\n",
    "            e = zeros(paramType,126)\n",
    "        end\n",
    " \n",
    "    end\n",
    "   \n",
    "    return -lik\n",
    "end"
   ]
  },
  {
   "cell_type": "code",
   "execution_count": 6,
   "id": "69247acd",
   "metadata": {},
   "outputs": [],
   "source": [
    "data.sub = data.session\n",
    "\n",
    "subs = levels(data.session)\n",
    "NS = length(subs)\n",
    "\n",
    "X = ones(NS);"
   ]
  },
  {
   "cell_type": "code",
   "execution_count": null,
   "id": "ba5a8176",
   "metadata": {},
   "outputs": [
    {
     "name": "stdout",
     "output_type": "stream",
     "text": [
      "\n",
      "iter: 7\n",
      "betas: [-0.48 1.18 1.59 -0.12 0.84 -0.76]\n",
      "sigma: [0.24, 0.2, 0.33, 0.02, 0.23, 0.18]\n",
      "free energy: -242133.295137\n",
      "change: [-0.001842, 0.000134, 0.00134, -0.000129, 2.3e-5, -4.0e-6, 0.001335, 0.004612, 0.006658, 0.000212, 0.000445, 5.0e-6]\n",
      "max: 0.006658\n"
     ]
    }
   ],
   "source": [
    "# fit TD lambda \n",
    "\n",
    "startbetas = [0 0 0 0 0 0.]\n",
    "startsigma = [1, 1, 1, 1, 1, 1]\n",
    "\n",
    "(betastdl,sigmatdl,xtdl,ltdl,htdl) = em(data,subs,X,startbetas,startsigma,tdlambdalik; emtol=emtol, full=full,maxiter=1000);"
   ]
  },
  {
   "cell_type": "code",
   "execution_count": null,
   "id": "337388a2-9b2d-450c-b69c-6756cc075c67",
   "metadata": {},
   "outputs": [],
   "source": [
    "# x should have subject-level parameters"
   ]
  },
  {
   "cell_type": "code",
   "execution_count": 9,
   "id": "70036651-3e8d-4c0d-884a-5afeff4fc942",
   "metadata": {},
   "outputs": [
    {
     "data": {
      "text/plain": [
       "1×6 adjoint(::Vector{Float64}) with eltype Float64:\n",
       " -0.484016  1.17699  1.58907  -0.123824  0.842665  -0.763422"
      ]
     },
     "execution_count": 9,
     "metadata": {},
     "output_type": "execute_result"
    }
   ],
   "source": [
    "betastdl"
   ]
  },
  {
   "cell_type": "code",
   "execution_count": 21,
   "id": "202585bb-68de-42f5-bb32-bd994ae76751",
   "metadata": {},
   "outputs": [],
   "source": [
    "using CSV"
   ]
  },
  {
   "cell_type": "code",
   "execution_count": 24,
   "id": "5129b1fc-ad2c-4705-ba17-36360f78dc1c",
   "metadata": {},
   "outputs": [
    {
     "data": {
      "text/plain": [
       "70-element Vector{Float64}:\n",
       " 0.9689179493479061\n",
       " 0.9925631314063585\n",
       " 0.9263554547553853\n",
       " 0.9172896217749235\n",
       " 0.9387464347147162\n",
       " 0.9323326607102616\n",
       " 0.9549280492980134\n",
       " 0.953739250351694\n",
       " 0.9592432845691254\n",
       " 0.9871611636664033\n",
       " 0.9488295359570362\n",
       " 0.9809666372797796\n",
       " 0.9779938132588593\n",
       " ⋮\n",
       " 0.9721604782130102\n",
       " 0.946777354579918\n",
       " 0.9070495832781289\n",
       " 0.9380125222191908\n",
       " 0.9358491937262206\n",
       " 0.9833487870860862\n",
       " 0.9666078396688357\n",
       " 0.918543296987325\n",
       " 0.9604625643485172\n",
       " 0.9031778237314549\n",
       " 0.9590516696121829\n",
       " 0.9750130664965286"
      ]
     },
     "execution_count": 24,
     "metadata": {},
     "output_type": "execute_result"
    }
   ],
   "source": [
    "sesh_lambdas = 0.5 .+ 0.5 .* erf.(xtdl[:,3] ./ sqrt(2))"
   ]
  },
  {
   "cell_type": "code",
   "execution_count": 25,
   "id": "ea47d9d1-2181-4789-ab80-3ba9065f5394",
   "metadata": {},
   "outputs": [
    {
     "data": {
      "text/html": [
       "<div class=\"data-frame\"><p>70 rows × 3 columns</p><table class=\"data-frame\"><thead><tr><th></th><th>rat</th><th>lambda</th><th>session</th></tr><tr><th></th><th title=\"String7\">String7</th><th title=\"Float64\">Float64</th><th title=\"Int64\">Int64</th></tr></thead><tbody><tr><th>1</th><td>IM-1272</td><td>0.968918</td><td>0</td></tr><tr><th>2</th><td>IM-1272</td><td>0.992563</td><td>1</td></tr><tr><th>3</th><td>IM-1272</td><td>0.926355</td><td>2</td></tr><tr><th>4</th><td>IM-1272</td><td>0.91729</td><td>3</td></tr><tr><th>5</th><td>IM-1272</td><td>0.938746</td><td>4</td></tr><tr><th>6</th><td>IM-1272</td><td>0.932333</td><td>5</td></tr><tr><th>7</th><td>IM-1272</td><td>0.954928</td><td>6</td></tr><tr><th>8</th><td>IM-1272</td><td>0.953739</td><td>7</td></tr><tr><th>9</th><td>IM-1273</td><td>0.959243</td><td>9</td></tr><tr><th>10</th><td>IM-1273</td><td>0.987161</td><td>11</td></tr><tr><th>11</th><td>IM-1273</td><td>0.94883</td><td>12</td></tr><tr><th>12</th><td>IM-1273</td><td>0.980967</td><td>15</td></tr><tr><th>13</th><td>IM-1273</td><td>0.977994</td><td>17</td></tr><tr><th>14</th><td>IM-1276</td><td>0.944652</td><td>20</td></tr><tr><th>15</th><td>IM-1276</td><td>0.935786</td><td>21</td></tr><tr><th>16</th><td>IM-1276</td><td>0.973261</td><td>22</td></tr><tr><th>17</th><td>IM-1276</td><td>0.985389</td><td>23</td></tr><tr><th>18</th><td>IM-1276</td><td>0.76249</td><td>24</td></tr><tr><th>19</th><td>IM-1276</td><td>0.878817</td><td>25</td></tr><tr><th>20</th><td>IM-1276</td><td>0.721898</td><td>26</td></tr><tr><th>21</th><td>IM-1276</td><td>0.860645</td><td>27</td></tr><tr><th>22</th><td>IM-1276</td><td>0.947254</td><td>28</td></tr><tr><th>23</th><td>IM-1276</td><td>0.948737</td><td>29</td></tr><tr><th>24</th><td>IM-1276</td><td>0.927923</td><td>30</td></tr><tr><th>25</th><td>IM-1291</td><td>0.97087</td><td>32</td></tr><tr><th>26</th><td>IM-1291</td><td>0.969584</td><td>35</td></tr><tr><th>27</th><td>IM-1291</td><td>0.958566</td><td>36</td></tr><tr><th>28</th><td>IM-1291</td><td>0.896369</td><td>37</td></tr><tr><th>29</th><td>IM-1291</td><td>0.897589</td><td>38</td></tr><tr><th>30</th><td>IM-1291</td><td>0.415869</td><td>39</td></tr><tr><th>&vellip;</th><td>&vellip;</td><td>&vellip;</td><td>&vellip;</td></tr></tbody></table></div>"
      ],
      "text/latex": [
       "\\begin{tabular}{r|ccc}\n",
       "\t& rat & lambda & session\\\\\n",
       "\t\\hline\n",
       "\t& String7 & Float64 & Int64\\\\\n",
       "\t\\hline\n",
       "\t1 & IM-1272 & 0.968918 & 0 \\\\\n",
       "\t2 & IM-1272 & 0.992563 & 1 \\\\\n",
       "\t3 & IM-1272 & 0.926355 & 2 \\\\\n",
       "\t4 & IM-1272 & 0.91729 & 3 \\\\\n",
       "\t5 & IM-1272 & 0.938746 & 4 \\\\\n",
       "\t6 & IM-1272 & 0.932333 & 5 \\\\\n",
       "\t7 & IM-1272 & 0.954928 & 6 \\\\\n",
       "\t8 & IM-1272 & 0.953739 & 7 \\\\\n",
       "\t9 & IM-1273 & 0.959243 & 9 \\\\\n",
       "\t10 & IM-1273 & 0.987161 & 11 \\\\\n",
       "\t11 & IM-1273 & 0.94883 & 12 \\\\\n",
       "\t12 & IM-1273 & 0.980967 & 15 \\\\\n",
       "\t13 & IM-1273 & 0.977994 & 17 \\\\\n",
       "\t14 & IM-1276 & 0.944652 & 20 \\\\\n",
       "\t15 & IM-1276 & 0.935786 & 21 \\\\\n",
       "\t16 & IM-1276 & 0.973261 & 22 \\\\\n",
       "\t17 & IM-1276 & 0.985389 & 23 \\\\\n",
       "\t18 & IM-1276 & 0.76249 & 24 \\\\\n",
       "\t19 & IM-1276 & 0.878817 & 25 \\\\\n",
       "\t20 & IM-1276 & 0.721898 & 26 \\\\\n",
       "\t21 & IM-1276 & 0.860645 & 27 \\\\\n",
       "\t22 & IM-1276 & 0.947254 & 28 \\\\\n",
       "\t23 & IM-1276 & 0.948737 & 29 \\\\\n",
       "\t24 & IM-1276 & 0.927923 & 30 \\\\\n",
       "\t25 & IM-1291 & 0.97087 & 32 \\\\\n",
       "\t26 & IM-1291 & 0.969584 & 35 \\\\\n",
       "\t27 & IM-1291 & 0.958566 & 36 \\\\\n",
       "\t28 & IM-1291 & 0.896369 & 37 \\\\\n",
       "\t29 & IM-1291 & 0.897589 & 38 \\\\\n",
       "\t30 & IM-1291 & 0.415869 & 39 \\\\\n",
       "\t$\\dots$ & $\\dots$ & $\\dots$ & $\\dots$ \\\\\n",
       "\\end{tabular}\n"
      ],
      "text/plain": [
       "\u001b[1m70×3 DataFrame\u001b[0m\n",
       "\u001b[1m Row \u001b[0m│\u001b[1m rat     \u001b[0m\u001b[1m lambda   \u001b[0m\u001b[1m session \u001b[0m\n",
       "\u001b[1m     \u001b[0m│\u001b[90m String7 \u001b[0m\u001b[90m Float64  \u001b[0m\u001b[90m Int64   \u001b[0m\n",
       "─────┼────────────────────────────\n",
       "   1 │ IM-1272  0.968918        0\n",
       "   2 │ IM-1272  0.992563        1\n",
       "   3 │ IM-1272  0.926355        2\n",
       "   4 │ IM-1272  0.91729         3\n",
       "   5 │ IM-1272  0.938746        4\n",
       "   6 │ IM-1272  0.932333        5\n",
       "   7 │ IM-1272  0.954928        6\n",
       "   8 │ IM-1272  0.953739        7\n",
       "   9 │ IM-1273  0.959243        9\n",
       "  10 │ IM-1273  0.987161       11\n",
       "  11 │ IM-1273  0.94883        12\n",
       "  ⋮  │    ⋮        ⋮         ⋮\n",
       "  61 │ IM-1478  0.90705        96\n",
       "  62 │ IM-1478  0.938013       97\n",
       "  63 │ IM-1478  0.935849       98\n",
       "  64 │ IM-1478  0.983349       99\n",
       "  65 │ IM-1478  0.966608      100\n",
       "  66 │ IM-1532  0.918543      101\n",
       "  67 │ IM-1532  0.960463      102\n",
       "  68 │ IM-1532  0.903178      103\n",
       "  69 │ IM-1532  0.959052      104\n",
       "  70 │ IM-1532  0.975013      105\n",
       "\u001b[36m                   49 rows omitted\u001b[0m"
      ]
     },
     "execution_count": 25,
     "metadata": {},
     "output_type": "execute_result"
    }
   ],
   "source": [
    "rats = [data[data.session .== sub,:rat][1] for sub in subs];\n",
    "sessionLambdaDf = DataFrame(rat = rats,lambda = sesh_lambdas,session=subs)"
   ]
  },
  {
   "cell_type": "code",
   "execution_count": 26,
   "id": "c1007c9b-39eb-49a0-a712-8aa14b2f39db",
   "metadata": {},
   "outputs": [
    {
     "data": {
      "text/plain": [
       "\"/Volumes/Tim/Photometry/10MfRatDataSet/optLambdasBySession.csv\""
      ]
     },
     "execution_count": 26,
     "metadata": {},
     "output_type": "execute_result"
    }
   ],
   "source": [
    "CSV.write(\"/Volumes/Tim/Photometry/10MfRatDataSet/optLambdasBySession.csv\",sessionLambdaDf)"
   ]
  },
  {
   "cell_type": "code",
   "execution_count": null,
   "id": "6ae4523f-2c55-4ad5-adfa-bf95fbfeb9d2",
   "metadata": {},
   "outputs": [],
   "source": [
    "print(\"done\")"
   ]
  },
  {
   "cell_type": "code",
   "execution_count": 7,
   "id": "f0d9ab10",
   "metadata": {},
   "outputs": [
    {
     "name": "stdout",
     "output_type": "stream",
     "text": [
      "\n",
      "iter: 20\n",
      "betas: [0.55 -0.07 -1.43 -2.2 0.73 -0.14 0.78 -0.76]\n",
      "sigma: [1.04, 0.39, 0.41, 1.98, 0.17, 0.03, 0.22, 0.18]\n",
      "free energy: -242528.338895\n",
      "change: [2.3e-5, -2.1e-5, -9.0e-6, -0.002115, 2.2e-5, -3.0e-6, 6.0e-6, -1.0e-6, 0.00015, 2.2e-5, 0.000129, 0.009436, 6.9e-5, 1.6e-5, 1.5e-5, 0.0]\n",
      "max: 0.009436\n"
     ]
    }
   ],
   "source": [
    "# fit 2 component model \n",
    "\n",
    "startbetas = [0 0 0 0 0 0 0 0.]\n",
    "startsigma = [1, 1, 1, 1, 1, 1, 1, 1]\n",
    "\n",
    "(betasa,sigmaa,xa,la,ha) = em(data,subs,X,startbetas,startsigma,etliksep; emtol=emtol, full=full,maxiter=1000);"
   ]
  },
  {
   "cell_type": "code",
   "execution_count": 9,
   "id": "11eca119",
   "metadata": {},
   "outputs": [
    {
     "data": {
      "text/plain": [
       "([0.1573833122846947, 0.08692815021329896, 0.08245609215213251, 0.3225372812924188, 0.05163631287309376, 0.019705464749661356, 0.05782991883747753, 0.050294892939845674], [0.0005654221649205428, 0.42969704443301115, 8.41908865809748e-54, 2.53184617192817e-11, 7.12070052146316e-39, 1.1749752159827929e-11, 2.8454540963956194e-36, 1.7285854580370576e-43], [0.02476950698570174 -0.0003684214016176538 … 2.3404765229258165e-5 -2.214531277678762e-6; -0.0003684214016176537 0.007556503299505867 … -0.00031921625595149794 6.940080679648974e-8; … ; 2.3404765229258192e-5 -0.00031921625595149794 … 0.0033442995127492387 -4.772021120873036e-7; -2.2145312776787643e-6 6.940080679648985e-8 … -4.772021120873036e-7 0.002529576255830538])"
      ]
     },
     "execution_count": 9,
     "metadata": {},
     "output_type": "execute_result"
    }
   ],
   "source": [
    "# this computes the p value for betaV\n",
    "\n",
    "(standarderrors,pvalues,covmtx) = emerrors(data,subs,xa,X,ha,betasa,sigmaa,etliksep)"
   ]
  },
  {
   "cell_type": "code",
   "execution_count": 51,
   "id": "a6b5c2ff-b1a7-4b3c-ab73-dc53de98a6da",
   "metadata": {},
   "outputs": [
    {
     "data": {
      "text/plain": [
       "0.783911158983642"
      ]
     },
     "execution_count": 51,
     "metadata": {},
     "output_type": "execute_result"
    }
   ],
   "source": [
    "betasa[7]"
   ]
  },
  {
   "cell_type": "code",
   "execution_count": 50,
   "id": "e97726bd-cea1-4be2-9b2f-4488db60cf4b",
   "metadata": {},
   "outputs": [
    {
     "data": {
      "text/plain": [
       "0.05782991883747753"
      ]
     },
     "execution_count": 50,
     "metadata": {},
     "output_type": "execute_result"
    }
   ],
   "source": [
    "standarderrors[7]"
   ]
  },
  {
   "cell_type": "code",
   "execution_count": 10,
   "id": "69db8749",
   "metadata": {},
   "outputs": [
    {
     "data": {
      "text/plain": [
       "2.8454540963956194e-36"
      ]
     },
     "execution_count": 10,
     "metadata": {},
     "output_type": "execute_result"
    }
   ],
   "source": [
    "# here it is\n",
    "\n",
    "pvalues[7]"
   ]
  },
  {
   "cell_type": "code",
   "execution_count": 18,
   "id": "691ee944-194e-4905-92ba-2f519e0bbd64",
   "metadata": {},
   "outputs": [],
   "source": [
    "using JLD2"
   ]
  },
  {
   "cell_type": "code",
   "execution_count": 25,
   "id": "acfec092-66b9-4ddb-b1f9-79460e2a5c41",
   "metadata": {},
   "outputs": [],
   "source": [
    "save(\"/Volumes/Tim/Photometry/10MfRatDataSet/julia_model_outputs/betasa.jld2\",\"betasa\",betasa)\n",
    "save(\"/Volumes/Tim/Photometry/10MfRatDataSet/julia_model_outputs/sigmaa.jld2\",\"sigmaa\",sigmaa)\n",
    "save(\"/Volumes/Tim/Photometry/10MfRatDataSet/julia_model_outputs/xa.jld2\",\"xa\",xa)\n",
    "save(\"/Volumes/Tim/Photometry/10MfRatDataSet/julia_model_outputs/la.jld2\",\"la\",la)\n",
    "save(\"/Volumes/Tim/Photometry/10MfRatDataSet/julia_model_outputs/ha.jld2\",\"ha\",ha)"
   ]
  },
  {
   "cell_type": "code",
   "execution_count": 29,
   "id": "88b7d290",
   "metadata": {},
   "outputs": [
    {
     "name": "stdout",
     "output_type": "stream",
     "text": [
      "\n",
      "iter: 7\n",
      "betas: [0.48 0.2 0.52 -0.15 0.61 -0.75]\n",
      "sigma: [1.25, 0.52, 0.29, 0.03, 0.21, 0.18]\n",
      "free energy: -243580.163114\n",
      "change: [0.007924, 0.000311, 0.000177, -3.5e-5, 1.9e-5, -2.0e-6, 0.009999, 0.002037, 0.001359, 0.000234, 0.000372, 4.0e-6]\n",
      "max: 0.009999\n"
     ]
    }
   ],
   "source": [
    "# fit 3 reduced versions of model\n",
    "startbetas = [0 0 0 0 0 0.]\n",
    "startsigma = [1, 1, 1, 1, 1, 1]\n",
    "\n",
    "(betasb,sigmab,xb,lb,hb) = em(data,subs,X,startbetas,startsigma,etliksepNoMF; emtol=emtol, full=full,maxiter=1000);"
   ]
  },
  {
   "cell_type": "code",
   "execution_count": 30,
   "id": "0e78ccda-21ed-43c6-8638-ccc57fa06948",
   "metadata": {},
   "outputs": [],
   "source": [
    "save(\"/Volumes/Tim/Photometry/10MfRatDataSet/julia_model_outputs/betasb.jld2\",\"betasb\",betasb)\n",
    "save(\"/Volumes/Tim/Photometry/10MfRatDataSet/julia_model_outputs/sigmab.jld2\",\"sigmab\",sigmab)\n",
    "save(\"/Volumes/Tim/Photometry/10MfRatDataSet/julia_model_outputs/xb.jld2\",\"xb\",xb)\n",
    "save(\"/Volumes/Tim/Photometry/10MfRatDataSet/julia_model_outputs/lb.jld2\",\"lb\",lb)\n",
    "save(\"/Volumes/Tim/Photometry/10MfRatDataSet/julia_model_outputs/hb.jld2\",\"hb\",hb)"
   ]
  },
  {
   "cell_type": "code",
   "execution_count": 10,
   "id": "119b7c4e",
   "metadata": {},
   "outputs": [
    {
     "name": "stdout",
     "output_type": "stream",
     "text": [
      "\n",
      "iter: 12\n",
      "betas: [-0.48 -1.25 -1.29 0.74 -0.14 0.99 -0.76]\n",
      "sigma: [0.73, 0.23, 2.48, 0.11, 0.03, 0.53, 0.19]\n",
      "free energy: -230933.687864\n",
      "change: [-3.2e-5, -0.000101, -0.002211, 5.1e-5, -2.2e-5, 1.5e-5, -1.0e-6, 1.0e-6, 0.001318, 0.008537, 0.00082, 5.1e-5, 6.6e-5, 1.0e-6]\n",
      "max: 0.008537\n"
     ]
    }
   ],
   "source": [
    "startbetas = [0 0 0 0 0 0 0.]\n",
    "startsigma = [1, 1, 1, 1, 1, 1, 1]\n",
    "\n",
    "(betasc,sigmac,xc,lc,hc) = em(data,subs,X,startbetas,startsigma,etliksepNoMB; emtol=emtol, full=full,maxiter=1000);"
   ]
  },
  {
   "cell_type": "code",
   "execution_count": 31,
   "id": "078d2931",
   "metadata": {},
   "outputs": [
    {
     "name": "stdout",
     "output_type": "stream",
     "text": [
      "\n",
      "iter: 5\n",
      "betas: [-0.03 0.76 -0.04 0.39 -0.72]\n",
      "sigma: [0.7, 1.57, 0.02, 0.5, 0.17]\n",
      "free energy: -246635.773324\n",
      "change: [-0.004795, 0.000218, -0.00019, 7.5e-5, -1.0e-6, 0.000712, 0.000818, 0.000322, 0.001086, 2.0e-6]\n",
      "max: 0.004795\n"
     ]
    }
   ],
   "source": [
    "startbetas = [0 0 0 0 0.]\n",
    "startsigma = [1, 1, 1, 1, 1]\n",
    "\n",
    "(betasd,sigmad,xd,ld,hd) = em(data,subs,X,startbetas,startsigma,etliksepNoTD1MB; emtol=emtol, full=full,maxiter=1000);"
   ]
  },
  {
   "cell_type": "code",
   "execution_count": 32,
   "id": "bbf2b403-e2a5-4654-b89f-004a4345989c",
   "metadata": {
    "tags": []
   },
   "outputs": [],
   "source": [
    "save(\"/Volumes/Tim/Photometry/10MfRatDataSet/julia_model_outputs/betasd.jld2\",\"betasd\",betasd)\n",
    "save(\"/Volumes/Tim/Photometry/10MfRatDataSet/julia_model_outputs/sigmad.jld2\",\"sigmad\",sigmad)\n",
    "save(\"/Volumes/Tim/Photometry/10MfRatDataSet/julia_model_outputs/xd.jld2\",\"xd\",xd)\n",
    "save(\"/Volumes/Tim/Photometry/10MfRatDataSet/julia_model_outputs/ld.jld2\",\"ld\",ld)\n",
    "save(\"/Volumes/Tim/Photometry/10MfRatDataSet/julia_model_outputs/hd.jld2\",\"hd\",hd)"
   ]
  },
  {
   "cell_type": "code",
   "execution_count": 34,
   "id": "7a1062cd",
   "metadata": {},
   "outputs": [
    {
     "name": "stdout",
     "output_type": "stream",
     "text": [
      "241696.09787314467\n",
      "242816.92249796362\n",
      "245908.16968047104\n"
     ]
    }
   ],
   "source": [
    "# 2 component model (2nd one) is better on aggregate than all the alternatives\n",
    "\n",
    "println(iaic(xa,la,ha,betasa,sigmaa))\n",
    "println(iaic(xb,lb,hb,betasb,sigmab))\n",
    "println(iaic(xd,ld,hd,betasd,sigmad))\n"
   ]
  },
  {
   "cell_type": "code",
   "execution_count": 13,
   "id": "d327cf1e",
   "metadata": {
    "collapsed": true,
    "jupyter": {
     "outputs_hidden": true
    },
    "tags": []
   },
   "outputs": [
    {
     "name": "stdout",
     "output_type": "stream",
     "text": [
      "Subject: 1..2..3..4..5..6..7..8..9..10..11..12..13..14..15..16..17..18..19..20..21..22..23..24..25..26..27..28..29..30..31..32..33..34..35..36..37..38..39..40..41..42..43..44..45..46..47..48..49..50..51..52..53..54..55..56..57..58..59..60..61..62..63..64..65..66..67..68..69..70.."
     ]
    },
    {
     "data": {
      "text/plain": [
       "70-element Vector{Float64}:\n",
       " 5912.735828657604\n",
       " 6444.623889321575\n",
       " 5884.231789515827\n",
       " 5834.856269221079\n",
       " 3229.7074418038396\n",
       " 3266.707190377055\n",
       " 4034.5741338489347\n",
       " 3189.1107616129275\n",
       " 2152.407384595823\n",
       " 2700.300074376121\n",
       " 2565.0459276756433\n",
       " 2256.073872237307\n",
       " 2323.551667564118\n",
       "    ⋮\n",
       " 2121.1631752720045\n",
       " 2519.8562528515426\n",
       " 1645.4125784268817\n",
       " 1352.540124745271\n",
       " 1838.23784211435\n",
       " 1379.1452096735738\n",
       " 2461.2569315258543\n",
       " 6452.962959058842\n",
       " 4178.368171355523\n",
       " 4947.535625025737\n",
       " 4572.848998867438\n",
       " 3346.9245543394236"
      ]
     },
     "execution_count": 13,
     "metadata": {},
     "output_type": "execute_result"
    }
   ],
   "source": [
    "# compute cross validated model scores for each session\n",
    "\n",
    "lootdl = loocv(data,subs,xtdl,X,betastdl,sigmatdl,tdlambdalik;emtol=emtol, full=full)"
   ]
  },
  {
   "cell_type": "code",
   "execution_count": null,
   "id": "72572a64",
   "metadata": {},
   "outputs": [
    {
     "name": "stdout",
     "output_type": "stream",
     "text": [
      "Subject: 1..2..3..4..5..6..7..8..9..10..11..12..13..14..15..16..17..18..19..20..21..22..23..24..25..26..27..28..29..30..31..32..33..34..35..36..37..38..39..40..41..42..43..44..45..46..47..48..49..50..51..52..53..54..55..56..57..58..59..60..61..62..63..64..65..66..67..68..69..70.."
     ]
    },
    {
     "data": {
      "text/plain": [
       "70-element Vector{Float64}:\n",
       " 6067.641795617361\n",
       " 6667.1204550752755\n",
       " 6053.842603266715\n",
       " 6058.384956910505\n",
       " 3451.3567141827248\n",
       " 3407.21551223077\n",
       " 4285.406812609134\n",
       " 3334.1362715072632\n",
       " 2180.3525739537326\n",
       " 2780.8606314097597\n",
       " 2685.2113812375287\n",
       " 2378.732493078734\n",
       " 2403.87741180545\n",
       "    ⋮\n",
       " 2329.9640153801993\n",
       " 2716.7012945360666\n",
       " 1790.1501220153032\n",
       " 1677.7757725866502\n",
       " 2610.347100999705\n",
       " 1425.2119985701877\n",
       " 2816.7812554234574\n",
       " 6484.203583787722\n",
       " 4246.864964766661\n",
       " 5015.109903069645\n",
       " 4628.325473537063\n",
       " 3418.6152163191728"
      ]
     },
     "execution_count": 35,
     "metadata": {},
     "output_type": "execute_result"
    }
   ],
   "source": [
    "looa = loocv(data,subs,xa,X,betasa,sigmaa,etliksep;emtol=emtol, full=full)"
   ]
  },
  {
   "cell_type": "code",
   "execution_count": 41,
   "id": "3a4371f2-2e2b-4a6d-81ab-44f3ec65d407",
   "metadata": {},
   "outputs": [
    {
     "data": {
      "text/plain": [
       "\"/Volumes/Tim/Photometry/10MfRatDataSet/loocvDualModelBySession.csv\""
      ]
     },
     "execution_count": 41,
     "metadata": {},
     "output_type": "execute_result"
    }
   ],
   "source": [
    "rats = [data[data.session .== sub,:rat][1] for sub in subs];\n",
    "sessiondf = DataFrame(rat = rats, looa=looa)\n",
    "CSV.write(\"/Volumes/Tim/Photometry/10MfRatDataSet/loocvDualModelBySession.csv\",sessiondf)"
   ]
  },
  {
   "cell_type": "code",
   "execution_count": null,
   "id": "c3f5fbc1",
   "metadata": {},
   "outputs": [
    {
     "name": "stdout",
     "output_type": "stream",
     "text": [
      "Subject: 1..2..3..4..5..6..7..8..9..10..11..12..13..14..15..16..17..18..19..20..21..22..23..24..25..26..27..28..29..30..31..32..33..34..35..36..37..38..39..40..41..42..43..44..45..46..47..48..49..50..51..52..53..54..55..56..57..58..59..60..61..62..63..64..65..66..67..68..69..70.."
     ]
    },
    {
     "data": {
      "text/plain": [
       "70-element Vector{Float64}:\n",
       " 6095.167082639339\n",
       " 6704.6372410717695\n",
       " 6054.474159620529\n",
       " 6074.492400131443\n",
       " 3445.0969810423953\n",
       " 3419.806903513694\n",
       " 4319.226415681134\n",
       " 3338.8912615870076\n",
       " 2192.266436624914\n",
       " 2804.0989818792227\n",
       " 2701.165629110244\n",
       " 2392.669285860079\n",
       " 2409.9517521701064\n",
       "    ⋮\n",
       " 2365.711748638728\n",
       " 2761.933680471531\n",
       " 1796.0696940349621\n",
       " 1686.5647924764585\n",
       " 2642.7384361832273\n",
       " 1459.3264447446152\n",
       " 2873.81051277185\n",
       " 6485.39867666618\n",
       " 4265.245208412661\n",
       " 5044.818645733594\n",
       " 4646.355891645376\n",
       " 3453.8419155907764"
      ]
     },
     "execution_count": 42,
     "metadata": {},
     "output_type": "execute_result"
    }
   ],
   "source": [
    "loob = loocv(data,subs,xb,X,betasb,sigmab,etliksepNoMF;emtol=emtol, full=full)"
   ]
  },
  {
   "cell_type": "code",
   "execution_count": 44,
   "id": "fdb85b59-7bbb-4d24-9563-bb321a9ca7ee",
   "metadata": {},
   "outputs": [
    {
     "data": {
      "text/plain": [
       "\"/Volumes/Tim/Photometry/10MfRatDataSet/loocvGlobalOnlyBySession.csv\""
      ]
     },
     "execution_count": 44,
     "metadata": {},
     "output_type": "execute_result"
    }
   ],
   "source": [
    "rats = [data[data.session .== sub,:rat][1] for sub in subs];\n",
    "sessiondf = DataFrame(rat = rats, loob=loob)\n",
    "CSV.write(\"/Volumes/Tim/Photometry/10MfRatDataSet/loocvGlobalOnlyBySession.csv\",sessiondf)"
   ]
  },
  {
   "cell_type": "code",
   "execution_count": 45,
   "id": "ac32b37f",
   "metadata": {},
   "outputs": [
    {
     "name": "stdout",
     "output_type": "stream",
     "text": [
      "Subject: 1..2..3..4..5..6..7..8..9..10..11..12..13..14..15..16..17..18..19..20..21..22..23..24..25..26..27..28..29..30..31..32..33..34..35..36..37..38..39..40..41..42..43..44..45..46..47..48..49..50..51..52..53..54..55..56..57..58..59..60..61..62..63..64..65..66..67..68..69..70.."
     ]
    },
    {
     "data": {
      "text/plain": [
       "70-element Vector{Float64}:\n",
       " 6243.019021973626\n",
       " 6705.412686110986\n",
       " 6061.721054303925\n",
       " 6237.836674320178\n",
       " 3486.649499786647\n",
       " 3447.191490503531\n",
       " 4380.371840757959\n",
       " 3336.5874412031935\n",
       " 2179.3893341440303\n",
       " 2816.416042347567\n",
       " 2731.3779519663194\n",
       " 2438.0082422900923\n",
       " 2440.5901991403975\n",
       "    ⋮\n",
       " 2397.4792437369624\n",
       " 2873.9780544763225\n",
       " 1849.5831509206528\n",
       " 1724.125802158099\n",
       " 2695.080446594977\n",
       " 1522.2099289051573\n",
       " 2908.0748011166766\n",
       " 6542.925235878019\n",
       " 4280.382225466262\n",
       " 5051.088342614199\n",
       " 4676.162702022047\n",
       " 3476.9785586127814"
      ]
     },
     "execution_count": 45,
     "metadata": {},
     "output_type": "execute_result"
    }
   ],
   "source": [
    "lood = loocv(data,subs,xd,X,betasd,sigmad,etliksepNoTD1MB;emtol=emtol, full=full)"
   ]
  },
  {
   "cell_type": "code",
   "execution_count": 46,
   "id": "fb61252d-d3a1-4609-93d0-fc033ac23f6b",
   "metadata": {},
   "outputs": [
    {
     "data": {
      "text/plain": [
       "\"/Volumes/Tim/Photometry/10MfRatDataSet/loocvTDOnlyBySession.csv\""
      ]
     },
     "execution_count": 46,
     "metadata": {},
     "output_type": "execute_result"
    }
   ],
   "source": [
    "rats = [data[data.session .== sub,:rat][1] for sub in subs];\n",
    "sessiondf = DataFrame(rat = rats, lood=lood)\n",
    "CSV.write(\"/Volumes/Tim/Photometry/10MfRatDataSet/loocvTDOnlyBySession.csv\",sessiondf)"
   ]
  },
  {
   "cell_type": "code",
   "execution_count": null,
   "id": "d7e502d4-c188-4302-9dcf-335c965e45e3",
   "metadata": {
    "jupyter": {
     "source_hidden": true
    },
    "tags": []
   },
   "outputs": [],
   "source": [
    "looa"
   ]
  },
  {
   "cell_type": "code",
   "execution_count": 47,
   "id": "f3b99137-9382-4eaf-9140-1c7f7efeff2e",
   "metadata": {},
   "outputs": [
    {
     "data": {
      "text/plain": [
       "\"/Volumes/Tim/Photometry/10MfRatDataSet/loocvsByRat.csv\""
      ]
     },
     "execution_count": 47,
     "metadata": {},
     "output_type": "execute_result"
    }
   ],
   "source": [
    "rats = [data[data.session .== sub,:rat][1] for sub in subs];\n",
    "sessiondf = DataFrame(rat = rats, looa=looa,loob=loob,lood=lood)\n",
    "CSV.write(\"/Volumes/Tim/Photometry/10MfRatDataSet/loocvsBySession.csv\",sessiondf)\n",
    "ratdf = combine(groupby(sessiondf,:rat),:looa => sum,:loob => sum,:lood => sum)\n",
    "CSV.write(\"/Volumes/Tim/Photometry/10MfRatDataSet/loocvsByRat.csv\",ratdf)"
   ]
  },
  {
   "cell_type": "code",
   "execution_count": 49,
   "id": "84c571fe",
   "metadata": {},
   "outputs": [
    {
     "name": "stdout",
     "output_type": "stream",
     "text": [
      "One sample t-test\n",
      "-----------------\n",
      "Population details:\n",
      "    parameter of interest:   Mean\n",
      "    value under h_0:         0\n",
      "    point estimate:          -124.16\n",
      "    95% confidence interval: (-169.4, -78.96)\n",
      "\n",
      "Test summary:\n",
      "    outcome with 95% confidence: reject h_0\n",
      "    two-sided p-value:           0.0002\n",
      "\n",
      "Details:\n",
      "    number of observations:   9\n",
      "    t-statistic:              -6.334910969619532\n",
      "    degrees of freedom:       8\n",
      "    empirical standard error: 19.599398732139736\n",
      "One sample t-test\n",
      "-----------------\n",
      "Population details:\n",
      "    parameter of interest:   Mean\n",
      "    value under h_0:         0\n",
      "    point estimate:          -467.583\n",
      "    95% confidence interval: (-679.6, -255.5)\n",
      "\n",
      "Test summary:\n",
      "    outcome with 95% confidence: reject h_0\n",
      "    two-sided p-value:           0.0009\n",
      "\n",
      "Details:\n",
      "    number of observations:   9\n",
      "    t-statistic:              -5.085133486376718\n",
      "    degrees of freedom:       8\n",
      "    empirical standard error: 91.9509034842352\n"
     ]
    }
   ],
   "source": [
    "# these are t tests on model comparisons over rats \n",
    "print(OneSampleTTest(ratdf.looa_sum-ratdf.loob_sum))\n",
    "print(OneSampleTTest(ratdf.looa_sum-ratdf.lood_sum))"
   ]
  }
 ],
 "metadata": {
  "kernelspec": {
   "display_name": "Julia 1.6.3",
   "language": "julia",
   "name": "julia-1.6"
  },
  "language_info": {
   "file_extension": ".jl",
   "mimetype": "application/julia",
   "name": "julia",
   "version": "1.6.3"
  }
 },
 "nbformat": 4,
 "nbformat_minor": 5
}
